{
 "cells": [
  {
   "attachments": {},
   "cell_type": "markdown",
   "metadata": {},
   "source": [
    "# Errores y excepciones en Python\n"
   ]
  },
  {
   "cell_type": "markdown",
   "metadata": {},
   "source": [
    "## Errores en Python"
   ]
  },
  {
   "cell_type": "markdown",
   "metadata": {},
   "source": [
    "En un programa podemos encontrarnos con distintos tipos de errores pero a grandes rasgos podemos decir que todos los errores pertenecen a una de las siguientes categorías."
   ]
  },
  {
   "attachments": {},
   "cell_type": "markdown",
   "metadata": {},
   "source": [
    "### Errores de sintaxis\n",
    "\n",
    "Estos errores son seguramente los más simples de resolver, pues son detectados por el intérprete (o por el compilador, según el tipo de lenguaje que estemos utilizando) al procesar el código fuente y generalmente son consecuencia de equivocaciones al escribir el programa. En el caso de Python estos errores son indicados con un mensaje `SyntaxError`. Por ejemplo, si trabajando con Python intentamos definir una función y en lugar de `def` escribimos `dev`."
   ]
  },
  {
   "cell_type": "markdown",
   "metadata": {},
   "source": [
    "#### Ejemplo\n",
    "\n",
    "Si al definir una función en Python escribimos `dev` en lugar de `def`, el intérprete mostrará un error de sintaxis:"
   ]
  },
  {
   "cell_type": "code",
   "execution_count": null,
   "metadata": {},
   "outputs": [],
   "source": [
    "dev mi_funcion():  # Error: \"dev\" no es una palabra clave válida en Python\n",
    "    print(\"Hola\")"
   ]
  },
  {
   "cell_type": "markdown",
   "metadata": {},
   "source": [
    "### Errores semánticos\n",
    "\n",
    "Estos errores ocurren cuando un programa, aunque no genere mensajes de error, no produce el resultado esperado. Suelen ser causados por un algoritmo incorrecto, una mala interpretación del problema o la omisión de una instrucción clave.\n",
    "\n",
    "Dentro de estos, los **errores lógicos** son especialmente problemáticos, ya que son difíciles de detectar. Se deben a un razonamiento incorrecto en el algoritmo o en la implementación del código.Los errores lógicos son un tipo de errores semánticos, ya que el programa se ejecuta sin fallas de sintaxis ni errores de ejecución, pero el resultado obtenido no es el esperado. Ocurren cuando la lógica del código es incorrecta debido a errores en el algoritmo o en la formulación del problema."
   ]
  },
  {
   "cell_type": "code",
   "execution_count": null,
   "metadata": {},
   "outputs": [],
   "source": [
    "numerador = int(input(\"Ingrese el numerador: \"))\n",
    "denominador = int(input(\"Ingrese el denominador: \"))\n",
    "\n",
    "resultado = numerador / denominador  # Error si denominador es 0\n",
    "print(\"Resultado:\", resultado)"
   ]
  },
  {
   "cell_type": "markdown",
   "metadata": {},
   "source": [
    "### Errores de ejecución\n",
    "También conocidos como **errores en tiempo de ejecución**, ocurren mientras el programa está en ejecución y pueden deberse a diversas causas. Algunas de las más comunes incluyen:  \n",
    "\n",
    "- **Errores de entrada del usuario:** cuando se proporciona un dato en un formato inesperado, por ejemplo, ingresar una cadena en lugar de un número.  \n",
    "- **Errores de acceso a estructuras de datos:** como intentar acceder a un índice fuera del rango de una lista.  \n",
    "- **Errores matemáticos:** como una división por cero.  \n",
    "- **Errores relacionados con recursos externos:** como intentar leer un archivo que no existe o está dañado.  \n"
   ]
  },
  {
   "cell_type": "markdown",
   "metadata": {},
   "source": [
    "#### Ejemplo\n",
    "\n",
    "Si el usuario ingresa un valor no numérico cuando se espera un número entero, el programa fallará:"
   ]
  },
  {
   "cell_type": "code",
   "execution_count": null,
   "metadata": {},
   "outputs": [],
   "source": [
    "edad = int(input(\"Ingrese su edad: \"))  # Error si el usuario ingresa \"veinte\" en lugar de 20\n",
    "print(\"Tu edad es:\", edad)"
   ]
  },
  {
   "attachments": {},
   "cell_type": "markdown",
   "metadata": {},
   "source": [
    "Tanto a los errores de sintaxis como a los semánticos se los puede detectar y corregir durante la construcción del programa ayudados por el intérprete y la ejecución de pruebas. Pero no ocurre esto con los **errores de ejecución** ya que **no siempre es posible saber cuando ocurrirán** y puede resultar muy complejo (o incluso casi imposible) reproducirlos. Es por ello nos centraremos en cómo **preparar nuestros programas para lidiar con este tipo de errores**."
   ]
  },
  {
   "attachments": {},
   "cell_type": "markdown",
   "metadata": {},
   "source": [
    "Los errores de ejecución son llamados comúnmente **excepciones**. Durante la ejecución de un programa, si dentro de una función surge una excepción y la función no la *maneja*, la excepción se propaga hacia la función que la invocó, si esta otra tampoco la *maneja*, la excepción continua propagándose hasta llegar a la función inicial del programa y si esta tampoco la *maneja* se interrumpe la ejecución del programa."
   ]
  },
  {
   "attachments": {},
   "cell_type": "markdown",
   "metadata": {},
   "source": [
    "## Excepciones en Python"
   ]
  },
  {
   "attachments": {},
   "cell_type": "markdown",
   "metadata": {},
   "source": [
    "En programación, una **excepción** es un error detectado durante la ejecución del programa que interrumpe su flujo normal. Python proporciona un mecanismo para **manejar excepciones** y evitar que el programa se detenga abruptamente."
   ]
  },
  {
   "cell_type": "markdown",
   "metadata": {},
   "source": [
    "### Lanzamiento de excepciones en Python\n",
    "Cuando ocurre un error en tiempo de ejecución, Python genera una excepción y muestra un mensaje de error. Algunos ejemplos de excepciones comunes son:  \n",
    "\n",
    "- `ZeroDivisionError`: Se genera cuando intentamos dividir por cero.  \n",
    "- `ValueError`: Ocurre cuando se intenta convertir un tipo de dato inválido.  \n",
    "- `IndexError`: Se produce al acceder a un índice fuera del rango de una lista.  \n",
    "- `KeyError`: Ocurre al intentar acceder a una clave inexistente en un diccionario.  \n",
    "- `TypeError`: Se genera cuando se realizan operaciones con tipos de datos incompatibles.\n",
    "- `FileNotFoundError`: Se produce cuando se intenta abrir un archivo que no existe.\n",
    "- `ZeroDivisionError`: Se produce cuando se intenta dividir por cero."
   ]
  },
  {
   "cell_type": "markdown",
   "metadata": {},
   "source": [
    "#### Ejemplo"
   ]
  },
  {
   "attachments": {},
   "cell_type": "markdown",
   "metadata": {},
   "source": [
    "Imaginemos que tenemos el siguiente código con dos variables `a` y `b` y realizamos su división `a/b`."
   ]
  },
  {
   "cell_type": "code",
   "execution_count": null,
   "metadata": {},
   "outputs": [],
   "source": [
    "a = 4\n",
    "b = 2\n",
    "c = a/b"
   ]
  },
  {
   "attachments": {},
   "cell_type": "markdown",
   "metadata": {},
   "source": [
    "Pero imaginemos ahora que por cualquier motivo las variables tienen otro valor, y que por ejemplo `b` tiene el valor `0`. **Si intentamos hacer la división entre cero**, este programa dará un error y su ejecución terminará de manera abrupta."
   ]
  },
  {
   "cell_type": "code",
   "execution_count": null,
   "metadata": {},
   "outputs": [],
   "source": [
    "a = 4\n",
    "b = 0\n",
    "print(a/b)"
   ]
  },
  {
   "attachments": {},
   "cell_type": "markdown",
   "metadata": {},
   "source": [
    "Ese *error* que decimos que ha ocurrido es lanzado por Python ya que la división entre cero es una operación que matemáticamente no está definida. Se trata de la excepción` ZeroDivisionError`. "
   ]
  },
  {
   "cell_type": "markdown",
   "metadata": {},
   "source": [
    "#### Ejemplo"
   ]
  },
  {
   "attachments": {},
   "cell_type": "markdown",
   "metadata": {},
   "source": [
    "¿Qué pasaría si intentásemos sumar un número con un texto? Evidentemente esto no tiene ningún sentido, y Python define una excepción para esto llamada `TypeError`."
   ]
  },
  {
   "cell_type": "code",
   "execution_count": null,
   "metadata": {},
   "outputs": [],
   "source": [
    "print(2 + \"2\")"
   ]
  },
  {
   "cell_type": "code",
   "execution_count": null,
   "metadata": {},
   "outputs": [],
   "source": [
    "x=int(input('Ingresa un numero'))"
   ]
  },
  {
   "attachments": {},
   "cell_type": "markdown",
   "metadata": {},
   "source": [
    "**Es muy importante controlar las excepciones**, porque por muchas comprobaciones que realicemos es posible que en algún momento ocurra una, y si no se hace nada el programa se detendrá."
   ]
  },
  {
   "attachments": {},
   "cell_type": "markdown",
   "metadata": {},
   "source": [
    "**¿Puedes imaginar que en un avión, el metro de la CDMX o un cajero automático ocurra un error y se detenga por completo?**"
   ]
  },
  {
   "attachments": {},
   "cell_type": "markdown",
   "metadata": {},
   "source": [
    "### Manejo de excepciones"
   ]
  },
  {
   "attachments": {},
   "cell_type": "markdown",
   "metadata": {},
   "source": [
    "Una primera aproximación al control de excepciones podría ser el siguiente ejemplo. Podemos realizar una comprobación manual de que no estamos dividiendo por cero, para así evitar tener un error tipo `ZeroDivisionError`."
   ]
  },
  {
   "cell_type": "code",
   "execution_count": null,
   "metadata": {},
   "outputs": [],
   "source": [
    "a = 5\n",
    "b = 0\n",
    "if b!=0:\n",
    "    print(a/b)\n",
    "else:\n",
    "    print(\"No se puede dividir!\")"
   ]
  },
  {
   "attachments": {},
   "cell_type": "markdown",
   "metadata": {},
   "source": [
    "Para el **manejo de excepciones** Python provee ciertas palabras reservadas, que nos permiten manejar las excepciones que puedan surgir y tomar acciones de recuperación para evitar la interrupción del programa o, al menos, para realizar algunas acciones adicionales antes de interrumpir el programa."
   ]
  },
  {
   "attachments": {},
   "cell_type": "markdown",
   "metadata": {},
   "source": [
    "En el caso de Python, el manejo de excepciones se hace mediante los bloques que utilizan las sentencias `try`, `except` y `finally`"
   ]
  },
  {
   "attachments": {},
   "cell_type": "markdown",
   "metadata": {},
   "source": [
    "### Sentencias `try` - `except`"
   ]
  },
  {
   "cell_type": "markdown",
   "metadata": {},
   "source": [
    "Las instrucciones `try`...`except` en Python son un mecanismo fundamental para el manejo de excepciones, que son errores que ocurren durante la ejecución de un programa. Permiten que tu programa continúe funcionando incluso si se produce un error inesperado, en lugar de detenerse abruptamente."
   ]
  },
  {
   "cell_type": "markdown",
   "metadata": {},
   "source": [
    "La estructura básica de un bloque `try`...`except` es la siguiente:"
   ]
  },
  {
   "cell_type": "markdown",
   "metadata": {},
   "source": [
    "```python\n",
    "try:\n",
    "    # Código que puede generar una excepción\n",
    "except TipoDeExcepcion:\n",
    "    # Código para manejar la excepción"
   ]
  },
  {
   "cell_type": "markdown",
   "metadata": {},
   "source": [
    "* **Bloque try:**  Contiene el bloque de código que puede *ocasionar* o *levantar* una excepción o un error. Se utiliza el término levantar para referirse a la acción de generar una excepción.\n",
    "  \n",
    "* **Excepción:** Si ocurre una excepción dentro del bloque `try`, la ejecución del bloque se interrumpe inmediatamente.\n",
    "  \n",
    "* **Bloque except:** Se encarga de capturar la excepción y nos da la oportunidad de procesarla mostrando por ejemplo un mensaje adecuado al usuario. **Contiene el bloque de código que se ejecutará si y sólo si un error es detectado** en nuestro código. \n",
    "  \n",
    "* **Manejo de la excepción:** Si se encuentra un bloque `except` coincidente, el código dentro de ese bloque se ejecuta.\n",
    "  \n",
    "<!-- * **Continuación:** Si no se encuentra un bloque `except` coincidente, la excepción no se maneja y el programa se detiene. -->"
   ]
  },
  {
   "cell_type": "markdown",
   "metadata": {},
   "source": [
    "Algunos ejemplos de `TipodeExcepcion` comunes son:  \n",
    "\n",
    "- `ZeroDivisionError`: Se genera cuando intentamos dividir por cero.  \n",
    "  \n",
    "- `ValueError`: Ocurre cuando se intenta convertir un tipo de dato inválido.  \n",
    "  \n",
    "- `IndexError`: Se produce al acceder a un índice fuera del rango de una lista.  \n",
    "  \n",
    "- `KeyError`: Ocurre al intentar acceder a una clave inexistente en un diccionario.  \n",
    "  \n",
    "- `TypeError`: Se genera cuando se realizan operaciones con tipos de datos incompatibles.\n",
    "  \n",
    "- `FileNotFoundError`: Se produce cuando se intenta abrir un archivo que no existe.\n",
    "  \n",
    "- `ZeroDivisionError`: Se produce cuando se intenta dividir por cero.\n",
    "  \n",
    "- `IOError` (Input/Output Error) Se produce en Python para manejar errores relacionados con operaciones de entrada y salida, como la lectura o escritura en archivos."
   ]
  },
  {
   "attachments": {},
   "cell_type": "markdown",
   "metadata": {},
   "source": [
    "Las excepciones que hemos visto antes, pueden ser capturadas y manejadas adecuadamente, sin que el programa se detenga. "
   ]
  },
  {
   "cell_type": "markdown",
   "metadata": {},
   "source": [
    "#### Ejemplo "
   ]
  },
  {
   "cell_type": "markdown",
   "metadata": {},
   "source": [
    "Veamos un ejemplo con la división entre cero."
   ]
  },
  {
   "cell_type": "code",
   "execution_count": null,
   "metadata": {},
   "outputs": [],
   "source": [
    "a = 5; b = 0\n",
    "try:\n",
    "    c = a/b\n",
    "    print(c)\n",
    "except:\n",
    "    print(\"¡No se ha podido realizar la división, division entre cero!\")"
   ]
  },
  {
   "attachments": {},
   "cell_type": "markdown",
   "metadata": {},
   "source": [
    "En este caso, se levantó la excepción `ZeroDivisionError` cuando se quiso hacer la división. Para evitar que se levante la excepción y se detenga la ejecución del programa, se utiliza el bloque `try-except`."
   ]
  },
  {
   "attachments": {},
   "cell_type": "markdown",
   "metadata": {},
   "source": [
    "En este caso no verificamos que `b!=0`. Directamente intentamos realizar la división y en el caso de que se lance la excepción `ZeroDivisionError`, la ***capturamos*** y la ***tratamos*** adecuadamente."
   ]
  },
  {
   "attachments": {},
   "cell_type": "markdown",
   "metadata": {},
   "source": [
    "\n",
    "Por ejemplo, las siguientes líneas de código siguiente nos dará error si el usuario introduce letras en lugar de números:  "
   ]
  },
  {
   "cell_type": "code",
   "execution_count": null,
   "metadata": {},
   "outputs": [],
   "source": [
    "num=int(input('¿Cuantos años tienes?'))\n",
    "print(f'Tienes  {num} años')"
   ]
  },
  {
   "attachments": {},
   "cell_type": "markdown",
   "metadata": {},
   "source": [
    "Por lo tanto podemos implementar la sentencia `try-except`:"
   ]
  },
  {
   "cell_type": "code",
   "execution_count": null,
   "metadata": {},
   "outputs": [],
   "source": [
    "try:\n",
    "    num=int(input('¿Cuantos años tienes?'))\n",
    "    print(f'Tienes  {num} años')\n",
    "except:\n",
    "    print('Tipo de dato incorrecto')\n",
    "    num=int(input('¿Cuantos años tienes?'))\n",
    "    print(f'Tienes  {num} años')"
   ]
  },
  {
   "cell_type": "code",
   "execution_count": null,
   "metadata": {},
   "outputs": [],
   "source": [
    "from IPython.display import clear_output\n",
    "\n",
    "def imprimir():\n",
    "    try:\n",
    "        clear_output(wait=True) \n",
    "        num=int(input('¿Cuantos años tienes?'))\n",
    "        print(f'Tienes  {num} años')\n",
    "    except:\n",
    "        print(\"Entradas no válidas\")\n",
    "        imprimir()"
   ]
  },
  {
   "cell_type": "code",
   "execution_count": null,
   "metadata": {},
   "outputs": [],
   "source": [
    "imprimir()"
   ]
  },
  {
   "attachments": {},
   "cell_type": "markdown",
   "metadata": {},
   "source": [
    "### Multiples excepciones"
   ]
  },
  {
   "attachments": {},
   "cell_type": "markdown",
   "metadata": {},
   "source": [
    "Dado que dentro de un mismo bloque `try` pueden producirse excepciones de distinto tipo, es posible utilizar varios bloques `except`, cada uno para capturar un tipo distinto de excepción."
   ]
  },
  {
   "cell_type": "markdown",
   "metadata": {},
   "source": [
    "```python \n",
    "try:\n",
    "    # Código que puede generar excepciones\n",
    "except TypeError:\n",
    "    # Manejar TypeError\n",
    "except ValueError:\n",
    "    # Manejar ValueError\n",
    "except:\n",
    "    # Manejar cualquier otra excepción"
   ]
  },
  {
   "attachments": {},
   "cell_type": "markdown",
   "metadata": {},
   "source": [
    "En algunas ocasiones dentro de un mismo bloque `try` pueden producirse excepciones de distinto tipo y será necesario agregar **multiples excepciones**, para esto es posible utilizar varios bloques `except`, cada uno para capturar un tipo *distinto de excepción*. \n",
    "\n",
    "Esto se hace especificando a continuación de la sentencia `except` el nombre de la excepción (Python cuenta con palabras reservadas para *clasificar el tipo de error*) que se pretende capturar. Un mismo bloque `except` puede atrapar varios tipos de excepciones, lo cual se hace especificando los nombres de la excepciones separados por comas y entre parentesis a continuación de la palabra `except`. Es importante destacar que si bien luego de un bloque `try` puede haber varios bloques `except`, se ejecutará, a lo más uno de ellos."
   ]
  },
  {
   "cell_type": "code",
   "execution_count": null,
   "metadata": {},
   "outputs": [],
   "source": [
    "try:\n",
    "    c = 5/0      \n",
    "    #d = 2 + \"Hola\"\n",
    "except ZeroDivisionError:\n",
    "    print(\"No se puede dividir entre cero!\")\n",
    "except TypeError:\n",
    "    print(\"Problema de tipos!\")"
   ]
  },
  {
   "attachments": {},
   "cell_type": "markdown",
   "metadata": {},
   "source": [
    "Puedes también hacer que un determinado número de excepciones se traten de la misma manera con el mismo bloque de código. Sin embargo suele ser más interesante tratar a diferentes excepciones de diference manera."
   ]
  },
  {
   "cell_type": "code",
   "execution_count": null,
   "metadata": {},
   "outputs": [],
   "source": [
    "try:\n",
    "    #c = 5/0       \n",
    "    d = 2 + \"Hola\" \n",
    "except (ZeroDivisionError, TypeError):\n",
    "    print(\"Excepcion ZeroDivisionError o TypeError\")"
   ]
  },
  {
   "attachments": {},
   "cell_type": "markdown",
   "metadata": {},
   "source": [
    "### Capturar cualquier excepción\n",
    "\n",
    "Si no sabemos qué tipo de error puede ocurrir, podemos usar `except Exception` para capturar cualquier excepción. De hecho todas las excepciones heredan de `Exception`."
   ]
  },
  {
   "cell_type": "code",
   "execution_count": null,
   "metadata": {},
   "outputs": [],
   "source": [
    "try:\n",
    "    #c = 5/0       \n",
    "    d = 2 + \"Hola\" \n",
    "except Exception:\n",
    "    print(\"Ha ocurrido una excepción\")"
   ]
  },
  {
   "attachments": {},
   "cell_type": "markdown",
   "metadata": {},
   "source": [
    "No obstante hay una forma de saber que excepción ha sido la que ha ocurrido."
   ]
  },
  {
   "cell_type": "code",
   "execution_count": null,
   "metadata": {},
   "outputs": [],
   "source": [
    "try:\n",
    "    d = 2 + \"Hola\" \n",
    "except Exception as ex:\n",
    "    print(\"Ha habido una excepción\", type(ex))"
   ]
  },
  {
   "cell_type": "markdown",
   "metadata": {},
   "source": [
    "#### Ejercicio\n",
    "\n",
    "Escribe una programa en Python que solicite al usuario ingresar la edad del asegurado y la suma asegurada, luego determina la **prima de un seguro de vida** con base en la edad del asegurado y la suma asegurada mediante la siguiente fórmula:  \n",
    "\n",
    "$$\\text{prima} = \\text{suma asegurada} \\times \\frac{\\text{edad}}{1000}$$\n",
    "\n",
    "El programa debe manejar  las siguientes  excepciones, mandando un mensaje adecuado al usuario.\n",
    "\n",
    "- `ValueError` si el usuario ingresa un valor no numérico.  \n",
    "\n",
    "- `ZeroDivisionError` si la edad ingresada es 0.  \n",
    "  \n",
    "- `Exception` para cualquier otro error inesperado. "
   ]
  },
  {
   "attachments": {},
   "cell_type": "markdown",
   "metadata": {},
   "source": [
    "### Uso de `else`"
   ]
  },
  {
   "attachments": {},
   "cell_type": "markdown",
   "metadata": {},
   "source": [
    "A la sentencia `try-except` le podemos añadir un bloque más, `else`. Dicho bloque **se ejecutará si no ha ocurrido ninguna excepción**. Fíjate en la diferencia entre los siguientes códigos."
   ]
  },
  {
   "cell_type": "code",
   "execution_count": null,
   "metadata": {},
   "outputs": [],
   "source": [
    "try:\n",
    "    x = 2/5\n",
    "    #x = 2/0\n",
    "except:\n",
    "    print(\"Entra en except, ha ocurrido una excepción\")\n",
    "else:\n",
    "    print(\"Entra en else, no ha ocurrido ninguna excepción\")"
   ]
  },
  {
   "attachments": {},
   "cell_type": "markdown",
   "metadata": {},
   "source": [
    "### Uso de `finally`"
   ]
  },
  {
   "attachments": {},
   "cell_type": "markdown",
   "metadata": {},
   "source": [
    "En Python, la instrucción `finally` se usa junto con un bloque `try`-`except`. La particularidad del bloque `finally` es que  **ejecutar código siempre, sin importar si ocurrió una excepción o no**. Se usa típicamente para liberar recursos o realizar acciones  que son típicamente acciones de limpiezaque deben ejecutarse sin importar lo que pase dentro del `try`. Si hay un bloque `except`, no es necesario que esté presente el finally, y es posible tener un bloque `try` sólo con finally, sin `except`.\n",
    "\n"
   ]
  },
  {
   "attachments": {},
   "cell_type": "markdown",
   "metadata": {},
   "source": [
    "Este bloque se suele usar si queremos **ejecutar algún tipo de acción de limpieza**. Si por ejemplo estamos escribiendo datos en un fichero pero ocurre una excepción, tal vez queramos borrar el contenido que hemos escrito con anterioridad, para no dejar datos inconsistenes en el fichero."
   ]
  },
  {
   "cell_type": "markdown",
   "metadata": {},
   "source": [
    "#### Ejemplo"
   ]
  },
  {
   "attachments": {},
   "cell_type": "markdown",
   "metadata": {},
   "source": [
    "En el siguiente código vemos un ejemplo. Haya o no haya excepción el código que haya dentro de finally será ejecutado."
   ]
  },
  {
   "cell_type": "code",
   "execution_count": null,
   "metadata": {},
   "outputs": [],
   "source": [
    "try:\n",
    "    x = 2/1\n",
    "except:\n",
    "    print(\"Entra en except, ha ocurrido una excepción\")\n",
    "finally:\n",
    "    print(\"Entra en finally, se ejecuta el bloque finally\")"
   ]
  },
  {
   "attachments": {},
   "cell_type": "markdown",
   "metadata": {},
   "source": [
    "En resumen veamos como actúa Python al encontrarse con estos bloques. \n",
    "\n",
    "Python comienza a ejecutar las instrucciones que se encuentran dentro de un bloque `try`. Si durante la ejecución de esas instrucciones se levanta una *excepción*, Python interrumpe la ejecución en el punto exacto en que surgió la excepción y pasa a la ejecución del bloque `except` correspondiente.\n",
    "\n",
    "Para ello, Python verifica uno a uno los bloques `except` y si encuentra alguno cuyo tipo haga referencia al tipo de excepción levantada, comienza a ejecutarlo. Sino encuentra ningún bloque del tipo correspondiente pero hay un bloque `except` sin tipo, lo ejecuta. Al terminar de ejecutar el bloque correspondiente, se pasa a la ejecución del bloque `finally`, si se encuentra definido.\n",
    "\n",
    "Si, por otra parte, no hay problemas durante la ejecución del bloque `try`, se completa la ejecución del bloque, y luego se pasa directamente a la ejecución del bloque `finally` (si es que está definido)."
   ]
  },
  {
   "attachments": {},
   "cell_type": "markdown",
   "metadata": {},
   "source": [
    "### Ejemplo"
   ]
  },
  {
   "attachments": {},
   "cell_type": "markdown",
   "metadata": {},
   "source": [
    "Supongamos que tenemos que escribir un  programa que tiene que procesar cierta información ingresada por el usuario y guardarla en un archivo. \n",
    "\n",
    "Dado que el acceso a archivos puede levantar excepciones, siempre deberíamos colocar el código de manipulación de archivos dentro de un bloque `try`. \n",
    "\n",
    "Luego deberíamos colocar un bloque `except` que atrape una excepción del tipo `IOError`, que es el **tipo de excepciones que lanzan la funciones de manipulación de archivos**. \n",
    "\n",
    "También  podríamos agregar un bloque `except` sin tipo por si surge alguna otra excepción. \n",
    "\n",
    "Finalmente deberíamos agregar un bloque `finally` para cerrar el archivo, haya surgido o no una excepción."
   ]
  },
  {
   "cell_type": "code",
   "execution_count": null,
   "metadata": {},
   "outputs": [],
   "source": [
    "try:\n",
    "    archivo = open('../Python/Archivos/archivo.txt','r')\n",
    "except IOError:\n",
    "    print (\"Error de entrada/salida.\")\n",
    "except:\n",
    "    # procesar la excepción\n",
    "    print('excepcion')\n",
    "finally:\n",
    "    if not(archivo.closed):\n",
    "        archivo.close()"
   ]
  },
  {
   "attachments": {},
   "cell_type": "markdown",
   "metadata": {},
   "source": [
    "### Instrucción `Raise()`"
   ]
  },
  {
   "cell_type": "markdown",
   "metadata": {},
   "source": [
    "La instrucción `raise` en Python se utiliza para generar (\"lanzar\") excepciones de manera explícita. Es útil cuando se desea manejar errores de forma personalizada o cuando se quiere interrumpir la ejecución debido a una condición inesperada.\n",
    "\n",
    "La instrucción `raise` permite lanzar excepciones de forma manual. Se pueden usar excepciones personalizadas para mejorar el control de errores. Es útil en aplicaciones como cálculos actuariales, donde es importante validar los datos antes de usarlos.\n"
   ]
  },
  {
   "cell_type": "markdown",
   "metadata": {},
   "source": [
    "### Sintaxis básica\n",
    "\n",
    "```python\n",
    "raise NombreDeLaExcepcion(\"Mensaje opcional\")\n",
    "```"
   ]
  },
  {
   "cell_type": "code",
   "execution_count": null,
   "metadata": {},
   "outputs": [],
   "source": [
    "def dividir(dividendo, divisor):\n",
    "    try:\n",
    "        resultado = dividendo / divisor\n",
    "        return resultado\n",
    "    except ZeroDivisionError:\n",
    "        raise ZeroDivisionError(\"El divisor no puede ser cero\")"
   ]
  },
  {
   "cell_type": "code",
   "execution_count": null,
   "metadata": {},
   "outputs": [],
   "source": [
    "dividir(2,0)"
   ]
  },
  {
   "cell_type": "markdown",
   "metadata": {},
   "source": [
    "Podemos ser nosotros los que lancemos `ZeroDivisionError` o `NameError` usando `raise`:"
   ]
  },
  {
   "cell_type": "code",
   "execution_count": null,
   "metadata": {},
   "outputs": [],
   "source": [
    "raise ZeroDivisionError(\"Informacion de la excepcion: Por ejemplo Division entre cero\")"
   ]
  },
  {
   "cell_type": "markdown",
   "metadata": {},
   "source": [
    "O podemos lanzar otro de tipo `NameError`."
   ]
  },
  {
   "cell_type": "code",
   "execution_count": null,
   "metadata": {},
   "outputs": [],
   "source": [
    "raise NameError(\"Información de la excepción\")"
   ]
  },
  {
   "cell_type": "markdown",
   "metadata": {},
   "source": [
    "El string que hemos pasado se imprime a continuación de la excepción. Se puede llamar también sin ningún parámetro como se hace a continuación.\n"
   ]
  },
  {
   "cell_type": "code",
   "execution_count": null,
   "metadata": {},
   "outputs": [],
   "source": [
    "raise ZeroDivisionError"
   ]
  },
  {
   "cell_type": "code",
   "execution_count": null,
   "metadata": {},
   "outputs": [],
   "source": [
    "try:\n",
    "    x = int(\"hola\")  # Esto generará un ValueError\n",
    "except ValueError:\n",
    "    print(\"Se detectó un error al convertir a entero\")\n",
    "    raise  # Relanza la misma excepción"
   ]
  },
  {
   "cell_type": "code",
   "execution_count": null,
   "metadata": {},
   "outputs": [],
   "source": [
    "try:\n",
    "    raise ValueError(\"Número no válido\")\n",
    "except ValueError as e:\n",
    "    print(f\"Error capturado: {e}\")"
   ]
  },
  {
   "cell_type": "markdown",
   "metadata": {},
   "source": [
    "#### Ejercicio\n",
    "\n",
    "\n",
    "Escribe un programa en Python que solicite al usuario ingresar el número de póliza y el monto del siniestro. Luego, determina la prima del seguro con base en la siguiente fórmula:  \n",
    "$$\\text{prima} = \\text{monto siniestro} \\times 1.10$$\n",
    "\n",
    "donde el 10% adicional representa un margen de seguridad.  \n",
    "\n",
    "El programa debe manejar las siguientes excepciones utilizando  `try-except` ,  `else` ,  `finally`  y  `raise` , mandando un mensaje adecuado al usuario:  \n",
    "\n",
    "-  `ValueError`  si el usuario ingresa un valor no numérico para el número de póliza o el monto del siniestro. \n",
    "   \n",
    "-  `MontoInvalidoError`  (excepción personalizada) si el monto del siniestro es negativo o cero. Esta excepción debe lanzarse con `raise`.  \n",
    "  \n",
    "-  `PolizaInvalidaError`  (excepción personalizada) si el número de póliza es negativo o no es un número entero. Esta excepción debe lanzarse con `raise`.  \n",
    "  \n",
    "-  `Exception`  para cualquier otro error inesperado. "
   ]
  }
 ],
 "metadata": {
  "kernelspec": {
   "display_name": "base",
   "language": "python",
   "name": "python3"
  },
  "language_info": {
   "codemirror_mode": {
    "name": "ipython",
    "version": 3
   },
   "file_extension": ".py",
   "mimetype": "text/x-python",
   "name": "python",
   "nbconvert_exporter": "python",
   "pygments_lexer": "ipython3",
   "version": "3.9.13"
  },
  "orig_nbformat": 4
 },
 "nbformat": 4,
 "nbformat_minor": 2
}
