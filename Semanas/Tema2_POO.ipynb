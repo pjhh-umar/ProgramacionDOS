{
 "cells": [
  {
   "attachments": {},
   "cell_type": "markdown",
   "metadata": {},
   "source": [
    "# Programación Orientada a Objetos en Python"
   ]
  },
  {
   "attachments": {},
   "cell_type": "markdown",
   "metadata": {},
   "source": [
    "Empecemos con una introducción básica a la **Programación Orientada a Objetos** **POO** (**OOP** en inglés). Se trata de un paradigma de programación introducido en los años 1970s, pero que no se hizo popular hasta años más tarde."
   ]
  },
  {
   "attachments": {},
   "cell_type": "markdown",
   "metadata": {},
   "source": [
    "La *Programación Orientada a Objetos* es un paradigma que organiza el código en clases y objetos, permitiendo estructurar programas de manera más modular y reutilizable.\n",
    "\n",
    "En Python, todo es un objeto, lo que hace que este paradigma sea muy natural dentro del lenguaje.\n",
    "\n",
    "Este paradigma de programación nos permite organizar el código de una manera que se asemeja bastante a como pensamos en la vida real, utilizando ***clases***. Estas nos permiten agrupar un conjunto de variables y funciones."
   ]
  },
  {
   "attachments": {},
   "cell_type": "markdown",
   "metadata": {},
   "source": [
    "Cosas de lo más cotidianas como un perro o un coche pueden ser representadas con *clases*. Estas *clases* tienen diferentes características, que en el caso del perro podrían ser la *edad*, el *nombre* o la *raza*. Llamaremos a estas características, ***atributos***.\n",
    "\n",
    "Por otro lado, las clases tienen un conjunto de funcionalidades o cosas que pueden hacer. En el caso del perro podría ser caminar o ladrar. Llamaremos a estas funcionalidades ***métodos***.\n",
    "\n",
    "Por último, pueden existir diferentes tipos de perro. Podemos tener uno que se llama _Rocky_ o el del vecino que se llama _Bobby_. Llamaremos a estos diferentes tipos de perro ***objetos***. \n",
    "\n",
    "Es decir, el concepto abstracto de perro es la clase, pero Toby o cualquier otro perro particular será el objeto."
   ]
  },
  {
   "cell_type": "markdown",
   "metadata": {},
   "source": [
    "**Conceptos Clave de POO**\n",
    "\n",
    "* **Clases**: Son plantillas para crear objetos. Definen atributos (datos) y métodos (funciones).\n",
    "* **Objetos**: Son instancias concretas de una clase.\n",
    "\n",
    "* **Encapsulamiento**: Restricción del acceso a los atributos y métodos para proteger la información.\n",
    "\n",
    "* **Herencia**: Permite que una clase hija herede atributos y métodos de una clase padre.\n",
    "\n",
    "* **Polimorfismo**: Permite que diferentes clases compartan métodos con el mismo nombre, pero con comportamientos distintos.\n"
   ]
  },
  {
   "attachments": {},
   "cell_type": "markdown",
   "metadata": {},
   "source": [
    "<!-- La programación orientada a objetos está basada en 6 principios básicos:\n",
    "\n",
    "* **Herencia**\n",
    "\n",
    "* **Cohesión**\n",
    "\n",
    "* **Abstracción**\n",
    "\n",
    "* **Polimorfismo**\n",
    "\n",
    "* **Acoplamiento**\n",
    "\n",
    "* **Encapsulamiento** -->\n"
   ]
  },
  {
   "attachments": {},
   "cell_type": "markdown",
   "metadata": {},
   "source": [
    "**Python es un lenguaje de programación orientado a objetos** lo que esto significa es que casi todo es un ***objeto*** en Python.  Cuando creas una variable y le asignas un valor entero, ese valor es un objeto; una *función* es un objeto; las *listas, tuplas, diccionarios, conjuntos*,... son objetos; una cadena de caracteres es un objeto. Y así podríamos continuar dando muchos ejemplos."
   ]
  },
  {
   "attachments": {},
   "cell_type": "markdown",
   "metadata": {},
   "source": [
    "## Clases"
   ]
  },
  {
   "attachments": {},
   "cell_type": "markdown",
   "metadata": {},
   "source": [
    "Una **clase** en Python es una *plantilla* para crear *objetos*, que tienen *atributos* y *métodos* (características y comportamientos). Cada objeto creado a partir de una clase se conoce como una ***instancia de la clase***. Las clases proporcionan una forma de agrupar datos y funcionalidad relacionados juntos, lo que facilita el mantenimiento y reutilización del código."
   ]
  },
  {
   "attachments": {},
   "cell_type": "markdown",
   "metadata": {},
   "source": [
    "En oras palabras, una clase es una plantilla o molde para crear objetos. Las propiedades y métodos de una clase se definen dentro de la clase usando la sintaxis de Python."
   ]
  },
  {
   "attachments": {},
   "cell_type": "markdown",
   "metadata": {},
   "source": [
    "Básicamente, una ***clase*** es una entidad que define una serie de elementos que determinan un estado (datos) y un comportamiento (operaciones sobre los datos que modifican su estado)."
   ]
  },
  {
   "attachments": {},
   "cell_type": "markdown",
   "metadata": {},
   "source": [
    "### Crear una clase vacia"
   ]
  },
  {
   "attachments": {},
   "cell_type": "markdown",
   "metadata": {},
   "source": [
    "Para crear un objeto, primero debemos definir una **clase**. Crear una clase es simplemente definir la *plantilla*  que será utilizado por todos los objetos subsiguientes. Para definir una clase, use la palabra clave `class`:"
   ]
  },
  {
   "cell_type": "code",
   "execution_count": null,
   "metadata": {},
   "outputs": [],
   "source": [
    "class Perro:\n",
    "    pass\n",
    "\n",
    "print(type(Perro))"
   ]
  },
  {
   "attachments": {},
   "cell_type": "markdown",
   "metadata": {},
   "source": [
    "Se trata de una ***clase vacía*** y sin mucha utilidad práctica, pero es la mínima clase que podemos crear. Nótese el uso del `pass` que no hace realmente nada, pero daría un error si después de los **`:`** no tenemos contenido."
   ]
  },
  {
   "attachments": {},
   "cell_type": "markdown",
   "metadata": {},
   "source": [
    "**Nota:** Una convención importante respecto a la  notación para los nombres de las clases es la siguiente: **la primera letra de cada palabra del nombre debe estar en mayúsculas** y **el resto de letras  en minúsculas**."
   ]
  },
  {
   "attachments": {},
   "cell_type": "markdown",
   "metadata": {},
   "source": [
    "## Objetos"
   ]
  },
  {
   "attachments": {},
   "cell_type": "markdown",
   "metadata": {},
   "source": [
    " Un ***objeto*** en Python es una colección de atributos que describen colectivamente una \"cosa\". Esa \"*cosa*\" puede ser lo que quieras: un *libro*, un *animal*, una *película*."
   ]
  },
  {
   "attachments": {},
   "cell_type": "markdown",
   "metadata": {},
   "source": [
    "### Crear un objeto de una clase determinada"
   ]
  },
  {
   "attachments": {},
   "cell_type": "markdown",
   "metadata": {},
   "source": [
    "Una vez que ya tenemos la clase, podemos crear un objeto de la misma (**instanciar una clase**). Podemos hacerlo como si de una variable normal se tratase:"
   ]
  },
  {
   "cell_type": "markdown",
   "metadata": {},
   "source": [
    "```python \n",
    "objeto = Nombre_Clase()"
   ]
  },
  {
   "cell_type": "markdown",
   "metadata": {},
   "source": [
    "Dentro de los paréntesis irían los parámetros de entrada si los hubiera."
   ]
  },
  {
   "attachments": {},
   "cell_type": "markdown",
   "metadata": {},
   "source": [
    "Utilizaremos primero la clase *Perro* construida previamente:"
   ]
  },
  {
   "cell_type": "code",
   "execution_count": null,
   "metadata": {},
   "outputs": [],
   "source": [
    "mi_perro = Perro()\n",
    "print(type(mi_perro))"
   ]
  },
  {
   "attachments": {},
   "cell_type": "markdown",
   "metadata": {},
   "source": [
    "Ahora usaremos nuestra clase *Alumno*  previamente definida y accederemos a su atributo *nombre*: "
   ]
  },
  {
   "cell_type": "code",
   "execution_count": null,
   "metadata": {},
   "outputs": [],
   "source": [
    "class Alumno:\n",
    "    universidad = 'UMAR'\n",
    "    \n",
    "alumno1 = Alumno()\n",
    "print(alumno1.universidad)\n",
    "#alumno1.universidad = 'UTM'\n",
    "#print(alumno1.universidad)\n",
    "\n",
    "\n",
    "alumno2 = Alumno()\n",
    "print(alumno2.universidad)\n",
    "\n",
    "    "
   ]
  },
  {
   "cell_type": "code",
   "execution_count": null,
   "metadata": {},
   "outputs": [],
   "source": [
    "Alumno.universidad = \"UTM\"\n",
    "print(Alumno.universidad)"
   ]
  },
  {
   "attachments": {},
   "cell_type": "markdown",
   "metadata": {},
   "source": [
    "**¡Impresionante!**, hemos creamos un nuevo alumno e imprimimos el nombre accediendo directamente a la propiedad. Esto es genial y todo eso, pero ahora hagamos que nuestras clases sean útiles."
   ]
  },
  {
   "attachments": {},
   "cell_type": "markdown",
   "metadata": {},
   "source": [
    "## Constructor de clase"
   ]
  },
  {
   "attachments": {},
   "cell_type": "markdown",
   "metadata": {},
   "source": [
    "En Python, un constructor de clase es un método especial de una clase que se invoca automáticamente al crear una nueva instancia de dicha clase. Su principal función es inicializar los atributos del objeto, estableciendo su estado inicial. Este método es conocido como el **constructor de la clase** y se invoca cada vez que se instancia un nuevo objeto.\n",
    "\n",
    "<!-- De esta manera,  un constructor para tu clase  inicializa tu nuevo objeto usando los parámetros que le pasas. -->\n",
    "\n",
    "El constructor se declara dentro de la clase utilizando el método __init__, que siempre recibe al menos un parámetro: self. Este parámetro es una referencia a la instancia que se está creando y permite acceder a sus atributos y métodos.\n",
    "<!-- El código anterior crea una nueva instancia de la clase `Nombre_clase` y asigna dicho objeto a la variable `objeto`. Esto crea un objeto vacío, sin estado.\n",
    "Sin embargo, a veces es necesario definir  clases (como nuestra clase Alumno) que deben o necesitan crear instancias de objetos con un *estado inicial*. Esto se consigue implementando el método especial `__init__()`. \n",
    " -->\n",
    "\n",
    "El **método `__init__( )`** establece un primer parámetro especial que se suele llamar `self` (veremos qué significa este nombre más adelante). Pero puede especificar otros parámetros siguiendo las mismas reglas que cualquier otra función.\n",
    "\n",
    "La  palabra clave `self` se utiliza para referirse al objeto actual que se está creando. Por lo tanto, cuando se llama al constructor (lo que ocurre automáticamente), está configurando las propiedades del nuevo objeto utilizando los parámetros que pasó."
   ]
  },
  {
   "cell_type": "markdown",
   "metadata": {},
   "source": [
    "### Sintaxis \n",
    "\n",
    "```python\n",
    "class MiClase:\n",
    "    def __init__(self, parametro1, parametro2):\n",
    "        self.atributo1 = parametro1\n",
    "        self.atributo2 = parametro2\n"
   ]
  },
  {
   "cell_type": "markdown",
   "metadata": {},
   "source": [
    "En este ejemplo, `parametro1` y `parametro2` son argumentos que se pasan al crear una instancia de `MiClase`. Dentro del constructor, se asignan a `self.atributo1` y `self.atributo2`, respectivamente, inicializando así los atributos de la instancia."
   ]
  },
  {
   "attachments": {},
   "cell_type": "markdown",
   "metadata": {},
   "source": [
    "## Atributos "
   ]
  },
  {
   "attachments": {},
   "cell_type": "markdown",
   "metadata": {},
   "source": [
    "A continuación vamos a añadir algunos atributos a nuestra clase. Es importante distinguir que **existen dos tipos de atributos**:"
   ]
  },
  {
   "cell_type": "markdown",
   "metadata": {},
   "source": [
    "###  **Atributos de instancia**:\n",
    "\n",
    "Son específicos de cada objeto y se definen dentro del método __init__ de la clase. Cada instancia de la clase puede tener valores diferentes para estos atributos. En el siguiente ejemplo "
   ]
  },
  {
   "cell_type": "markdown",
   "metadata": {},
   "source": [
    "```python\n",
    "\n",
    "class Alumno:\n",
    "    def __init__(self, nombre, edad):\n",
    "        self.nombre = nombre\n",
    "        self.edad = edad\n"
   ]
  },
  {
   "cell_type": "markdown",
   "metadata": {},
   "source": [
    "### **Atributos de clase**: \n",
    "\n",
    "Son compartidos por todas las instancias de la clase y se definen directamente en el cuerpo de la clase, fuera de cualquier método.Se trata de atributos que pertenecen a la clase, por lo tanto serán comunes para todos los objetos. En el siguiente ejemplo el `universidad` es un atributo de clase compartido por todas las instancias de `Alumno`."
   ]
  },
  {
   "cell_type": "markdown",
   "metadata": {},
   "source": [
    "```python\n",
    "\n",
    "class Alumno: \n",
    "    \"\"\"Esta clase define las propiedades y el comportamiento de un estudiante \"\"\" #Docsstring\n",
    "    universidad = 'UMAR' # Atributo de clase\n",
    "\n",
    "    # Constructor de la clase. El método __init__ es llamado al crear el objeto\n",
    "    def __init__(self,nombre,apellido_paterno,edad):\n",
    "        print(f'Creando alumno {nombre}...')\n",
    "        \n",
    "        # Atributos de la instancia\n",
    "        self.nombre = nombre\n",
    "        self.apellido1 = apellido_paterno\n",
    "        self.edad = edad\n"
   ]
  },
  {
   "attachments": {},
   "cell_type": "markdown",
   "metadata": {},
   "source": [
    "### Definiendo atributos de instancia"
   ]
  },
  {
   "attachments": {},
   "cell_type": "markdown",
   "metadata": {},
   "source": [
    "Empecemos creando un par de *atributos de instancia* para nuestra clase *Alumno*, el nombre (hagamos que el nombre del alumno sea personalizable ). Para ello creamos un método `__init__` que será llamado automáticamente cuando creemos un objeto."
   ]
  },
  {
   "cell_type": "code",
   "execution_count": null,
   "metadata": {},
   "outputs": [],
   "source": [
    "class Alumno: # class es la palabra reservada para definir una clase\n",
    "    \"\"\"Esta clase define las propiedades y el comportamiento de un estudiante \"\"\" #Docsstring\n",
    "    universidad = 'UMAR'\n",
    "    \n",
    "\n",
    "    # Constructor de la clase. El método __init__ es llamado al crear el objeto\n",
    "    def __init__(self,nombre,apellido_paterno,edad):\n",
    "        print(f'Creando alumno {nombre}...')\n",
    "\n",
    "        # Atributos de la instancia\n",
    "        self.nombre = nombre\n",
    "        self.apellido1 = apellido_paterno\n",
    "        self.edad = edad"
   ]
  },
  {
   "cell_type": "markdown",
   "metadata": {},
   "source": [
    "En el ejemplo que estamos desarrolando, el **constructor de la clase** `Alumno` es:\n",
    "\n",
    "```python\n",
    "    def __init__(self,nombre):\n",
    "        print(f'Creando alumno {nombre}...')\n",
    "\n",
    "        # Atributos de la instancia\n",
    "        self.nombre = nombre\n",
    "        self.apellido1 = apellido_paterno\n",
    "        self.edad = edad"
   ]
  },
  {
   "cell_type": "markdown",
   "metadata": {},
   "source": [
    "Ahora que hemos definido el método `init` con un parámetro de entrada, podemos crear el objeto pasando el valor del atributo.  El `self` que se pasa como parámetro de entrada del método. Es una variable que representa la instancia de la clase, y deberá estar siempre ahí.\n",
    "\n",
    "#### Observación:\n",
    "\n",
    "El uso de `__init__` y el doble `__` no es una coincidencia. Cuando veas un método con esa forma, significa que está reservado para un uso especial del lenguaje. En este caso sería lo que se conoce como **constructor**. Hay gente que llama a estos ***métodos mágicos***."
   ]
  },
  {
   "cell_type": "markdown",
   "metadata": {},
   "source": [
    "### Acceso y modificación de atributos\n",
    "\n",
    "Los atributos se acceden y modifican utilizando la notación de punto (`.`):"
   ]
  },
  {
   "attachments": {},
   "cell_type": "markdown",
   "metadata": {},
   "source": [
    "De esta manera, para **instanciar un objeto** de tipo `Alumno`, debemos pasar como argumentos el `nombre`, `apellido_paterno` y `edad`. Una vez relizado esto podemos acceder a los atributos usando el  objeto creado."
   ]
  },
  {
   "cell_type": "code",
   "execution_count": null,
   "metadata": {},
   "outputs": [],
   "source": [
    "alumno1 = Alumno(\"Santiago\",'Hernandez',18)\n",
    "print(alumno1.nombre)\n",
    "print(alumno1.apellido1)\n",
    "print(alumno1.edad)\n",
    "print(alumno1.universidad)\n",
    "\n",
    "#alumno1.apellido1 = 'Hernández' \n",
    "\n",
    "print(alumno1.apellido1)"
   ]
  },
  {
   "attachments": {},
   "cell_type": "markdown",
   "metadata": {},
   "source": [
    "Usando `type()` podemos ver como efectivamente el objeto es de la clase *Alumno*."
   ]
  },
  {
   "cell_type": "code",
   "execution_count": null,
   "metadata": {},
   "outputs": [],
   "source": [
    "print(type(alumno1))"
   ]
  },
  {
   "attachments": {},
   "cell_type": "markdown",
   "metadata": {},
   "source": [
    "Dado que las clases son solo plantillas de objetos, también **puedes crear varios objetos utilizando la misma clase**:"
   ]
  },
  {
   "cell_type": "code",
   "execution_count": null,
   "metadata": {},
   "outputs": [],
   "source": [
    "alumno1 = Alumno(\"Angel Mateo\",'Hernandez',20)\n",
    "\n",
    "alumno2 = Alumno(\"Mauricio Jesus\",'Mendez',25)\n",
    "\n",
    "print(alumno1.nombre)\n",
    "print(alumno2.nombre)"
   ]
  },
  {
   "attachments": {},
   "cell_type": "markdown",
   "metadata": {},
   "source": [
    "También puedes **cambiar la propiedad de un objeto** directamente:"
   ]
  },
  {
   "cell_type": "code",
   "execution_count": null,
   "metadata": {},
   "outputs": [],
   "source": [
    "alumno1.nombre = 'Ángel Mateo'  "
   ]
  },
  {
   "cell_type": "code",
   "execution_count": null,
   "metadata": {},
   "outputs": [],
   "source": [
    "\n",
    "print(alumno1.nombre)"
   ]
  },
  {
   "attachments": {},
   "cell_type": "markdown",
   "metadata": {},
   "source": [
    "#### **Observación:**\n",
    "\n",
    "A diferencia de otros lenguajes, en los que está permitido implementar más de un constructor, en Python solo se puede definir un método `__init__()`."
   ]
  },
  {
   "attachments": {},
   "cell_type": "markdown",
   "metadata": {},
   "source": [
    "En resumen, el método __init__ es un constructor en Python que se invoca automáticamente al crear una instancia de una clase y se utiliza para inicializar los atributos de un objeto recién creado."
   ]
  },
  {
   "attachments": {},
   "cell_type": "markdown",
   "metadata": {},
   "source": [
    "#### **Ejemplo:** \n",
    "\n",
    "Cuando pensamos en un alumno, seguramente nos preguntamos por su nombre, número de matricula, su edad,  la carrera que estudia, el campus de la UMAR en el que se encuentra inscrito, etc. \n",
    "<!-- \n",
    "Pues todo lo que acabo de describir viene a ser una clase y cada uno de los de coches que has imaginado, serían objetos de dicha clase. -->"
   ]
  },
  {
   "cell_type": "code",
   "execution_count": null,
   "metadata": {},
   "outputs": [],
   "source": [
    "class Alumno: # class es la palabra reservada para definir una clas\n",
    "    \"\"\"Esta clase define las propiedades y el comportamiento de un estudiante \"\"\" #Docsstring\n",
    "    \n",
    "    # Constructor de la clase.  El método __init__ es llamado al crear el objeto\n",
    "    def __init__(self,nombre,apellido1,apellido2, edad, campus, carrera):\n",
    "\n",
    "        print(f'Creando alumno {nombre} de la carrera {carrera}')\n",
    "        \n",
    "        # Atributos de la instacia\n",
    "        self.nombrecompleto=\" \".join([nombre,apellido1,apellido2])\n",
    "        self.carrera = carrera\n",
    "        self.edad = edad\n",
    "        self.campus=campus"
   ]
  },
  {
   "cell_type": "code",
   "execution_count": null,
   "metadata": {},
   "outputs": [],
   "source": [
    "alumno1 = Alumno('Pablo Jorge', \"Hernández\", \"Hernández\", 26, \"Huatulco\", 'Actuaría')\n",
    "print(alumno1.nombrecompleto)\n",
    "print(alumno1.carrera)"
   ]
  },
  {
   "attachments": {},
   "cell_type": "markdown",
   "metadata": {},
   "source": [
    "<!-- En la  línea 2 del código anterior, el objeto `alumno1` está referenciando al´ *atributo de instancia* `nombre` y en la  línea 3  al atributo `carrera`. -->"
   ]
  },
  {
   "attachments": {},
   "cell_type": "markdown",
   "metadata": {},
   "source": [
    "**Observación:** Todos los objetos de tipo `Alumno()` pueden referenciar a los atributos de instancia  `nombrecompleto`, `edad`, `campus` o `carrera` por ejemplo. Son inicializados para cada objeto en el método `__init__()`."
   ]
  },
  {
   "attachments": {},
   "cell_type": "markdown",
   "metadata": {},
   "source": [
    "### Definiendo atributos de clase"
   ]
  },
  {
   "attachments": {},
   "cell_type": "markdown",
   "metadata": {},
   "source": [
    " Ahora vamos a **definir un atributo de clase**, que será común para todos los Alumnos. Por ejemplo, todos nuestros estudiantes estudian en la UMAR, es algo común para todos los objetos `Alumno`."
   ]
  },
  {
   "cell_type": "code",
   "execution_count": null,
   "metadata": {},
   "outputs": [],
   "source": [
    "class Alumno: # class es la palabra reservada para definir una clase\n",
    "    \"\"\"Esta clase define las propiedades y el comportamiento de un estudiante \"\"\" #Docsstring\n",
    "\n",
    "    # Atributo de clase\n",
    "    universidad = \"UMAR\"\n",
    "\n",
    "    # Constructor de la clase.  El método __init__ es llamado al crear el objeto\n",
    "    def __init__(self,nombre,apellido1,apellido2, edad, campus, carrera):\n",
    "\n",
    "        print(f'Creando alumno {nombre} de la carrera {carrera}')\n",
    "        \n",
    "        # Atributos de la instacia\n",
    "        self.nombrecompleto=\" \".join([nombre,apellido1,apellido2])\n",
    "        self.carrera = carrera\n",
    "        self.edad = edad\n",
    "        self.campus=campus"
   ]
  },
  {
   "attachments": {},
   "cell_type": "markdown",
   "metadata": {},
   "source": [
    "Así de facil, hemos definido una clase, llamada `Alumno`  que contiene un ***atributo de clase*** llamada `universidad` que tiene como valor predeterminado la cadena:  `'UMAR'`.\n",
    "\n",
    "Dado que es un atributo de clase, no es necesario crear un objeto para acceder al atributos. Podemos hacer lo siguiente."
   ]
  },
  {
   "cell_type": "code",
   "execution_count": null,
   "metadata": {},
   "outputs": [],
   "source": [
    "print(Alumno.universidad)"
   ]
  },
  {
   "attachments": {},
   "cell_type": "markdown",
   "metadata": {},
   "source": [
    "Se puede acceder también al atributo de clase desde el objeto."
   ]
  },
  {
   "cell_type": "code",
   "execution_count": null,
   "metadata": {},
   "outputs": [],
   "source": [
    "alumno1 = Alumno(\"Angel Mateo\", \"Méndez\", \"Martínez\",18, \"Comunicación\", 'Actuaría')\n",
    "\n",
    "alumno2 = Alumno('Santiago', \"Hernández\", \"Méndez\", 20, \"Huatulco\", 'Actuaría')\n",
    "\n",
    "print(alumno1.nombrecompleto)\n",
    "print(alumno1.universidad)\n",
    "print(alumno2.nombrecompleto)\n",
    "print(alumno2.universidad)\n"
   ]
  },
  {
   "attachments": {},
   "cell_type": "markdown",
   "metadata": {},
   "source": [
    "De esta manera, todos los objetos que se creen de la clase *Alumno* compartirán ese atributo de clase, ya que pertenecen a la misma. "
   ]
  },
  {
   "attachments": {},
   "cell_type": "markdown",
   "metadata": {},
   "source": [
    "## Métodos"
   ]
  },
  {
   "cell_type": "markdown",
   "metadata": {},
   "source": [
    "En Python, los *métodos* en clases son funciones definidas dentro de una clase y están diseñadas para **operar en instancias de la clase o en la propia clase**. Se utilizan para manipular los atributos de los objetos y proporcionar funcionalidades relacionadas con la clase."
   ]
  },
  {
   "cell_type": "markdown",
   "metadata": {},
   "source": [
    "### Tipos de métodos en Python"
   ]
  },
  {
   "cell_type": "markdown",
   "metadata": {},
   "source": [
    "#### Métodos de instancia (`self`)\n",
    "\n",
    "Son los más comunes y operan sobre una instancia específica de la clase. Usan el parámetro `self`, que hace referencia a la instancia actual."
   ]
  },
  {
   "cell_type": "markdown",
   "metadata": {},
   "source": [
    "En realidad cuando usamos `__init__` anteriormente ya estábamos definiendo un método, solo que uno especial. A continuación vamos a ver como definir métodos que le den alguna funcionalidad interesante a nuestra clase, siguiendo con el ejemplo de *Alumno*."
   ]
  },
  {
   "attachments": {},
   "cell_type": "markdown",
   "metadata": {},
   "source": [
    "Los **métodos** son las funciones que se definen dentro de una clase y que, por consiguiente, pueden ser referenciadas por los objetos de dicha clase. En nuestra clase `Alumno` definiremos las funciones `mostrar_informacion( )` y `cambiar_carrera()`."
   ]
  },
  {
   "cell_type": "code",
   "execution_count": null,
   "metadata": {},
   "outputs": [],
   "source": [
    "class Alumno: \n",
    "    \n",
    "    # Constructor de la clase. \n",
    "    def __init__(self,nombre,apellido1,apellido2, matricula, campus, carrera):\n",
    "        self.nombrecompleto=\" \".join([nombre,apellido1,apellido2])\n",
    "        self.carrera = carrera\n",
    "        self.matricula = matricula\n",
    "        self.campus=campus\n",
    "     \n",
    "    #Métodos de instancia    \n",
    "    def mostrar_informacion(self):\n",
    "        print(f\"Información del estudiante {self.nombrecompleto}\")\n",
    "        print(f\"Matricula: {self.matricula}\")\n",
    "        print(f\"Carrera: {self.carrera}\")\n",
    "        print(f\"Campus {self.campus}\")        \n",
    "\n",
    "    def cambiar_carrera(self,nueva_carrera):\n",
    "        self.carrera = nueva_carrera\n",
    "        "
   ]
  },
  {
   "cell_type": "code",
   "execution_count": null,
   "metadata": {},
   "outputs": [],
   "source": [
    "alumno = Alumno(\"Pablo Jorge\", \"Hernandez\", \"Hernandez\", \"2009020510\", \"Huatulco\", \"Actuaría\")\n",
    "alumno.mostrar_informacion()"
   ]
  },
  {
   "cell_type": "code",
   "execution_count": null,
   "metadata": {},
   "outputs": [],
   "source": [
    "alumno.cambiar_carrera(\"Matemáticas Aplicadas\")"
   ]
  },
  {
   "cell_type": "code",
   "execution_count": null,
   "metadata": {},
   "outputs": [],
   "source": [
    "alumno.mostrar_informacion()"
   ]
  },
  {
   "attachments": {},
   "cell_type": "markdown",
   "metadata": {},
   "source": [
    "Observemos que cuando se usa la función `mostrar_informacion( )` no se introduce ningún argumento. Sin embargo, en la definición  de la función `mostrar_informacion` se tiene un argumento: `self` ¿Qué está pasando entonces? resulta  que `mostrar_informacion( )` al estar siendo utilizada como un método por los objetos de la clase `Alumno`, es necesario que cuando un objeto referencia a dicha función,  pase su propia referencia como primer parámetro de la función."
   ]
  },
  {
   "attachments": {},
   "cell_type": "markdown",
   "metadata": {},
   "source": [
    "Similarmente, cuando se llama al método `actualizar_carrera()`, se observa que se ingresa sólo un argumento `carrera` y a diferencia de la función `mostrar_infomacion` esta función si modifica las propiedades del objeto, dado que cambia la `carrera`. Este hecho lo puedes apreciar cuando se vuelve a referenciar al atributo `carrera`."
   ]
  },
  {
   "attachments": {},
   "cell_type": "markdown",
   "metadata": {},
   "source": [
    "El siguiente código muestra **dos formas diferentes y equivalentes de llamar al método** `mostrar_informacion()`:"
   ]
  },
  {
   "cell_type": "code",
   "execution_count": null,
   "metadata": {},
   "outputs": [],
   "source": [
    "alumno.mostrar_informacion()\n",
    "\n",
    "Alumno.mostrar_informacion(alumno)"
   ]
  },
  {
   "cell_type": "code",
   "execution_count": null,
   "metadata": {},
   "outputs": [],
   "source": [
    "alumno1 = Alumno(\"Angel Mateo\",'Actuaría')\n",
    "alumno2 = Alumno(\"Mauricio Jesus\", 'Computación') \n",
    "\n",
    "alumno1.saludo()\n",
    "print(alumno1.carrera)\n",
    "#alumno2.saludo()\n",
    "\n",
    "alumno1.cambiar_carrera('Matemáticas Aplicadas')\n",
    "print(alumno1.carrera)\n",
    "\n",
    "\n"
   ]
  },
  {
   "attachments": {},
   "cell_type": "markdown",
   "metadata": {},
   "source": [
    "**Observación:** Para la clase `Alumno`, `saludo()` es una función. Sin embargo, para los objetos de la clase `Alumno`, `saludo( )` es un método."
   ]
  },
  {
   "cell_type": "code",
   "execution_count": null,
   "metadata": {},
   "outputs": [],
   "source": [
    "print(type(Alumno.saludo))\n",
    "\n",
    "print(type(alumno1.saludo))"
   ]
  },
  {
   "cell_type": "code",
   "execution_count": null,
   "metadata": {},
   "outputs": [],
   "source": [
    "class Punto:\n",
    "    \n",
    "    #Constructor de la clase\n",
    "    def __init__(self,x=0,y=0):\n",
    "        self.x = x\n",
    "        self.y = y\n",
    "    \n",
    "    #Métodos de instancia\n",
    "    def norma(self):\n",
    "        return (self.x**2 + self.y**2)**(1/2)\n",
    "    \n",
    "    def diferencia(self, otro_punto):\n",
    "        return Punto(self.x - otro_punto.x, self.y - otro_punto.y) \n",
    "    \n",
    "    def distancia(self,otro_punto):\n",
    "        \n",
    "        return self.diferencia(otro_punto).norma()\n",
    "    \n",
    "    def punto_medio(self,otro_punto):\n",
    "        \n",
    "        return Punto((self.x + otro_punto.x)/2, (self.y + otro_punto.y)/2)\n",
    "    \n",
    "    "
   ]
  },
  {
   "cell_type": "code",
   "execution_count": null,
   "metadata": {},
   "outputs": [],
   "source": [
    "a = Punto(1,2)\n",
    "a.x = 'y'\n",
    "\n",
    "print('x = ',a.x)\n",
    "print('y = ',a.y)\n",
    "\n",
    "\n",
    "#b = Punto(2,3)\n",
    "\n",
    "# print('x = ',b.x)\n",
    "# print('y = ',b.y)\n",
    "\n",
    "# c = Punto(3,4)\n",
    "\n",
    "#d = Punto()\n",
    "# print(d.x,d.y)\n",
    "\n",
    "\n",
    "\n",
    " "
   ]
  },
  {
   "cell_type": "code",
   "execution_count": null,
   "metadata": {},
   "outputs": [],
   "source": [
    "c.norma()\n"
   ]
  },
  {
   "cell_type": "code",
   "execution_count": null,
   "metadata": {},
   "outputs": [],
   "source": [
    "p1 = Punto(1,2)\n",
    "p2 = Punto(1,6)\n",
    "#p1.diferencia(p2)\n",
    "#p1.distancia(p2)\n",
    "print(p1.punto_medio(p2).x, p1.punto_medio(p2).y)"
   ]
  },
  {
   "cell_type": "markdown",
   "metadata": {},
   "source": [
    "#### Ejercicio \n",
    "\n",
    "Construye una clase en Python llamada `Fracción` que *modele* el comportamiento de los números racionales. Esta clase deberá incluir métodos de instancia que permitan realizar operaciones aritméticas y otras funcionalidades útiles para trabajar con fracciones. En general, la clase debe cumplir con las siguientes caracteristicas:\n",
    "\n",
    "##### Constructor de la clase (`__init__`)\n",
    "   - Debe aceptar dos valores enteros: numerador y denominador.  \n",
    "   - Si no se proporciona un denominador, debe asumir el valor 1.  \n",
    "   - Si el denominador es 0, debe lanzar un error (`ValueError`).  \n",
    "   \n",
    "##### Métodos de instancia obligatorios  \n",
    "   Implementa los siguientes métodos para operar con fracciones:  \n",
    "\n",
    "   - `suma(self, otra_fraccion)`: Devuelve una nueva fracción que represente la suma de la instancia actual con `otra_fracción`.  \n",
    "  \n",
    "   - `resta(self, otra_fraccion)`: Devuelve una nueva fracción que represente la diferencia entre la instancia actual y `otra_fracción`.  \n",
    "\n",
    "   - `multiplicacion(self, otra_fraccion)`: Devuelve una nueva fracción que sea el producto de la instancia actual por `otra_fracción`.  \n",
    "  \n",
    "   - `division(self, otra_fraccion)`: Devuelve una nueva fracción que sea el cociente de la instancia actual entre `otra_fracción` (verifica que no haya división por cero).  \n",
    "\n",
    "   - `a_decimal(self)`: Devuelve el valor decimal de la fracción.  \n",
    "\n",
    "   - `es_igual(self, otra_fraccion)`: Devuelve `True` si ambas fracciones son equivalentes y `False` en caso contrario.  \n",
    "\n",
    "   - `imprimir(self)`: Imprime la fracción en formato `a/b`, donde `a` es el numerador y `b` el denominador.  \n",
    "   \n",
    "   - `simplificar(self)`: - Devuelde la fracción en su forma reducida (por ejemplo, si la fracción es `4/6` debe \n",
    "    devolverse como `2/3`).  "
   ]
  },
  {
   "cell_type": "markdown",
   "metadata": {},
   "source": [
    "##### Solución"
   ]
  },
  {
   "cell_type": "code",
   "execution_count": null,
   "metadata": {},
   "outputs": [],
   "source": [
    "import math\n",
    "class Fraccion:\n",
    "    \n",
    "    def __init__(self,numerador, denominador = 1):\n",
    "        try:\n",
    "            if isinstance(numerador,int) == True and isinstance(denominador,int)==True:\n",
    "                self.numerador = numerador\n",
    "                self.denominador = denominador\n",
    "                if denominador == 0:\n",
    "                    raise ValueError(\"El denominador tiene que ser distinto de cero\")\n",
    "            else:\n",
    "                raise TypeError\n",
    "        except TypeError:\n",
    "            print(\"El numerador y denominador tienen que ser numeros enteros\")\n",
    "    \n",
    "    def suma(self,otra_fraccion):\n",
    "        return Fraccion(self.numerador*otra_fraccion.denominador + self.denominador*otra_fraccion.numerador, self.denominador*otra_fraccion.denominador)\n",
    "\n",
    "    def resta(self,otra_fraccion):\n",
    "        return Fraccion(self.numerador*otra_fraccion.denominador - self.denominador*otra_fraccion.numerador, self.denominador*otra_fraccion.denominador)\n",
    "    \n",
    "    def multiplicacion(self,otra_fraccion):\n",
    "        return Fraccion(self.numerador*otra_fraccion.numerador, self.denominador*otra_fraccion.denominador)\n",
    "    \n",
    "    def division(self,otra_fraccion):\n",
    "        return Fraccion(self.numerador*otra_fraccion.denominador, self.denominador*otra_fraccion.numerador)\n",
    "    \n",
    "    def a_decimal(self):\n",
    "        return self.numerador/self.denominador\n",
    "    \n",
    "    def es_igual(self,otra_fraccion):\n",
    "        return self.numerador*otra_fraccion.denominador == self.denominador*otra_fraccion.numerador\n",
    "    \n",
    "    def imprimir(self):\n",
    "        print(f\"{self.numerador}/{self.denominador}\")\n",
    "    \n",
    "    def simplificar(self):\n",
    "        mcd = math.gcd(self.numerador,self.denominador)\n",
    "        return Fraccion(int(self.numerador/mcd), int(self.denominador/mcd))"
   ]
  },
  {
   "cell_type": "code",
   "execution_count": null,
   "metadata": {},
   "outputs": [],
   "source": [
    "q = Fraccion(2,5)"
   ]
  },
  {
   "cell_type": "markdown",
   "metadata": {},
   "source": [
    "## Quiz "
   ]
  },
  {
   "cell_type": "markdown",
   "metadata": {},
   "source": [
    "### Crea una clase `Banco` con las siguientes características:\n",
    "\n",
    "Construye una clase en Python que *modele* el comportamiento de las sucursales de un banco. Esta clase deberá tener un atributo de clase que permita almacenar mediante un diccionario los números de cuenta y nombres de los usuarios, así tambie debe contar con métodos de instancia que permitan crear una nueva cuenta, eliminar una cuenta y mostrar cuentas de la sucursal.   operaciones aritméticas y otras funcionalidades útiles para trabajar con fracciones. En general, la clase debe cumplir con las siguientes caracteristicas:\n",
    "\n",
    "#### Atributos de clase e instancia\n",
    "- Un atributo de clase llamado `cuentas` que permita registrar números de cuenta en un diccionario cuya clave sea el número de cuenta y el valor correspondiente sea el nombre completo del titular.\n",
    "- Un atributo de instancia llamado `sucursal`, en el que se almacenará una cadena alfanumérica (por ejemplo, \"H3\", \"N\", etc.).\n",
    "- Un atributo de instancia llamado `gerente`, en el que se almacenará el nombre del gerente de la sucursal.\n",
    "\n",
    "#### Métodos de instancia obligatorios\n",
    "- `crear_cuenta(self, titular)`: Agrega una cuenta al diccionario `cuentas`. El número de cuenta debe ser generado aleatoriamente y debe ser un entero positivo de exactamente 10 dígitos. Se debe verificar que el número generado no esté ya en uso.\n",
    "- `eliminar_cuenta(self, numero_cuenta)`: Elimina una cuenta del diccionario `cuentas`. Se debe verificar que la cuenta exista; en caso contrario, se debe mostrar un mensaje apropiado.\n",
    "- `mostrar_cuentas(self)`: Muestra todas las cuentas registradas en el siguiente formato:\n",
    "  \n",
    "  <pre>\n",
    "  | Número de cuenta |   Cliente  |\n",
    "  |------------------|------------|\n",
    "  | 1234567890       | Juan Pérez |\n",
    "  </pre>"
   ]
  },
  {
   "cell_type": "markdown",
   "metadata": {},
   "source": [
    "## Módulo `Sympy`"
   ]
  },
  {
   "cell_type": "markdown",
   "metadata": {},
   "source": [
    "`sympy` es una biblioteca para **cálculo simbólico** que permite manipular expresiones matemáticas de manera algebraica"
   ]
  },
  {
   "cell_type": "code",
   "execution_count": null,
   "metadata": {},
   "outputs": [],
   "source": [
    "import sympy as sp"
   ]
  },
  {
   "cell_type": "markdown",
   "metadata": {},
   "source": [
    "### Definir una expresión algebraica"
   ]
  },
  {
   "cell_type": "code",
   "execution_count": null,
   "metadata": {},
   "outputs": [],
   "source": [
    "x, y, z = sp.symbols('x y z')\n",
    "\n",
    "expresion = x**2 + 2*x*y + y**2\n",
    "print(expresion)  \n",
    "#expresion"
   ]
  },
  {
   "cell_type": "markdown",
   "metadata": {},
   "source": [
    "### Manipulación algebraica"
   ]
  },
  {
   "cell_type": "code",
   "execution_count": null,
   "metadata": {},
   "outputs": [],
   "source": [
    "expresion = (x + y) ** 3\n",
    "\n",
    "expresion1 = sp.expand(expresion)\n",
    "print(expresion1) "
   ]
  },
  {
   "cell_type": "code",
   "execution_count": null,
   "metadata": {},
   "outputs": [],
   "source": [
    "expresion2 = sp.factor(x**2 + 2*x + 1)\n",
    "print(expresion2)  "
   ]
  },
  {
   "cell_type": "code",
   "execution_count": null,
   "metadata": {},
   "outputs": [],
   "source": [
    "expresion = (x**2 - y**2) / (x - y)\n",
    "expresion3 = sp.simplify(expresion)\n",
    "print(expresion3) "
   ]
  },
  {
   "cell_type": "markdown",
   "metadata": {},
   "source": [
    "### Derivadas e integrales"
   ]
  },
  {
   "cell_type": "code",
   "execution_count": null,
   "metadata": {},
   "outputs": [],
   "source": [
    "f = x**3 + 3*x**2 + 5*x + 7\n",
    "\n",
    "\n",
    "dfdx = sp.diff(f, x)\n",
    "print(dfdx)   "
   ]
  },
  {
   "cell_type": "code",
   "execution_count": null,
   "metadata": {},
   "outputs": [],
   "source": [
    "d2fdx2 = sp.diff(f, x, 2)\n",
    "print(d2fdx2)"
   ]
  },
  {
   "cell_type": "code",
   "execution_count": null,
   "metadata": {},
   "outputs": [],
   "source": [
    "g = x**2 + 2*x + 1\n",
    "\n",
    "integral = sp.integrate(g, x)\n",
    "print(integral)  "
   ]
  },
  {
   "cell_type": "code",
   "execution_count": null,
   "metadata": {},
   "outputs": [],
   "source": [
    "\n",
    "integral_def = sp.integrate(g, (x, 0, 2))\n",
    "print(integral_def)  \n"
   ]
  },
  {
   "cell_type": "markdown",
   "metadata": {},
   "source": [
    "### Solución de ecuaciones"
   ]
  },
  {
   "cell_type": "code",
   "execution_count": null,
   "metadata": {},
   "outputs": [],
   "source": [
    "eqn = x**2 - 5*x + 6  # x^2 - 5x + 6 = 0\n",
    "sol = sp.solve(eqn, x)\n",
    "print(sol)"
   ]
  },
  {
   "cell_type": "code",
   "execution_count": null,
   "metadata": {},
   "outputs": [],
   "source": [
    "eqn = sp.sin(x) - x/2\n",
    "sol = sp.solve(eqn, x)\n",
    "print(sol) "
   ]
  },
  {
   "cell_type": "code",
   "execution_count": null,
   "metadata": {},
   "outputs": [],
   "source": [
    "eq1 = sp.Eq(2*x + y, 1)\n",
    "eq2 = sp.Eq(x - y, 3)\n",
    "\n",
    "sol = sp.solve((eq1, eq2), (x, y))\n",
    "print(sol)"
   ]
  },
  {
   "cell_type": "markdown",
   "metadata": {},
   "source": [
    "### Cálculo de límites"
   ]
  },
  {
   "cell_type": "code",
   "execution_count": null,
   "metadata": {},
   "outputs": [],
   "source": [
    "expresion = sp.sin(x) / x\n",
    "lim = sp.limit(expresion, x, 0)\n",
    "print(lim)"
   ]
  },
  {
   "cell_type": "markdown",
   "metadata": {},
   "source": [
    "### Series de Taylor"
   ]
  },
  {
   "cell_type": "code",
   "execution_count": null,
   "metadata": {},
   "outputs": [],
   "source": [
    "f = sp.sin(x)\n",
    "\n",
    "taylor_series = sp.series(f, x, 0, 6)\n",
    "print(taylor_series)"
   ]
  },
  {
   "cell_type": "markdown",
   "metadata": {},
   "source": [
    "### Álgebra lineal"
   ]
  },
  {
   "cell_type": "code",
   "execution_count": null,
   "metadata": {},
   "outputs": [],
   "source": [
    "A = sp.Matrix([[1, 2], [3, 4]])\n",
    "\n",
    "detA = A.det()\n",
    "print(detA) \n",
    "\n",
    "\n",
    "A_inv = A.inv()\n",
    "print(A_inv)\n",
    "A_inv\n"
   ]
  },
  {
   "cell_type": "code",
   "execution_count": null,
   "metadata": {},
   "outputs": [],
   "source": [
    "eigenvals = A.eigenvals()\n",
    "eigenvecs = A.eigenvects()\n",
    "print(eigenvals)"
   ]
  },
  {
   "cell_type": "markdown",
   "metadata": {},
   "source": [
    "### Evaluación númerica"
   ]
  },
  {
   "cell_type": "code",
   "execution_count": null,
   "metadata": {},
   "outputs": [],
   "source": [
    "pi_val = sp.N(sp.pi, 50)  \n",
    "print(pi_val)"
   ]
  },
  {
   "cell_type": "code",
   "execution_count": null,
   "metadata": {},
   "outputs": [],
   "source": [
    "sqrt_val = sp.N(sp.sqrt(2), 10) \n",
    "print(sqrt_val)"
   ]
  },
  {
   "cell_type": "markdown",
   "metadata": {},
   "source": [
    "### Probabilidad y combinatoria"
   ]
  },
  {
   "cell_type": "code",
   "execution_count": null,
   "metadata": {},
   "outputs": [],
   "source": [
    "n, k = sp.symbols('n k')\n",
    "binomial_coeff = sp.binomial(n, k)\n",
    "print(binomial_coeff)  \n",
    "binomial_coeff\n"
   ]
  },
  {
   "cell_type": "code",
   "execution_count": null,
   "metadata": {},
   "outputs": [],
   "source": [
    "mu, sigma = sp.symbols('mu sigma')\n",
    "X = sp.Symbol('X')\n",
    "pdf = (1 / (sp.sqrt(2 *sp.pi) * sigma)) * sp.exp(-((X - mu)**2) / (2 * sigma**2))\n",
    "print(pdf)  \n",
    "pdf\n"
   ]
  },
  {
   "cell_type": "markdown",
   "metadata": {},
   "source": [
    "### Métodos de clase (`@classmethod`) \n",
    "\n",
    "Estos métodos operan a nivel de la clase en lugar de una instancia. Usan el decorador `@classmethod` y reciben `cls` como primer parámetro en lugar de `self`, que hace referencia a la clase."
   ]
  },
  {
   "cell_type": "markdown",
   "metadata": {},
   "source": [
    "#### Ejemplo"
   ]
  },
  {
   "cell_type": "code",
   "execution_count": null,
   "metadata": {},
   "outputs": [],
   "source": [
    "class Alumno: \n",
    "    contador_alumnos = 0  \n",
    "\n",
    "    def __init__(self, nombre, apellido1, apellido2, matricula, campus, carrera):\n",
    "        self.nombrecompleto = \" \".join([nombre, apellido1, apellido2])\n",
    "        self.carrera = carrera\n",
    "        self.matricula = matricula\n",
    "        self.campus = campus\n",
    "        Alumno.contador_alumnos += 1  \n",
    "\n",
    "    def mostrar_informacion(self):\n",
    "        print(f\"Información del estudiante {self.nombrecompleto}\")\n",
    "        print(f\"Matrícula: {self.matricula}\")\n",
    "        print(f\"Carrera: {self.carrera}\")\n",
    "        print(f\"Campus: {self.campus}\")\n",
    "\n",
    "    def cambiar_carrera(self, nueva_carrera):\n",
    "        self.carrera = nueva_carrera\n",
    "\n",
    "    @classmethod\n",
    "    def total_alumnos(cls):\n",
    "        return f\"Total de alumnos creados: {cls.contador_alumnos}\"\n"
   ]
  },
  {
   "cell_type": "code",
   "execution_count": null,
   "metadata": {},
   "outputs": [],
   "source": [
    "a1 = Alumno(\"Emily\", \"Borel\", \"Gómez\", \"A12345\", \"Huatulco\", \"Actuaría\")\n",
    "a2 = Alumno(\"Axelandro\", \"López\", \"Díaz\", \"A67890\", \"Huatulco\", \"Economía\")"
   ]
  },
  {
   "cell_type": "code",
   "execution_count": null,
   "metadata": {},
   "outputs": [],
   "source": [
    "print(Alumno.total_alumnos())  "
   ]
  },
  {
   "cell_type": "markdown",
   "metadata": {},
   "source": [
    "#### Ejemplo"
   ]
  },
  {
   "cell_type": "code",
   "execution_count": null,
   "metadata": {},
   "outputs": [],
   "source": [
    "class Alumno: \n",
    "    def __init__(self, nombre, apellido1, apellido2, matricula, campus, carrera):\n",
    "        self.nombrecompleto = \" \".join([nombre, apellido1, apellido2])\n",
    "        self.carrera = carrera\n",
    "        self.matricula = matricula\n",
    "        self.campus = campus\n",
    "\n",
    "    @classmethod\n",
    "    def desde_cadena(cls, datos):\n",
    "        nombre, apellido1, apellido2, matricula, campus, carrera = datos.split(\", \")\n",
    "        return cls(nombre, apellido1, apellido2, matricula, campus, carrera)"
   ]
  },
  {
   "cell_type": "code",
   "execution_count": null,
   "metadata": {},
   "outputs": [],
   "source": [
    "datos = \"Lluvia, Ramírez, Torres, A99999, Huatulco, Administración Turística\""
   ]
  },
  {
   "cell_type": "code",
   "execution_count": null,
   "metadata": {},
   "outputs": [],
   "source": [
    "alumno_nuevo = Alumno.desde_cadena(datos)"
   ]
  },
  {
   "cell_type": "markdown",
   "metadata": {},
   "source": [
    "#### Ejemplo"
   ]
  },
  {
   "cell_type": "code",
   "execution_count": null,
   "metadata": {},
   "outputs": [],
   "source": [
    "class Alumno: \n",
    "    campus_umar = [\"Huatulco\", \"Puerto Escondido\", \"Oaxaca\", \"Puerto Ángel\"]\n",
    "\n",
    "    def __init__(self, nombre, apellido1, apellido2, matricula, campus, carrera):\n",
    "        self.nombrecompleto = \" \".join([nombre, apellido1, apellido2])\n",
    "        self.carrera = carrera\n",
    "        self.matricula = matricula\n",
    "        self.campus = campus\n",
    "\n",
    "    @classmethod\n",
    "    def check_campus(cls, campus):\n",
    "        return campus in cls.campus_umar"
   ]
  },
  {
   "cell_type": "code",
   "execution_count": null,
   "metadata": {},
   "outputs": [],
   "source": [
    "print(Alumno.check_campus(\"Huatulco\")) "
   ]
  },
  {
   "cell_type": "code",
   "execution_count": null,
   "metadata": {},
   "outputs": [],
   "source": [
    "print(Alumno.check_campus(\"Ciudad de México\")) "
   ]
  },
  {
   "cell_type": "markdown",
   "metadata": {},
   "source": [
    "#### Ejemplo"
   ]
  },
  {
   "cell_type": "code",
   "execution_count": null,
   "metadata": {},
   "outputs": [],
   "source": [
    "class Umar_huatulco: \n",
    "    carreras_disponibles = [\"Actuaría\", \"Economía\", \"Ciencias de la Comunicación\", \"Administración Turística\", \"Relaciones Internacionales\", \"Ciencias Marítimas\"]\n",
    "\n",
    "    @classmethod\n",
    "    def mostrar_carreras_disponibles(cls):\n",
    "        return f\"Carreras en UMAR Huatulco:\\n {', '.join(cls.carreras_disponibles)}\""
   ]
  },
  {
   "cell_type": "code",
   "execution_count": null,
   "metadata": {},
   "outputs": [],
   "source": [
    "print(Umar_huatulco.mostrar_carreras_disponibles())"
   ]
  },
  {
   "cell_type": "markdown",
   "metadata": {},
   "source": [
    "## `dir`"
   ]
  },
  {
   "cell_type": "markdown",
   "metadata": {},
   "source": [
    "En Python `dir()` es una función incorporada que se usa para inspeccionar los atributos y métodos disponibles de un objeto, una clase o un módulo."
   ]
  },
  {
   "cell_type": "markdown",
   "metadata": {},
   "source": [
    "### Sintaxis\n",
    "\n",
    "```python\n",
    "dir(objeto)\n",
    "```"
   ]
  },
  {
   "cell_type": "code",
   "execution_count": null,
   "metadata": {},
   "outputs": [],
   "source": [
    "x = 1.3\n",
    "type(x)\n",
    "dir(x)"
   ]
  },
  {
   "cell_type": "code",
   "execution_count": null,
   "metadata": {},
   "outputs": [],
   "source": [
    "import math\n",
    "help(math)"
   ]
  },
  {
   "cell_type": "markdown",
   "metadata": {},
   "source": [
    "## `Property`"
   ]
  },
  {
   "cell_type": "markdown",
   "metadata": {},
   "source": [
    "En Python, `property` es una función incorporada que permite definir atributos gestionados (también llamados propiedades) en una clase. Estas propiedades permiten *encapsular* el acceso a los atributos de un objeto, proporcionando es una **forma de controlar el acceso y la manipulación de atributos de una clase**."
   ]
  },
  {
   "cell_type": "markdown",
   "metadata": {},
   "source": [
    "Los atributos de instancia, definen una serie de características que poseen los objetos. Como hemos visto anteriormente, se declaran haciendo uso de la referencia a la instancia a través de `self`. Sin embargo, Python nos ofrece la posibilidad de utilizar un método alternativo que resulta especialmente útil ***cuando estos atributos requieren de un procesamiento inicial en el momento de ser accedidos***. Para implementar este mecanismo, Python emplea un ***decorador*** llamado `property`."
   ]
  },
  {
   "cell_type": "markdown",
   "metadata": {},
   "source": [
    "El decorador `@property` permite definir métodos especiales, conocidos como ***métodos de acceso*** (`getter`) y **métodos de asignación** (`setter`), que se utilizan para obtener y establecer valores en un atributo específico.\n",
    "\n",
    "La idea detrás de las propiedades es que, en lugar de acceder directamente a los atributos de una clase, se utilicen métodos para interactuar con ellos. Esto proporciona un mayor control sobre cómo se obtienen y establecen los valores, lo que puede ser útil para realizar validaciones, cálculos adicionales u otras operaciones."
   ]
  },
  {
   "cell_type": "markdown",
   "metadata": {},
   "source": [
    "### `Getter` y `Setter` en Python"
   ]
  },
  {
   "cell_type": "markdown",
   "metadata": {},
   "source": [
    "Son métodos especiales que controlan cómo accedemos y modificamos los atributos de un objeto.\n",
    "\n",
    "* Un `getter` nos permite obtener el valor de un atributo de manera controlada.\n",
    "\n",
    "* Un `setter` nos permite modificar el valor del atributo con validaciones o lógica extra.\n",
    "\n",
    "Se utilizan junto con el decorador `@property` para hacer que los atributos sean accesibles como si fueran públicos, pero en realidad están controlados por métodos.\n",
    "\n"
   ]
  },
  {
   "cell_type": "markdown",
   "metadata": {},
   "source": [
    "**Observación:** En Python, no existen atributos realmente privados como en otros lenguajes (como Java o C++), pero se pueden simular utilizando convenciones y mecanismos de encapsulación. Python utiliza una convención para indicar que un atributo es privado usando un guion bajo `_` antes del nombre: `_atributo_privado`"
   ]
  },
  {
   "cell_type": "markdown",
   "metadata": {},
   "source": [
    " Aquí hay un ejemplo que ilustra cómo se utilizan:"
   ]
  },
  {
   "cell_type": "code",
   "execution_count": null,
   "metadata": {},
   "outputs": [],
   "source": [
    "class Punto:\n",
    "    def __init__(self,x=0,y=0):\n",
    "        self.x = x\n",
    "        self.y = y\n",
    "    \n",
    "    @property\n",
    "    def x(self):\n",
    "        return self._x\n",
    "    \n",
    "    @x.setter\n",
    "    def x(self,nueva_cordenada):\n",
    "        if isinstance(nueva_cordenada,(int,float)):\n",
    "            self._x = nueva_cordenada\n",
    "        else:\n",
    "            raise ValueError('El valor ingresado debe ser un numero')\n",
    "        \n",
    "    @property\n",
    "    def y(self):\n",
    "        return self._y\n",
    "    \n",
    "    @y.setter\n",
    "    def y(self,nueva_cordenada):\n",
    "        if isinstance(nueva_cordenada,(int,float)):\n",
    "            self._y = nueva_cordenada\n",
    "        else:\n",
    "            raise ValueError('El valor ingresado debe ser un numero')\n",
    "    \n",
    "    def norma(self):\n",
    "        return (self.x**2 + self.y**2)**(1/2)\n",
    "    \n",
    "    def diferencia(self, otro_punto):\n",
    "        return Punto(self.x - otro_punto.x, self.y - otro_punto.y) \n",
    "    \n",
    "    def distancia(self,otro_punto):\n",
    "        \n",
    "        return self.diferencia(otro_punto).norma()\n",
    "    \n",
    "    def punto_medio(self,otro_punto):\n",
    "        \n",
    "        return Punto((self.x + otro_punto.x)/2, (self.y + otro_punto.y)/2)"
   ]
  },
  {
   "cell_type": "code",
   "execution_count": null,
   "metadata": {},
   "outputs": [],
   "source": [
    "a = Punto(5,'j')\n"
   ]
  },
  {
   "cell_type": "markdown",
   "metadata": {},
   "source": [
    "### Ejemplo"
   ]
  },
  {
   "cell_type": "markdown",
   "metadata": {},
   "source": [
    "Supongamos que queremos una clase `Cuenta` donde: `saldo` sea un atributo privado, para este tipo de atributos se útiliza la convención: `_saldo`). Podemos ver el saldo con un `getter` y podemos modificar el saldo con un `setter`, pero con validación (no puede ser negativo)."
   ]
  },
  {
   "cell_type": "code",
   "execution_count": null,
   "metadata": {},
   "outputs": [],
   "source": [
    "class Cuenta:\n",
    "    def __init__(self, saldo_inicial):\n",
    "        self._saldo = None  \n",
    "        self.saldo = saldo_inicial  \n",
    "\n",
    "    @property\n",
    "    # Getter\n",
    "    def saldo(self):  \n",
    "        return self._saldo # Devuelve el saldo actual.\n",
    "\n",
    "    @saldo.setter\n",
    "    # Setter\n",
    "    def saldo(self, nuevo_saldo):  \n",
    "        if isinstance(nuevo_saldo, (int, float)) and nuevo_saldo >= 0: #Asigna un nuevo saldo si es válido (>= 0).\n",
    "            self._saldo = nuevo_saldo\n",
    "        else:\n",
    "            raise ValueError(\"El saldo no puede ser negativo ni un valor inválido\")"
   ]
  },
  {
   "cell_type": "code",
   "execution_count": null,
   "metadata": {},
   "outputs": [],
   "source": [
    "cuenta = Cuenta(1000) \n",
    "print(cuenta.saldo)  "
   ]
  },
  {
   "cell_type": "code",
   "execution_count": null,
   "metadata": {},
   "outputs": [],
   "source": [
    "cuenta.saldo = 500  \n",
    "print(cuenta.saldo) "
   ]
  },
  {
   "cell_type": "code",
   "execution_count": null,
   "metadata": {},
   "outputs": [],
   "source": [
    "cuenta.saldo = -100  "
   ]
  },
  {
   "cell_type": "markdown",
   "metadata": {},
   "source": [
    "#### **Observaciones**\n",
    "\n",
    "* **Atributo privado**: Se usa _saldo en lugar de saldo para indicar que no debería modificarse directamente.\n",
    "  \n",
    "\n",
    "* `Getter` (`@property`): Nos permite acceder a `_saldo` como si fuera un atributo normal (`cuenta.saldo` en lugar de `cuenta._saldo`).\n",
    "  \n",
    "\n",
    "* `Setter` (`@saldo.setter`): Controla la asignación de valores a `_saldo`, asegurando que nunca sea negativo."
   ]
  },
  {
   "cell_type": "markdown",
   "metadata": {},
   "source": [
    "#### Ejemplo"
   ]
  },
  {
   "cell_type": "markdown",
   "metadata": {},
   "source": [
    "A veces, solo queremos **calcular un valor basado en otros atributos, sin permitir que se modifique directamente**."
   ]
  },
  {
   "cell_type": "markdown",
   "metadata": {},
   "source": [
    "Imagina que nuestra cuenta bancaria esta en dólares 🤑, pero queremos tener un atributo que  automáticamente almacene el saldo en pesos mexicanos."
   ]
  },
  {
   "cell_type": "code",
   "execution_count": null,
   "metadata": {},
   "outputs": [],
   "source": [
    "class Cuenta:\n",
    "    def __init__(self, saldo_usd, tipo_cambio):\n",
    "        self._saldo_usd = None  \n",
    "        self.saldo_usd = saldo_usd  \n",
    "        self.tipo_cambio = tipo_cambio  \n",
    "    \n",
    "    @property\n",
    "    def saldo_usd(self):\n",
    "        return self._saldo_usd\n",
    "\n",
    "    @saldo_usd.setter\n",
    "    def saldo_usd(self, valor):\n",
    "        if valor < 0:\n",
    "            raise ValueError(\"El saldo no puede ser negativo.\")\n",
    "        self._saldo_usd = valor\n",
    "\n",
    "\n",
    "    @property\n",
    "    # Utilizamos solo Getter\n",
    "    def saldo_mxn(self):  \n",
    "        return self.saldo_usd * self.tipo_cambio\n",
    "    \n",
    "    \n",
    "    @property\n",
    "    def saldo_mxn(self):\n",
    "        return self._saldo_usd * self.tipo_cambio"
   ]
  },
  {
   "cell_type": "code",
   "execution_count": null,
   "metadata": {},
   "outputs": [],
   "source": [
    "cuenta = Cuenta(100, 17.5) \n",
    "print(cuenta.saldo_mxn)  "
   ]
  },
  {
   "cell_type": "code",
   "execution_count": null,
   "metadata": {},
   "outputs": [],
   "source": [
    "\n",
    "cuenta.saldo_usd = 200 \n",
    "print(cuenta.saldo_mxn)\n"
   ]
  },
  {
   "cell_type": "markdown",
   "metadata": {},
   "source": [
    "#### Ejemplo \n",
    "Se desea tener una clase `Circulo` donde el radio se pueda modificar, pero el `perímetro` se calcule automáticamente."
   ]
  },
  {
   "cell_type": "code",
   "execution_count": null,
   "metadata": {},
   "outputs": [],
   "source": [
    "import math\n",
    "\n",
    "class Circulo:\n",
    "    def __init__(self, radio):\n",
    "        self.radio = radio  \n",
    "\n",
    "    @property\n",
    "    def perimetro(self):  \n",
    "        return 2 * math.pi * self.radio  \n"
   ]
  },
  {
   "cell_type": "code",
   "execution_count": null,
   "metadata": {},
   "outputs": [],
   "source": [
    "c = Circulo(10)\n",
    "print(c.perimetro)"
   ]
  },
  {
   "cell_type": "markdown",
   "metadata": {},
   "source": [
    "### Decorador `@deleter`\n",
    "\n",
    "El método @deleter es parte de @property y se usa para definir qué sucede cuando se elimina un atributo de un objeto con del.\n",
    "\n"
   ]
  },
  {
   "cell_type": "markdown",
   "metadata": {},
   "source": [
    "Cuando usas `@property`, defines un *getter* para obtener el valor de un atributo, y con `@setter` controlas cómo se modifica. Si agregas `@deleter`, defines qué hacer cuando se usa `del objeto.atributo`.\n",
    "\n"
   ]
  },
  {
   "cell_type": "markdown",
   "metadata": {},
   "source": [
    "### Ejemplo "
   ]
  },
  {
   "cell_type": "code",
   "execution_count": null,
   "metadata": {},
   "outputs": [],
   "source": [
    "class Cuenta:\n",
    "    def __init__(self, saldo_inicial):\n",
    "        self._saldo = None  \n",
    "        self.saldo = saldo_inicial  \n",
    "\n",
    "    @property\n",
    "    # Getter\n",
    "    def saldo(self):  \n",
    "        return self._saldo # Devuelve el saldo actual.\n",
    "\n",
    "    @saldo.setter\n",
    "    # Setter\n",
    "    def saldo(self, nuevo_saldo):  \n",
    "        if isinstance(nuevo_saldo, (int, float)) and nuevo_saldo >= 0: #Asigna un nuevo saldo si es válido (>= 0).\n",
    "            self._saldo = nuevo_saldo\n",
    "        else:\n",
    "            raise ValueError(\"El saldo no puede ser negativo ni un valor inválido\")\n",
    "    @saldo.deleter\n",
    "    def saldo(self):\n",
    "        print(f\"Eliminando el saldo de la cuenta\")\n",
    "        del self._saldo"
   ]
  },
  {
   "cell_type": "code",
   "execution_count": null,
   "metadata": {},
   "outputs": [],
   "source": [
    "cuenta = Cuenta(12345)"
   ]
  },
  {
   "cell_type": "code",
   "execution_count": null,
   "metadata": {},
   "outputs": [],
   "source": [
    "print(cuenta.saldo)"
   ]
  },
  {
   "cell_type": "code",
   "execution_count": null,
   "metadata": {},
   "outputs": [],
   "source": [
    "del cuenta.saldo"
   ]
  },
  {
   "cell_type": "code",
   "execution_count": null,
   "metadata": {},
   "outputs": [],
   "source": [
    "print(cuenta.saldo)"
   ]
  },
  {
   "cell_type": "code",
   "execution_count": null,
   "metadata": {},
   "outputs": [],
   "source": [
    "class Alumno:\n",
    "    def __init__(self, nombre):\n",
    "        self._nombre = nombre  \n",
    "\n",
    "    @property\n",
    "    def nombre(self):\n",
    "        return self._nombre\n",
    "\n",
    "    @nombre.setter\n",
    "    def nombre(self, nuevo_nombre):\n",
    "        if isinstance(nuevo_nombre, str) and nuevo_nombre.strip():\n",
    "            self._nombre = nuevo_nombre\n",
    "        else:\n",
    "            raise ValueError(\"El nombre debe ser una cadena no vacía\")\n",
    "\n",
    "    @nombre.deleter\n",
    "    def nombre(self):        \n",
    "        print(f\"Eliminando el nombre '{self._nombre}'...\")\n",
    "        del self._nombre "
   ]
  },
  {
   "cell_type": "code",
   "execution_count": null,
   "metadata": {},
   "outputs": [],
   "source": [
    "p = Alumno(\"Juan\")\n",
    "print(p.nombre)  "
   ]
  },
  {
   "cell_type": "code",
   "execution_count": null,
   "metadata": {},
   "outputs": [],
   "source": [
    "del p.nombre"
   ]
  },
  {
   "cell_type": "code",
   "execution_count": null,
   "metadata": {},
   "outputs": [],
   "source": [
    "print(p.nombre)  "
   ]
  },
  {
   "cell_type": "markdown",
   "metadata": {},
   "source": [
    "# Métodos especiales"
   ]
  },
  {
   "cell_type": "markdown",
   "metadata": {},
   "source": [
    "Así como el constructor, `__init__`, existen diversos métodos especiales que, si están definidos en nuestra clase, Python los llamará por nosotros cuando se utilice una instancia en situaciones particulares.\n",
    "\n"
   ]
  },
  {
   "cell_type": "markdown",
   "metadata": {},
   "source": [
    "Los **métodos especiales** en Python (también llamados ***dunder methods***, por ***double underscore***, es decir, `__nombre__`) son funciones que permiten definir comportamientos personalizados en las clases.\n",
    "\n",
    "* Personalizar la impresión de objetos\n",
    "  \n",
    "* Operaciones matemáticas entre objetos\n",
    "  \n",
    "* Comparaciones (==, >, <, >=, <=) entre otros\n",
    "\n",
    "Todos los métodos especiales comienzan y terminan con `__doble_guion_bajo__`.\n",
    "\n"
   ]
  },
  {
   "cell_type": "code",
   "execution_count": null,
   "metadata": {},
   "outputs": [],
   "source": []
  },
  {
   "cell_type": "markdown",
   "metadata": {},
   "source": [
    "## Un método para mostrar objetos"
   ]
  },
  {
   "cell_type": "markdown",
   "metadata": {},
   "source": [
    "Para mostrar objetos, Python indica que hay que agregarle a la clase un método especial, llamado `__str__` que debe devolver una cadena de caracteres con lo que queremos mostrar. Ese método se invoca cada vez que se llama a la función `str`\n",
    "\n"
   ]
  },
  {
   "cell_type": "markdown",
   "metadata": {},
   "source": [
    "El método `__str__` tiene un solo parámetro, self."
   ]
  },
  {
   "cell_type": "markdown",
   "metadata": {},
   "source": [
    "### Ejemplo"
   ]
  },
  {
   "cell_type": "markdown",
   "metadata": {},
   "source": [
    "En nuestro caso decidimos mostrar el punto como un par ordenado, por lo que escribimos el siguiente método dentro de la clase `Punto`:"
   ]
  },
  {
   "cell_type": "code",
   "execution_count": 20,
   "metadata": {},
   "outputs": [],
   "source": [
    "class Punto:\n",
    "    \n",
    "    def __init__(self,x=0,y=0):\n",
    "        self.x = x\n",
    "        self.y = y\n",
    "    \n",
    "    @property\n",
    "    def x(self):\n",
    "        return self._x\n",
    "    \n",
    "    @x.setter\n",
    "    def x(self,nueva_cordenada):\n",
    "        if isinstance(nueva_cordenada,(int,float)):\n",
    "            self._x = nueva_cordenada\n",
    "        else:\n",
    "            raise ValueError('El valor ingresado debe ser un numero')\n",
    "        \n",
    "    @property\n",
    "    def y(self):\n",
    "        return self._y\n",
    "    \n",
    "    @y.setter\n",
    "    def y(self,nueva_cordenada):\n",
    "        if isinstance(nueva_cordenada,(int,float)):\n",
    "            self._y = nueva_cordenada\n",
    "        else:\n",
    "            raise ValueError('El valor ingresado debe ser un numero')\n",
    "    \n",
    "    def __str__(self):\n",
    "        #Muestra el punto como un par ordenado\n",
    "        return \"(\" + str(self.x) + \", \" + str(self.y) + \")\""
   ]
  },
  {
   "cell_type": "markdown",
   "metadata": {},
   "source": [
    "Una vez definido este método, nuestro punto se mostrará como un par ordenado cuando se necesite una representación de cadenas."
   ]
  },
  {
   "cell_type": "code",
   "execution_count": null,
   "metadata": {},
   "outputs": [
    {
     "name": "stdout",
     "output_type": "stream",
     "text": [
      "(-6, 18)\n"
     ]
    }
   ],
   "source": [
    "p = Punto(-6,18)\n",
    "print(p)\n"
   ]
  },
  {
   "cell_type": "code",
   "execution_count": 24,
   "metadata": {},
   "outputs": [
    {
     "data": {
      "text/plain": [
       "'(-6, 18)'"
      ]
     },
     "execution_count": 24,
     "metadata": {},
     "output_type": "execute_result"
    }
   ],
   "source": [
    "str(p)"
   ]
  },
  {
   "cell_type": "markdown",
   "metadata": {},
   "source": [
    "Vemos que internamente Python invoca al método `__str__` cuando se le pide que imprima una variable de la clase `Punto`."
   ]
  },
  {
   "cell_type": "markdown",
   "metadata": {},
   "source": [
    "## Métodos para operar matemáticamente"
   ]
  },
  {
   "cell_type": "code",
   "execution_count": null,
   "metadata": {},
   "outputs": [],
   "source": [
    "x = 'p'\n",
    "y = 'j' \n",
    "\n",
    "print(x+y)"
   ]
  },
  {
   "cell_type": "markdown",
   "metadata": {},
   "source": [
    "Ya hemos visto un método que permitía restar dos puntos. Si bien esta implementación es perfectamente válida, no es posible usar esa función para realizar una resta con el operador `-`."
   ]
  },
  {
   "cell_type": "code",
   "execution_count": null,
   "metadata": {},
   "outputs": [],
   "source": [
    "p = Punto(1,3)\n",
    "q = Punto(1,10)\n",
    "\n",
    "print(p-q)"
   ]
  },
  {
   "cell_type": "markdown",
   "metadata": {},
   "source": [
    "Si queremos que este operador (o el equivalente para la suma) funcione, será necesario implementar algunos métodos especiales."
   ]
  },
  {
   "cell_type": "code",
   "execution_count": null,
   "metadata": {},
   "outputs": [],
   "source": [
    "class Punto:\n",
    "    \n",
    "    def __init__(self,x=0,y=0):\n",
    "        self.x = x\n",
    "        self.y = y\n",
    "    \n",
    "    @property\n",
    "    def x(self):\n",
    "        return self._x\n",
    "    \n",
    "    @x.setter\n",
    "    def x(self,nueva_cordenada):\n",
    "        self._x = nueva_cordenada\n",
    "        \n",
    "    @property\n",
    "    def y(self):\n",
    "        return self._y\n",
    "    \n",
    "    @y.setter\n",
    "    def y(self,nueva_cordenada):\n",
    "        if isinstance(nueva_cordenada,(int,float)):\n",
    "            self._y = nueva_cordenada\n",
    "        else:\n",
    "            raise ValueError('El valor ingresado debe ser un numero')\n",
    "    \n",
    "    def __str__(self):\n",
    "        return \"(\" + str(self.x) + \", \" + str(self.y) + \")\"\n",
    "    \n",
    "    def norma(self):\n",
    "        return (self.x**2 + self.y**2)**(1/2)\n",
    "    \n",
    "    def diferencia(self, otro_punto):\n",
    "        return Punto(self.x - otro_punto.x, self.y - otro_punto.y) \n",
    "    \n",
    "    def distancia(self,otro_punto):\n",
    "        return self.diferencia(otro_punto).norma()\n",
    "    \n",
    "    def punto_medio(self,otro_punto):\n",
    "        return Punto((self.x + otro_punto.x)/2, (self.y + otro_punto.y)/2)\n",
    "    \n",
    "    def __add__(self, otro_punto):\n",
    "        #Devuelve la suma de ambos puntos.\n",
    "        return Punto(self.x + otro_punto.x, self.y + otro_punto.y)\n",
    "\n",
    "    def __sub__(self, otro_punto):\n",
    "        #Devuelve la diferencia de ambos puntos.\n",
    "        return Punto(self.x - otro_punto.x, self.y - otro_punto.y)"
   ]
  },
  {
   "cell_type": "markdown",
   "metadata": {},
   "source": [
    "El método `__add__` es el que se utiliza para el operador `+`, el primer parámetro es el primer operando de la suma, y el segundo parámetro el segundo operando. De la misma forma, el método `__sub__` es el utilizado por el operador `-`."
   ]
  },
  {
   "cell_type": "markdown",
   "metadata": {},
   "source": [
    "Ahora es posible operar con los puntos directamente mediante los operadores, en lugar de llamar a métodos:"
   ]
  },
  {
   "cell_type": "code",
   "execution_count": null,
   "metadata": {},
   "outputs": [],
   "source": [
    "p = Punto(0,3)\n",
    "q = Punto(2,4)\n",
    "\n",
    "print(p-q)"
   ]
  },
  {
   "cell_type": "markdown",
   "metadata": {},
   "source": [
    "De la misma forma, si se quiere poder utilizar cualquier otro operador matemático, será necesario definir el método apropiado."
   ]
  },
  {
   "cell_type": "markdown",
   "metadata": {},
   "source": []
  },
  {
   "cell_type": "markdown",
   "metadata": {},
   "source": [
    "**Observación:** La posibilidad de definir cuál será el comportamiento de los operadores básicos (como `+`, `-`, `*`, `/`), se llama ***sobrecarga de operadores***."
   ]
  },
  {
   "cell_type": "markdown",
   "metadata": {},
   "source": [
    "# Métodos mágicos o métodos de operador"
   ]
  },
  {
   "cell_type": "markdown",
   "metadata": {},
   "source": [
    "En Python, el ***sobrecargo de operadores*** se logra mediante la implementación de métodos especiales en las clases, conocidos como **métodos de operador** o **métodos mágicos**. Estos métodos tienen nombres especiales que comienzan y terminan con doble guion bajo (por ejemplo, `__add__` para el operador de suma)."
   ]
  },
  {
   "cell_type": "markdown",
   "metadata": {},
   "source": [
    "Enseguida algunos ejemplos de métodos mágicos utilizados para sobrecargar operadores en Python:\n",
    "\n",
    "* `__add__(self, other):` Define el comportamiento para el operador de suma (`+`).\n",
    "  \n",
    "* `__sub__(self, other):` Define el comportamiento para el operador de resta (`-`).\n",
    "  \n",
    "* `__mul__(self, other):` Define el comportamiento para el operador de multiplicación `(*`).\n",
    "  \n",
    "* `__truediv__(self, other):` Define el comportamiento para el operador de división (`/`).\n",
    "  \n",
    "* `__eq__(self, other):` Define el comportamiento para el operador de igualdad (`==`)."
   ]
  },
  {
   "cell_type": "markdown",
   "metadata": {},
   "source": [
    "La sobrecarga de operadores proporciona flexibilidad y permite que tus clases personalizadas se comporten de manera más intuitiva cuando se utilizan con operadores estándar. Sin embargo, se recomienda utilizarla con moderación y siguiendo buenas prácticas de diseño de código, ya que un uso excesivo o incorrecto puede dificultar la comprensión  del código."
   ]
  },
  {
   "cell_type": "markdown",
   "metadata": {},
   "source": [
    "## Métodos en Python: instancia, clase y estáticos"
   ]
  },
  {
   "cell_type": "markdown",
   "metadata": {},
   "source": [
    "En Python, hay diferentes tipos de métodos que se utilizan en las clases. Estos métodos tienen propósitos y características específicas"
   ]
  },
  {
   "cell_type": "markdown",
   "metadata": {},
   "source": [
    "Pues bien, haciendo uso de los `decoradores`, es posible crear diferentes tipos de métodos:\n",
    "\n",
    "* **Métodos de instancia**: los que ya hemos visto.\n",
    "  \n",
    "* **Métodos de clase**: usando el decorador `@classmethod`\n",
    "  \n",
    "* **métodos estáticos**: usando el decorador `@staticmethod`"
   ]
  },
  {
   "cell_type": "markdown",
   "metadata": {},
   "source": [
    "En la siguiente clase tenemos un ejemplo donde definimos los tres tipos de métodos."
   ]
  },
  {
   "cell_type": "code",
   "execution_count": null,
   "metadata": {},
   "outputs": [],
   "source": [
    "class Clase:\n",
    "    def metodo_normal(self):\n",
    "        return 'Método normal'\n",
    "\n",
    "    @classmethod\n",
    "    def metododeclase(cls):\n",
    "        return 'Método de clase'\n",
    "\n",
    "    @staticmethod\n",
    "    def metodoestatico():\n",
    "        return \"Método estático\""
   ]
  },
  {
   "cell_type": "markdown",
   "metadata": {},
   "source": [
    "## Métodos de instancia"
   ]
  },
  {
   "cell_type": "markdown",
   "metadata": {},
   "source": [
    "Los **métodos de instancia** son los métodos más comunes en Python y se definen dentro de una clase. Estos métodos reciben automáticamente el parámetro `self`, que hace referencia a la instancia del objeto  que llama al método. También pueden recibir otros argumentos como entrada."
   ]
  },
  {
   "cell_type": "markdown",
   "metadata": {},
   "source": [
    "Los métodos de instancia:\n",
    "\n",
    "* Pueden **acceder y modificar los atributos del objeto**.\n",
    "  \n",
    "* Pueden **acceder a otros métodos**.\n",
    "<!--   \n",
    "* Dado que desde el objeto self se puede acceder a la clase con ` self.class`, también pueden modificar el estado de la clase -->"
   ]
  },
  {
   "cell_type": "markdown",
   "metadata": {},
   "source": [
    " Los métodos de instancia se llaman utilizando la sintaxis `objeto.metodo()`."
   ]
  },
  {
   "cell_type": "code",
   "execution_count": null,
   "metadata": {},
   "outputs": [],
   "source": [
    "class Clase:\n",
    "    \n",
    "    x = 'atributo de clase'\n",
    "    \n",
    "    \n",
    "    def metodo(self):\n",
    "        return \"Método normal\""
   ]
  },
  {
   "cell_type": "code",
   "execution_count": null,
   "metadata": {},
   "outputs": [],
   "source": [
    "mi_clase = Clase()\n",
    "mi_clase.metodo()"
   ]
  },
  {
   "cell_type": "markdown",
   "metadata": {},
   "source": [
    "**Observación:** El uso de `self` es totalmente arbitrario. Se trata de una convención acordada por los usuarios de Python, usada para referirse a la instancia que llama al método, pero podría ser cualquier otro nombre."
   ]
  },
  {
   "cell_type": "markdown",
   "metadata": {},
   "source": [
    "## Métodos de clase (classmethod)"
   ]
  },
  {
   "cell_type": "markdown",
   "metadata": {},
   "source": [
    "Los **métodos de clase** son métodos que se definen dentro de una clase y reciben automáticamente el parámetro `cls`, que hace referencia a la clase en sí misma en lugar de una instancia específica. Pueden acceder y modificar los atributos de la clase. En general, pueden acceder a la clase pero no a la instancia. Se definen utilizando el decorador @`classmethod` antes de la definición del método. "
   ]
  },
  {
   "cell_type": "code",
   "execution_count": null,
   "metadata": {},
   "outputs": [],
   "source": [
    "class Clase:\n",
    "    \n",
    "    @classmethod\n",
    "    def metododeclase(cls):\n",
    "        return 'Método de clase'"
   ]
  },
  {
   "cell_type": "markdown",
   "metadata": {},
   "source": [
    "Los métodos de clase:\n",
    "\n",
    "* **No pueden acceder a los atributos de la instancia**.\n",
    "  \n",
    "* Pero **si pueden modificar los atributos de la clase**."
   ]
  },
  {
   "cell_type": "markdown",
   "metadata": {},
   "source": [
    "Los métodos de clase se llaman utilizando la sintaxis `Clase.metodo()` o `objeto.metodo()`."
   ]
  },
  {
   "cell_type": "markdown",
   "metadata": {},
   "source": [
    "Se pueden llamar sobre la clase:"
   ]
  },
  {
   "cell_type": "code",
   "execution_count": null,
   "metadata": {},
   "outputs": [],
   "source": [
    "Clase.metododeclase()\n"
   ]
  },
  {
   "cell_type": "markdown",
   "metadata": {},
   "source": [
    "Pero también se pueden llamar sobre el objeto."
   ]
  },
  {
   "cell_type": "code",
   "execution_count": null,
   "metadata": {},
   "outputs": [],
   "source": [
    "mi_clase.metododeclase()"
   ]
  },
  {
   "cell_type": "markdown",
   "metadata": {},
   "source": [
    "Veamos otro ejemplo:"
   ]
  },
  {
   "cell_type": "code",
   "execution_count": null,
   "metadata": {},
   "outputs": [],
   "source": [
    "class Matematicas:\n",
    "    @classmethod\n",
    "    def suma(cls, a, b):\n",
    "        return a + b\n",
    "    \n",
    "    @classmethod\n",
    "    def resta(cls, a, b):\n",
    "        return a - b"
   ]
  },
  {
   "cell_type": "code",
   "execution_count": null,
   "metadata": {},
   "outputs": [],
   "source": [
    "resultado_suma = Matematicas.suma(5, 3)\n",
    "print(resultado_suma)  \n",
    "\n",
    "resultado_resta = Matematicas.resta(7, 2)\n",
    "print(resultado_resta)  "
   ]
  },
  {
   "cell_type": "markdown",
   "metadata": {},
   "source": [
    "Veamos un ejemplo mas:"
   ]
  },
  {
   "cell_type": "code",
   "execution_count": null,
   "metadata": {},
   "outputs": [],
   "source": [
    "class Circulo:\n",
    "    PI = 3.14159\n",
    "\n",
    "    def __init__(self, radio):\n",
    "        self.radio = radio\n",
    "\n",
    "    @classmethod\n",
    "    def calcular_area(cls, radio):\n",
    "        return cls.PI * radio**2\n",
    "\n",
    "    @classmethod\n",
    "    def calcular_perimetro(cls, radio):\n",
    "        return 2 * cls.PI * radio"
   ]
  },
  {
   "cell_type": "code",
   "execution_count": null,
   "metadata": {},
   "outputs": [],
   "source": [
    "c1 = Circulo(2)\n",
    "print(c1.radio)"
   ]
  },
  {
   "cell_type": "code",
   "execution_count": null,
   "metadata": {},
   "outputs": [],
   "source": [
    "area = Circulo.calcular_area(5)\n",
    "print(area)\n"
   ]
  },
  {
   "cell_type": "markdown",
   "metadata": {},
   "source": []
  },
  {
   "cell_type": "markdown",
   "metadata": {},
   "source": [
    "## Métodos estáticos (staticmethod)"
   ]
  },
  {
   "cell_type": "markdown",
   "metadata": {},
   "source": [
    "Los  **métodos de estaticos** son métodos que se definen dentro de una clase, pero no reciben automáticamente el parámetro `self` o `cls`. Esto significa que no tienen acceso a los atributos de instancia ni a los atributos de clase. Los métodos estáticos son independientes de las instancias y no pueden modificar el estado de la clase. \n",
    "Pero por supuesto pueden aceptar parámetros de entrada. Se utilizan generalmente para agrupar funciones relacionadas a la clase, pero que no requieren acceder a los atributos de instancia o de clase."
   ]
  },
  {
   "cell_type": "markdown",
   "metadata": {},
   "source": [
    "Se definen utilizando el decorador `@staticmethod` antes de la definición del método. "
   ]
  },
  {
   "cell_type": "markdown",
   "metadata": {},
   "source": [
    "Los métodos estáticos se llaman utilizando la sintaxis `Clase.metodo()` o `objeto.metodo()`."
   ]
  },
  {
   "cell_type": "code",
   "execution_count": null,
   "metadata": {},
   "outputs": [],
   "source": [
    "class Clase:\n",
    "    @staticmethod\n",
    "    def metodoestatico():\n",
    "        return \"Método estático\""
   ]
  },
  {
   "cell_type": "code",
   "execution_count": null,
   "metadata": {},
   "outputs": [],
   "source": [
    "Clase.metodoestatico()"
   ]
  },
  {
   "cell_type": "code",
   "execution_count": null,
   "metadata": {},
   "outputs": [],
   "source": [
    "class Calculadora:\n",
    "    @staticmethod\n",
    "    def sumar(a, b):\n",
    "        return a + b\n",
    "\n",
    "    @staticmethod\n",
    "    def restar(a, b):\n",
    "        return a - b"
   ]
  },
  {
   "cell_type": "code",
   "execution_count": null,
   "metadata": {},
   "outputs": [],
   "source": [
    "resultado_suma = Calculadora.sumar(5, 3)\n",
    "print(resultado_suma)  \n",
    "\n",
    "resultado_resta = Calculadora.restar(7, 2)\n",
    "print(resultado_resta) "
   ]
  },
  {
   "cell_type": "markdown",
   "metadata": {},
   "source": [
    "**Observación:** La principal diferencia entre los métodos estáticos y los métodos de clase en Python es cómo acceden a los atributos y comportamientos de la clase."
   ]
  },
  {
   "cell_type": "markdown",
   "metadata": {},
   "source": [
    "El siguiente  ejemplo  muestra la diferencia entre los métodos estáticos y los métodos de clase:"
   ]
  },
  {
   "cell_type": "code",
   "execution_count": null,
   "metadata": {},
   "outputs": [],
   "source": [
    "class Calculadora:\n",
    "    @staticmethod\n",
    "    def sumar(num1, num2):\n",
    "        return num1 + num2\n",
    "\n",
    "    @staticmethod\n",
    "    def restar(num1, num2):\n",
    "        return num1 - num2\n",
    "\n",
    "    @staticmethod\n",
    "    def multiplicar(num1, num2):\n",
    "        return num1 * num2"
   ]
  },
  {
   "cell_type": "code",
   "execution_count": null,
   "metadata": {},
   "outputs": [],
   "source": [
    "Ejemplo.metodo_estatico()  "
   ]
  },
  {
   "cell_type": "code",
   "execution_count": null,
   "metadata": {},
   "outputs": [],
   "source": [
    "Ejemplo.metodo_de_clase()  "
   ]
  },
  {
   "cell_type": "markdown",
   "metadata": {},
   "source": [
    "# Herencia"
   ]
  },
  {
   "cell_type": "markdown",
   "metadata": {},
   "source": [
    "La ***herencia*** es un concepto fundamental de la programación orientada a objetos (POO). La *herencia* **permite que una clase herede los atributos y métodos de otra clase**, lo que permite la reutilización de código y la creación de una jerarquía de clases.\n",
    "\n",
    "La clase que se hereda se conoce como **clase base**, **superclase** o **clase padre**, y la clase que hereda se llama **clase derivada**, **subclase** o **clase hija**. \n",
    "\n",
    "La **clase hija** puede acceder a los atributos y métodos de la clase base, y además puede agregar nuevos atributos y métodos, o modificar los existentes."
   ]
  },
  {
   "cell_type": "markdown",
   "metadata": {},
   "source": [
    "Para crear una clase derivada en Python, se utiliza la siguiente sintaxis:"
   ]
  },
  {
   "cell_type": "code",
   "execution_count": null,
   "metadata": {},
   "outputs": [],
   "source": [
    "class ClasePadre:\n",
    "    pass\n",
    "\n",
    "class ClaseHija(ClasePadre):\n",
    "    pass"
   ]
  },
  {
   "cell_type": "markdown",
   "metadata": {},
   "source": [
    "Cuando se crea una instancia de la clase hija, esta hereda los atributos y métodos de la clase padre. Si un atributo o método se encuentra tanto en la clase hija como en la clase padre, se utilizará el de la clase hija."
   ]
  },
  {
   "cell_type": "code",
   "execution_count": null,
   "metadata": {},
   "outputs": [],
   "source": [
    "class Carro:\n",
    "    def __init__(self, modelo,color):\n",
    "        self.modelo = modelo\n",
    "        self.color = color\n",
    "    \n",
    "    def informacion(self):\n",
    "        print('Modelo: ' + self.modelo)\n",
    "        print('Color: ' + self.color)\n",
    "        \n",
    "\n",
    "\n",
    "class Ford(Carro):\n",
    "   \n",
    "    def __init__(self, modelo,color,propiedadf):\n",
    "        super().__init__(modelo,color)\n",
    "        self.propiedadf = propiedadf\n",
    "        \n",
    "    def informacion(self):\n",
    "        super().informacion()\n",
    "        print('Propiedad: ' + self.propiedadf)        \n"
   ]
  },
  {
   "cell_type": "code",
   "execution_count": null,
   "metadata": {},
   "outputs": [],
   "source": [
    "mi_carro_ford = Ford('focus','plateado','Propiedad de un ford')\n",
    "otro_carro_ford = Ford('focusx','Negro','Propiedad x de un ford')"
   ]
  },
  {
   "cell_type": "code",
   "execution_count": null,
   "metadata": {},
   "outputs": [],
   "source": [
    "mi_carro_ford.informacion()"
   ]
  },
  {
   "cell_type": "code",
   "execution_count": null,
   "metadata": {},
   "outputs": [],
   "source": [
    "print(mi_carro_ford.modelo) \n",
    "print(mi_carro_ford.color) \n",
    "print(mi_carro_ford.propiedadf) \n",
    "\n",
    "\n"
   ]
  },
  {
   "cell_type": "code",
   "execution_count": null,
   "metadata": {},
   "outputs": [],
   "source": [
    "print(otro_carro_ford.modelo) \n",
    "print(otro_carro_ford.color) \n",
    "print(otro_carro_ford.propiedadf) \n",
    "\n"
   ]
  }
 ],
 "metadata": {
  "kernelspec": {
   "display_name": "base",
   "language": "python",
   "name": "python3"
  },
  "language_info": {
   "codemirror_mode": {
    "name": "ipython",
    "version": 3
   },
   "file_extension": ".py",
   "mimetype": "text/x-python",
   "name": "python",
   "nbconvert_exporter": "python",
   "pygments_lexer": "ipython3",
   "version": "3.9.13"
  },
  "orig_nbformat": 4
 },
 "nbformat": 4,
 "nbformat_minor": 2
}
