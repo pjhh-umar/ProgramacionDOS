{
 "cells": [
  {
   "cell_type": "code",
   "execution_count": null,
   "id": "ddde5635",
   "metadata": {},
   "outputs": [],
   "source": [
    "pip install pandas "
   ]
  },
  {
   "cell_type": "code",
   "execution_count": null,
   "id": "43ee667d",
   "metadata": {},
   "outputs": [],
   "source": [
    "import pandas as pd\n",
    "import numpy as np\n",
    "\n",
    "ruta = r'../datasets/MOSPU.csv'\n",
    "df= pd.read_csv(ruta)"
   ]
  },
  {
   "cell_type": "code",
   "execution_count": null,
   "id": "c21a5442",
   "metadata": {},
   "outputs": [],
   "source": [
    "df"
   ]
  },
  {
   "cell_type": "code",
   "execution_count": null,
   "id": "d8939902",
   "metadata": {},
   "outputs": [],
   "source": [
    "df.info()"
   ]
  },
  {
   "cell_type": "code",
   "execution_count": null,
   "id": "0ae11474",
   "metadata": {},
   "outputs": [],
   "source": [
    "df[df['Age'] == np.NAN]"
   ]
  },
  {
   "cell_type": "code",
   "execution_count": null,
   "id": "5dfa8782",
   "metadata": {},
   "outputs": [],
   "source": [
    "columnas=[\"IMDb\",\"Rotten Tomatoes\",\"Directors\"]\n",
    "def valores(indice):\n",
    "    if indice==columnas[0]:\n",
    "        valor=\"Sin calificar\"\n",
    "    elif indice==columnas[1]:\n",
    "        valor=\"Sin clasificación\"\n",
    "    elif indice==columnas[2]:\n",
    "        valor=\" \"\n",
    "    else:\n",
    "        valor=\" \"\n",
    "    return valor\n",
    "    "
   ]
  },
  {
   "cell_type": "code",
   "execution_count": null,
   "id": "e0beb09d",
   "metadata": {},
   "outputs": [],
   "source": [
    "columnas=[\"IMDb\",\"Rotten Tomatoes\",\"Directors\"]\n",
    "for i in columnas:\n",
    "  if df[i].isnull().sum()==0:\n",
    "    print(f\"En la columna {i} no exiten valores nulos\")\n",
    "  else:\n",
    "    df[i]= df[i].fillna(valores(i))\n",
    "df.head()"
   ]
  },
  {
   "cell_type": "code",
   "execution_count": null,
   "id": "73a620d7",
   "metadata": {},
   "outputs": [],
   "source": [
    "#generos totales\n",
    "genero= df[\"Genres\"]\n",
    "df[\"Genres\"]= genero.fillna(\"Singenero\")\n",
    "genero= df[\"Genres\"]\n",
    "list_generos=[]\n",
    "conjunto=[]\n",
    "for i in range(0,len(genero)):\n",
    "    list_generos.append(genero[i])\n",
    "for i in list_generos:\n",
    "    elemento= str(i).split(\",\")\n",
    "    for x in elemento:\n",
    "        conjunto.append(x)\n",
    "conjunto_generos= list(set(conjunto))\n",
    "promedio=[]"
   ]
  },
  {
   "cell_type": "code",
   "execution_count": null,
   "id": "edf8431a",
   "metadata": {},
   "outputs": [],
   "source": [
    "import pandas as pd\n",
    "import numpy as np\n",
    "\n",
    "ruta = r'../datasets/MOSPU.csv'\n",
    "df= pd.read_csv(ruta)"
   ]
  },
  {
   "cell_type": "code",
   "execution_count": null,
   "id": "cd05fc10",
   "metadata": {},
   "outputs": [],
   "source": [
    "cantidad_totales=[]\n",
    "for canal_1 in plataformas:\n",
    "    lista_cantidad=[]\n",
    "    canal=df[canal_1]\n",
    "    generos=df[\"Genres\"]\n",
    "    for indice in range(0,len(conjunto_generos)):\n",
    "        genero= conjunto_generos[indice] \n",
    "        cantidad=0\n",
    "        for i in range(0,len(df[\"Genres\"])):\n",
    "            lista= generos[i].split(\",\")\n",
    "            if genero in lista and canal[i]== 1:\n",
    "               cantidad+=1\n",
    "        lista_cantidad.append(cantidad)\n",
    "    cantidad_totales.append(lista_cantidad)\n",
    "#print(cantidad_totales)\n",
    "\n"
   ]
  },
  {
   "cell_type": "code",
   "execution_count": null,
   "id": "95d9a1f8",
   "metadata": {},
   "outputs": [],
   "source": [
    "import matplotlib.pyplot as plt\n",
    "plataformas=[\"Netflix\", \"Hulu\",\"Prime Video\",\"Disney+\"]\n",
    "fig, axs = plt.subplots(2, 2, figsize=(10,10),sharex=True,sharey=True)\n",
    "filas=2\n",
    "columnas=2\n",
    "contador=0\n",
    "contador_ax=0\n",
    "for k in range(0,filas):\n",
    "    for j in range(0,columnas):\n",
    "        if contador<len(plataformas):\n",
    "            axs[k,j].bar(conjunto_generos , cantidad_totales[contador_ax])\n",
    "            axs[k,j].tick_params(axis=\"x\",rotation=90)\n",
    "            axs[k,j].set_xlabel(plataformas[contador_ax])\n",
    "            contador+=1\n",
    "            contador_ax+=1"
   ]
  },
  {
   "cell_type": "code",
   "execution_count": null,
   "id": "5d464029",
   "metadata": {},
   "outputs": [],
   "source": []
  },
  {
   "cell_type": "code",
   "execution_count": null,
   "id": "b86ce1a4",
   "metadata": {},
   "outputs": [],
   "source": [
    "plataformas=[\"Netflix\", \"Hulu\",\"Prime Video\",\"Disney+\"]\n",
    "cantidad_fam=[]\n",
    "for i in range(0,len(conjunto_generos)):\n",
    "    if conjunto_generos[i]==\"Family\":\n",
    "        indice= i\n",
    "        \n",
    "for cantidad in cantidad_totales:\n",
    "    cantidad_fam.append(cantidad[indice])\n",
    "    \n",
    "cantidad_copia= cantidad_fam.copy()\n",
    "cantidad_copia.sort()\n",
    "for elemento in range(0,len(cantidad_fam)):\n",
    "    if cantidad_fam[elemento]==cantidad_copia[len(cantidad_fam)-1]:\n",
    "        lugar_indice= elemento\n",
    "        \n",
    "print(f\"La plataforma con mayor numero de peliculas del genero family es {plataformas[lugar_indice]}\")"
   ]
  },
  {
   "cell_type": "code",
   "execution_count": null,
   "id": "df8f94a5",
   "metadata": {},
   "outputs": [],
   "source": [
    "netflix=df[\"Netflix\"]\n",
    "prime=df[\"Prime Video\"]\n",
    "pelicula=df[\"ID\"]\n",
    "nombre_peli= df[\"Title\"]\n",
    "comunes=[]\n",
    "indices_comunes=[]\n",
    "for i in range(0,len(pelicula)):\n",
    "    if netflix[i] == 1 and prime[i]==1:\n",
    "        comunes.append(nombre_peli[i])\n",
    "        indices_comunes.append(i)\n",
    "    else:\n",
    "        pass\n",
    "comunes.reverse()    \n",
    "cadena_comunes= \", \".join(comunes)\n",
    "print(f\"El numero de peliculas que tienen en común es : {len(comunes)}\")\n",
    "print(f\"Las peliculas que tienen en comn son: {cadena_comunes}\")\n",
    "\n",
    "idioma=df[\"Language\"]\n",
    "duracion=df[\"Runtime\"]\n",
    "pelicula=df[\"ID\"]\n",
    "nombre_peli= df[\"Title\"]\n",
    "español_largas=[]\n",
    "for indice in indices_comunes:\n",
    "    if idioma[indice] == \"Spanish\" and duracion[indice]>=180:\n",
    "        español_largas.append(nombre_peli[i])\n",
    "    else:\n",
    "        pass\n",
    "español_largas.reverse()    \n",
    "cadena_español_largas= \", \".join(español_largas)\n",
    "print(f\"El numero de peliculas que estan en español y duran mas de 180 minutos son : {len(español_largas)}\")\n",
    "print(f\"Las peliculas que tienen en comn son: {cadena_español_largas}\")"
   ]
  },
  {
   "cell_type": "code",
   "execution_count": null,
   "id": "e4f4f990",
   "metadata": {},
   "outputs": [],
   "source": [
    "import pandas as pd\n",
    "import numpy as np\n",
    "\n",
    "ruta = r'../datasets/MOSPU.csv'\n",
    "df= pd.read_csv(ruta)"
   ]
  },
  {
   "cell_type": "code",
   "execution_count": null,
   "id": "4f5771eb",
   "metadata": {},
   "outputs": [],
   "source": [
    "import matplotlib.pyplot as plt\n",
    "from collections import Counter\n",
    "\n",
    "# Función para contar géneros por plataforma\n",
    "def contar_generos_por_plataforma(df, plataforma):\n",
    "    generos = df[df[plataforma] == 1]['Genres'].dropna()\n",
    "    lista_generos = []\n",
    "    for g in generos:\n",
    "        lista_generos.extend(g.split(','))\n",
    "    return Counter([g.strip() for g in lista_generos])\n",
    "\n",
    "print(contar_generos_por_plataforma(df,'Hulu'))"
   ]
  },
  {
   "cell_type": "code",
   "execution_count": null,
   "id": "2bd9f952",
   "metadata": {},
   "outputs": [],
   "source": [
    "df[df['Hulu'] == 1]['Genres'].index"
   ]
  },
  {
   "cell_type": "code",
   "execution_count": null,
   "id": "18d5964a",
   "metadata": {},
   "outputs": [],
   "source": []
  },
  {
   "cell_type": "code",
   "execution_count": null,
   "id": "1c6ed3f3",
   "metadata": {},
   "outputs": [],
   "source": [
    "lista_generos = [str(df[df['Hulu'] == 1]['Genres'][x]).split(',') for x in  df[df['Hulu'] == 1]['Genres'].index]\n",
    "lista_generos[0]"
   ]
  },
  {
   "cell_type": "code",
   "execution_count": null,
   "id": "1a92cc61",
   "metadata": {},
   "outputs": [],
   "source": [
    "import matplotlib.pyplot as plt\n",
    "from collections import Counter\n",
    "\n",
    "# Función para contar géneros por plataforma\n",
    "def contar_generos_por_plataforma(df, plataforma):\n",
    "    generos = df[df[plataforma] == 1]['Genres'].dropna()\n",
    "    lista_generos = []\n",
    "    for g in generos:\n",
    "        lista_generos.extend(g.split(','))\n",
    "    return Counter([g.strip() for g in lista_generos])\n",
    "\n",
    "# Plataformas disponibles\n",
    "plataformas = ['Netflix', 'Hulu', 'Prime Video', 'Disney+']\n",
    "\n",
    "# Crear gráfico de barras para cada plataforma\n",
    "fig, axs = plt.subplots(2, 2, figsize=(15, 10))\n",
    "axs = axs.flatten()\n",
    "\n",
    "for i, plataforma in enumerate(plataformas):\n",
    "    conteo = contar_generos_por_plataforma(df, plataforma)\n",
    "    top_genres = dict(sorted(conteo.items(), key=lambda x: x[1], reverse=True)[:10])\n",
    "    \n",
    "    axs[i].bar(top_genres.keys(), top_genres.values(), color='skyblue')\n",
    "    axs[i].set_title(f'Películas por Género en {plataforma}')\n",
    "    axs[i].set_xticklabels(top_genres.keys(), rotation=45, ha='right')\n",
    "    axs[i].set_ylabel('Cantidad')\n",
    "\n",
    "plt.tight_layout()\n",
    "plt.show()\n"
   ]
  },
  {
   "cell_type": "code",
   "execution_count": null,
   "id": "7fb657af",
   "metadata": {},
   "outputs": [],
   "source": [
    "import matplotlib.pyplot as plt\n",
    "\n",
    "# Asegurarse de que los valores de género son strings y no NaN\n",
    "df['Genres'] = df['Genres'].fillna('').astype(str)\n",
    "\n",
    "# Crear un conjunto de DataFrames por plataforma\n",
    "platforms = ['Netflix', 'Hulu', 'Prime Video', 'Disney+']\n",
    "genre_counts = {}\n",
    "\n",
    "for platform in platforms:\n",
    "    # Filtrar películas disponibles en la plataforma\n",
    "    df_platform = df[df[platform] == 1]\n",
    "    \n",
    "    # Desglosar los géneros y contar\n",
    "    genres_list = []\n",
    "    for genres in df_platform['Genres']:\n",
    "        genres_split = genres.split(',')\n",
    "        genres_list.extend([genre.strip() for genre in genres_split if genre.strip() != ''])\n",
    "    \n",
    "    # Contar ocurrencias\n",
    "    genre_series = pd.Series(genres_list).value_counts()\n",
    "    genre_counts[platform] = genre_series\n",
    "\n",
    "    # Graficar\n",
    "    plt.figure(figsize=(10, 5))\n",
    "    genre_series.plot(kind='bar', color='skyblue')\n",
    "    plt.title(f'Cantidad de películas por género en {platform}')\n",
    "    plt.ylabel('Cantidad de películas')\n",
    "    plt.xlabel('Género')\n",
    "    plt.xticks(rotation=45, ha='right')\n",
    "    plt.tight_layout()\n",
    "    plt.show()\n"
   ]
  },
  {
   "cell_type": "code",
   "execution_count": null,
   "id": "7254e1f1",
   "metadata": {},
   "outputs": [],
   "source": [
    "# Contar cuántas películas tienen el género 'Family' por plataforma\n",
    "family_counts = {}\n",
    "\n",
    "for platform in platforms:\n",
    "    df_platform = df[df[platform] == 1]\n",
    "    count_family = df_platform['Genres'].dropna().apply(lambda x: 'Family' in x.split(',')).sum()\n",
    "    family_counts[platform] = count_family\n",
    "\n",
    "family_counts\n"
   ]
  },
  {
   "cell_type": "code",
   "execution_count": null,
   "id": "4d27c69e",
   "metadata": {},
   "outputs": [],
   "source": [
    "import matplotlib.pyplot as plt\n",
    "\n",
    "# Lista de plataformas\n",
    "plataformas = ['Netflix', 'Hulu', 'Prime Video', 'Disney+']\n",
    "\n",
    "# Revisar todos los datos uno por uno para cada plataforma\n",
    "for plataforma in plataformas:\n",
    "    generos_contados = {}  # diccionario para contar géneros\n",
    "\n",
    "    # Recorrer todas las filas\n",
    "    for i in range(len(df)):\n",
    "        if df[plataforma][i] == 1:\n",
    "            generos = df['Genres'][i]\n",
    "            if type(generos) == str:\n",
    "                lista_generos = generos.split(',')\n",
    "                for genero in lista_generos:\n",
    "                    genero = genero.strip()\n",
    "                    if genero != '':\n",
    "                        if genero not in generos_contados:\n",
    "                            generos_contados[genero] = 1\n",
    "                        else:\n",
    "                            generos_contados[genero] += 1\n",
    "\n",
    "    # Crear listas para graficar\n",
    "    nombres_generos = list(generos_contados.keys())\n",
    "    cantidad_generos = list(generos_contados.values())\n",
    "\n",
    "    # Hacer la gráfica\n",
    "    plt.figure(figsize=(10, 5))\n",
    "    plt.bar(nombres_generos, cantidad_generos, color='skyblue')\n",
    "    plt.title('Películas por género en ' + plataforma)\n",
    "    plt.xlabel('Género')\n",
    "    plt.ylabel('Cantidad de películas')\n",
    "    plt.xticks(rotation=45, ha='right')\n",
    "    plt.tight_layout()\n",
    "    plt.show()\n"
   ]
  },
  {
   "cell_type": "code",
   "execution_count": null,
   "id": "8e8290f7",
   "metadata": {},
   "outputs": [],
   "source": [
    "import matplotlib.pyplot as plt\n",
    "\n",
    "# Asegurarse de que los valores de género son strings y no NaN\n",
    "df['Genres'] = df['Genres'].fillna('').astype(str)\n",
    "\n",
    "# Crear un conjunto de DataFrames por plataforma\n",
    "platforms = ['Netflix', 'Hulu', 'Prime Video', 'Disney+']\n",
    "platform = 'Netflix'\n",
    "\n",
    "# Filtrar películas disponibles en la plataforma\n",
    "df_platform = df[df[platform] == 1]\n",
    "df_platform['Genres'].head()\n"
   ]
  },
  {
   "cell_type": "code",
   "execution_count": null,
   "id": "d5cf50b9",
   "metadata": {},
   "outputs": [],
   "source": [
    "genres_list = []\n",
    "for genres in df_platform['Genres']:\n",
    "    genres_split = genres.split(',')\n",
    "    genres_list.extend([genre.strip() for genre in genres_split if genre.strip() != ''])\n",
    "\n",
    "genres_list"
   ]
  },
  {
   "cell_type": "code",
   "execution_count": null,
   "id": "2f3fc548",
   "metadata": {},
   "outputs": [],
   "source": [
    "genre_series = pd.Series(genres_list).value_counts()\n",
    "genre_series.head()\n"
   ]
  },
  {
   "cell_type": "code",
   "execution_count": null,
   "id": "52560975",
   "metadata": {},
   "outputs": [],
   "source": [
    "genre_counts = {}\n",
    "genre_counts[platform] = genre_series\n",
    "genre_series"
   ]
  },
  {
   "cell_type": "code",
   "execution_count": null,
   "id": "f2d67292",
   "metadata": {},
   "outputs": [],
   "source": [
    "   # Hacer la gráfica\n",
    "plt.figure(figsize=(10, 5))\n",
    "plt.bar(genre_series.keys(), genre_series.values, color='skyblue')\n",
    "plt.title('Películas por género en ' + platform)\n",
    "plt.xlabel('Género')\n",
    "plt.ylabel('Cantidad de películas')\n",
    "plt.xticks(rotation=45, ha='right')\n",
    "plt.tight_layout()\n",
    "plt.show()"
   ]
  },
  {
   "cell_type": "code",
   "execution_count": null,
   "id": "5cdc9d32",
   "metadata": {},
   "outputs": [],
   "source": []
  }
 ],
 "metadata": {
  "kernelspec": {
   "display_name": "base",
   "language": "python",
   "name": "python3"
  },
  "language_info": {
   "codemirror_mode": {
    "name": "ipython",
    "version": 3
   },
   "file_extension": ".py",
   "mimetype": "text/x-python",
   "name": "python",
   "nbconvert_exporter": "python",
   "pygments_lexer": "ipython3",
   "version": "3.9.13"
  }
 },
 "nbformat": 4,
 "nbformat_minor": 5
}
