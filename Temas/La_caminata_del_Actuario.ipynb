{
 "cells": [
  {
   "cell_type": "markdown",
   "id": "2fde9d05",
   "metadata": {},
   "source": [
    "# \"La caminata del Actuario en Huatulco\"\n",
    "\n",
    "Imaginemos por un momento que estamos saliendo de una noche de fiesta intensa en Papaya, ese antro famoso de Huatulco que muchos conocen. Todo ha sido música, luces, y buena compañía… pero ahora, nuestro protagonista de esta historia —llamémosle “El Actuario”— decide volver caminando a la playa de Chahué.\n",
    "\n",
    "Pero hay un detalle importante: el actuario no tiene rumbo fijo. Su sentido de orientación se ha desvanecido entre el desvelo y el baile, y cada paso que da es completamente aleatorio. Un paso hacia adelante, luego tal vez a la izquierda, después quizás hacia atrás… nadie puede predecir con certeza qué dirección tomará.\n",
    "\n",
    "Esta caminata caótica pero fascinante es lo que en matemáticas conocemos como una ***caminata aleatoria***. *Cada paso es independiente del anterior*, y no hay una meta predefinida.\n",
    "\n",
    "**¿Cuál es la Pobabilidad de que el Actuario llegue finalmente a la playa? ¿Terminará de vuelta en Papaya? ¿O se perderá por las calles de Huatulco?**\n"
   ]
  },
  {
   "cell_type": "code",
   "execution_count": null,
   "id": "34a0f628",
   "metadata": {},
   "outputs": [],
   "source": []
  }
 ],
 "metadata": {
  "kernelspec": {
   "display_name": "base",
   "language": "python",
   "name": "python3"
  },
  "language_info": {
   "codemirror_mode": {
    "name": "ipython",
    "version": 3
   },
   "file_extension": ".py",
   "mimetype": "text/x-python",
   "name": "python",
   "nbconvert_exporter": "python",
   "pygments_lexer": "ipython3",
   "version": "3.9.13"
  }
 },
 "nbformat": 4,
 "nbformat_minor": 5
}
