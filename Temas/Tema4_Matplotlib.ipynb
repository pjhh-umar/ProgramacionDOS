{
 "cells": [
  {
   "attachments": {},
   "cell_type": "markdown",
   "metadata": {},
   "source": [
    "# Librería `Matplotlib`\n",
    "\n"
   ]
  },
  {
   "attachments": {},
   "cell_type": "markdown",
   "metadata": {},
   "source": [
    "**Matplotlib** es una librería de Python especializada en la creación de gráficos en 2D (y con extensiones, también 3D) para crear gráficos estáticos, animados e interactivos en Python. Su módulo principal es `pyplot`, que ofrece una interfaz similar a MATLAB. Se trata de un paquete grande y relativamente complejo que entre otros contiene `pylab`."
   ]
  },
  {
   "attachments": {},
   "cell_type": "markdown",
   "metadata": {},
   "source": [
    "`Pyplot` ofrece una interfaz fácil para crear gráficos fácilmente, automatizando la creación de figuras y ejes automáticamente cuando hace un gráfico. Por otra parte, `pylab` combina la funcionalida de `pyplot` para hacer gráficos con funcionalidad de numpy para hacer cálculos con arrays usando un único espacio de nombres muy parecido a Matlab."
   ]
  },
  {
   "cell_type": "code",
   "execution_count": null,
   "metadata": {},
   "outputs": [],
   "source": [
    "pip show matplotlib"
   ]
  },
  {
   "cell_type": "code",
   "execution_count": null,
   "metadata": {},
   "outputs": [],
   "source": [
    "pip install matplotlib"
   ]
  },
  {
   "cell_type": "code",
   "execution_count": null,
   "metadata": {},
   "outputs": [],
   "source": [
    "import matplotlib.pyplot as plt\n",
    "\n",
    "ahorros = [50, 100, 30, 65, 120,0]\n",
    "\n",
    "plt.plot(ahorros)\n",
    "\n",
    "plt.show()"
   ]
  },
  {
   "cell_type": "code",
   "execution_count": null,
   "metadata": {},
   "outputs": [],
   "source": [
    "a = [5, 1, 7, 2]\n",
    "b = [11, 22, 33, 44]\n",
    "plt.plot(a, b,color='red', linewidth=0.5, label='linea')\n",
    "plt.legend()\n",
    "plt.title('Mi gráfica')\n",
    "plt.ylabel('Eje Y')\n",
    "plt.xlabel('Eje X')\n",
    "plt.grid()\n",
    "plt.show()\n",
    "\n"
   ]
  },
  {
   "attachments": {},
   "cell_type": "markdown",
   "metadata": {},
   "source": [
    "## Diagrama de línea"
   ]
  },
  {
   "attachments": {},
   "cell_type": "markdown",
   "metadata": {},
   "source": [
    "<table>\n",
    "  <thead>\n",
    "    <tr>\n",
    "      <th>Argumento</th>\n",
    "      <th>Descripción</th>\n",
    "    </tr>\n",
    "  </thead>\n",
    "  <tbody>\n",
    "    <tr>\n",
    "      <td>x</td>\n",
    "      <td>Los datos de las coordenadas x de los puntos que se van a trazar. Puede ser una secuencia de valores numéricos.</td>\n",
    "    </tr>\n",
    "    <tr>\n",
    "      <td>y</td>\n",
    "      <td>Los datos de las coordenadas y de los puntos que se van a trazar. Puede ser una secuencia de valores numéricos.</td>\n",
    "    </tr>\n",
    "    <tr>\n",
    "      <td>color</td>\n",
    "      <td>El color de la línea. Puede ser un color específico (como \"red\" o \"#FF0000\") o un código de color hexadecimal.</td>\n",
    "    </tr>\n",
    "    <tr>\n",
    "      <td>linestyle</td>\n",
    "      <td>El estilo de línea. Puede ser \"-\" (línea sólida), \"--\" (línea punteada), \"-.\" (línea guion-punto), \":\" (línea punteada fina) u otros estilos disponibles.</td>\n",
    "    </tr>\n",
    "    <tr>\n",
    "      <td>linewidth</td>\n",
    "      <td>El ancho de línea. Puede ser un número para especificar el grosor en puntos, o también puede ser una cadena como \"thin\", \"medium\" o \"thick\".</td>\n",
    "    </tr>\n",
    "    <tr>\n",
    "      <td>marker</td>\n",
    "      <td>El marcador colocado en cada punto de datos. Puede ser un símbolo como \"o\" (círculo), \"s\" (cuadrado), \"D\" (diamante), \"+\" (más) u otros marcadores disponibles.</td>\n",
    "    </tr>\n",
    "    <tr>\n",
    "      <td>markersize</td>\n",
    "      <td>El tamaño de los marcadores. Puede ser un número para especificar el tamaño en puntos.</td>\n",
    "    </tr>\n",
    "    <tr>\n",
    "      <td>label</td>\n",
    "      <td>La etiqueta asignada a la línea trazada. Las etiquetas se utilizan para crear una leyenda que describe cada línea.</td>\n",
    "    </tr>\n",
    "    <tr>\n",
    "      <td>alpha</td>\n",
    "      <td>La transparencia de la línea. Puede ser un valor numérico entre 0 y 1, donde 0 significa completamente transparente y 1 significa completamente opaco.</td>\n",
    "    </tr>\n",
    "  </tbody>\n",
    "</table>\n"
   ]
  },
  {
   "cell_type": "code",
   "execution_count": null,
   "metadata": {},
   "outputs": [],
   "source": [
    "import matplotlib.pyplot as plt\n",
    "\n",
    "#Definir los datos\n",
    "x1 = [3, 4, 5, 6]\n",
    "y1 = [5, 6, 3, 4]\n",
    "x2 = [2, 5, 8]\n",
    "y2 = [3, 4, 3]\n",
    "\n",
    "#Configurar las características del gráfico\n",
    "plt.plot(x1, y1, label = 'Línea 1', linewidth = 1, color = 'blue')\n",
    "plt.plot(x2, y2, label = 'Línea 2', linewidth = 1, color = 'green')\n",
    "\n",
    "#Definir título y nombres de ejes\n",
    "plt.title('Diagrama de Líneas')\n",
    "plt.ylabel('Eje Y')\n",
    "plt.xlabel('Eje X')\n",
    "\n",
    "#Mostrar leyenda, cuadrícula y figura\n",
    "plt.legend()\n",
    "plt.grid()\n",
    "plt.show()"
   ]
  },
  {
   "cell_type": "code",
   "execution_count": null,
   "metadata": {},
   "outputs": [],
   "source": [
    "from matplotlib import pyplot\n",
    "\n",
    "# Función cuadrática.\n",
    "def f1(x):\n",
    "    return 2*(x**2) + 5*x - 2\n",
    "\n",
    "# Función lineal.\n",
    "def f2(x):\n",
    "    return 4*x + 1\n",
    "\n",
    "# Valores del eje X que toma el gráfico.\n",
    "x = range(-10, 10)\n",
    "\n",
    "# Graficar ambas funciones.\n",
    "pyplot.plot(x, [f1(i) for i in x])\n",
    "pyplot.plot(x, [f2(i) for i in x])\n",
    "\n",
    "# Establecer el color de los ejes.\n",
    "pyplot.axhline(0, color=\"black\")\n",
    "pyplot.axvline(0, color=\"black\")\n",
    "\n",
    "# Limitar los valores de los ejes.\n",
    "pyplot.xlim(-10, 10)\n",
    "pyplot.ylim(-10, 10)\n",
    "\n",
    "# Guardar gráfico como imágen PNG.\n",
    "pyplot.savefig(\"mi_grafica.jpg\")\n",
    "pyplot.show()"
   ]
  },
  {
   "cell_type": "markdown",
   "metadata": {},
   "source": [
    "### Ejercicio\n",
    "\n",
    "Una persona invierte una cantidad inicial de **$5,000** en una cuenta que paga un **interés compuesto** del **6% anual**. La inversión se mantiene durante **15 años** y el interés se capitaliza **una vez al año**.\n",
    "\n",
    "Utiliza la fórmula del **interés compuesto** para calcular el **capital final** al cabo de cada año. La fórmula es:\n",
    "\n",
    "   $$A = P \\left(1 + \\frac{r}{n}\\right)^{nt}$$\n",
    "\n",
    "   Donde:\n",
    "   - $ A $ es el monto final de la inversión después de $ t $ años.\n",
    "   - $ P $ es el capital inicial (\\$5,000).\n",
    "   - $ r $ es la tasa de interés anual (6% o 0.06).\n",
    "   - $ n $ es el número de veces que se capitaliza el interés al año (en este caso 1).\n",
    "   - $ t $ es el tiempo en años (de 1 a 15)."
   ]
  },
  {
   "attachments": {},
   "cell_type": "markdown",
   "metadata": {},
   "source": [
    "## Gráfica de barras"
   ]
  },
  {
   "cell_type": "markdown",
   "metadata": {},
   "source": [
    "<table>\n",
    "  <thead>\n",
    "    <tr>\n",
    "      <th>Argumento</th>\n",
    "      <th>Descripción</th>\n",
    "    </tr>\n",
    "  </thead>\n",
    "  <tbody>\n",
    "    <tr>\n",
    "      <td>x</td>\n",
    "      <td>Los valores de la posición x de las barras. Puede ser una secuencia de valores numéricos o una secuencia de etiquetas para etiquetar cada barra en el eje x.</td>\n",
    "    </tr>\n",
    "    <tr>\n",
    "      <td>height</td>\n",
    "      <td>La altura de las barras. Puede ser una secuencia de valores numéricos que representen la altura de cada barra o un solo número para establecer una altura fija para todas las barras.</td>\n",
    "    </tr>\n",
    "    <tr>\n",
    "      <td>width</td>\n",
    "      <td>El ancho de las barras. Es opcional y su valor predeterminado es 0.8. Puede ser un número entre 0 y 1 para especificar un ancho relativo a la separación entre barras.</td>\n",
    "    </tr>\n",
    "    <tr>\n",
    "      <td>align</td>\n",
    "      <td>La alineación de las barras con respecto a las posiciones x. Puede ser \"center\" (centro) o \"edge\" (borde). El valor predeterminado es \"center\".</td>\n",
    "    </tr>\n",
    "    <tr>\n",
    "      <td>color</td>\n",
    "      <td>El color de las barras. Puede ser un solo color para todas las barras o una secuencia de colores del mismo tamaño que los valores x o las alturas de las barras para especificar colores diferentes para cada barra.</td>\n",
    "    </tr>\n",
    "    <tr>\n",
    "      <td>edgecolor</td>\n",
    "      <td>El color del borde de las barras. Es opcional y su valor predeterminado es None. Puede ser un color específico o None para no dibujar bordes.</td>\n",
    "    </tr>\n",
    "    <tr>\n",
    "      <td>linewidth</td>\n",
    "      <td>El ancho del borde de las barras. Es opcional. Puede ser un número que representa el grosor del borde en puntos. Si no se especifica, se usa el valor por defecto del sistema.</td>\n",
    "    </tr>\n",
    "    <tr>\n",
    "      <td>tick_label</td>\n",
    "      <td>Las etiquetas de los ticks en el eje x. Es opcional y se utiliza para etiquetar cada barra en el eje x. Debe ser una secuencia de etiquetas del mismo tamaño que los valores x.</td>\n",
    "    </tr>\n",
    "    <tr>\n",
    "      <td>label</td>\n",
    "      <td>Etiqueta para incluir en la leyenda del gráfico. Es útil cuando se quieren mostrar varias series de barras con `plt.legend()`.</td>\n",
    "    </tr>\n",
    "    <tr>\n",
    "      <td>alpha</td>\n",
    "      <td>El nivel de transparencia de las barras. Es un valor entre 0 (completamente transparente) y 1 (completamente opaco). El valor por defecto es 1.</td>\n",
    "    </tr>\n",
    "  </tbody>\n",
    "</table>\n"
   ]
  },
  {
   "cell_type": "code",
   "execution_count": null,
   "metadata": {},
   "outputs": [],
   "source": [
    "#Definir los datos\n",
    "x1 = ['A','B','C', 'D', 'E']\n",
    "y1 = [10, 55, 80, 32, 40]\n",
    "x2 = ['a', 'b', 'c', 'd', 'e']\n",
    "y2 = [42, 26, 10, 29, 66]\n",
    "\n",
    "#Configurar las características del gráfico\n",
    "plt.bar(x1, y1, label = 'Datos 1', width = 0.75, color = 'lightblue')\n",
    "#plt.bar(x2, y2, label = 'Datos 2', width = 0.75, color = 'orange')\n",
    "\n",
    "#Definir título y nombres de ejes\n",
    "plt.title('Gráfico de barras')\n",
    "plt.ylabel('Valores')\n",
    "plt.xlabel('Categorias')\n",
    "\n",
    "#Mostrar leyenda y figura\n",
    "plt.legend()\n",
    "plt.show()"
   ]
  },
  {
   "cell_type": "code",
   "execution_count": null,
   "metadata": {},
   "outputs": [],
   "source": [
    "#Definir los datos\n",
    "x1 = [0.25, 1.25, 2.25, 3.25, 4.25]\n",
    "y1 = [10, 55, 80, 32, 40]\n",
    "x2 = [0.75, 1.75, 2.75, 3.75, 4.75]\n",
    "y2 = [42, 26, 10, 29, 66]\n",
    "\n",
    "#Configurar las características del gráfico\n",
    "plt.bar(x1, y1, label = 'Conjunto de datos 1', width = 0.5, color = 'lightblue')\n",
    "plt.bar(x2, y2, label = 'Conjunto de datos 2', width = 0.5, color = 'orange')\n",
    "\n",
    "#Definir título y nombres de ejes\n",
    "plt.title('Gráfico de barras')\n",
    "plt.ylabel('Categorias')\n",
    "plt.xlabel('Valores')\n",
    "\n",
    "#Mostrar leyenda y figura\n",
    "plt.legend()\n",
    "plt.show()"
   ]
  },
  {
   "cell_type": "code",
   "execution_count": null,
   "metadata": {},
   "outputs": [],
   "source": [
    "import matplotlib.pyplot as plt\n",
    "\n",
    "# Datos de ejemplo\n",
    "categorias = ['A', 'B', 'C', 'D']\n",
    "valores = [10, 20, 15, 25]\n",
    "\n",
    "# Cambiar el color y el ancho de las barras\n",
    "colores = ['red', 'green', 'blue', 'orange'] #Lista de colores, para asignar un color diferente a cada barra.\n",
    "anchos = [0.5, 0.75, 0.25, 1] #Se establece el ancho de cada barra\n",
    "\n",
    "# Crear el gráfico de barras con ajustes\n",
    "plt.bar(categorias, valores, color=colores, width=anchos, edgecolor='blue', linewithd =)\n",
    "\n",
    "# Personalizar el gráfico\n",
    "plt.xlabel('Categorías')\n",
    "plt.ylabel('Valores')\n",
    "plt.title('Gráfica de barras')\n",
    "\n",
    "# Mostrar el gráfico\n",
    "plt.show()\n"
   ]
  },
  {
   "attachments": {},
   "cell_type": "markdown",
   "metadata": {},
   "source": [
    "## Histogramas"
   ]
  },
  {
   "cell_type": "markdown",
   "metadata": {},
   "source": [
    "Un histograma es una representación gráfica de la distribución de frecuencias de un conjunto de datos. Divide el rango de los datos en intervalos (`bins`) y cuenta cuántos valores caen en cada intervalo.\n",
    "\n",
    "A diferencia del gráfico de barras, el histograma se utiliza para variables numéricas continuas, y los intervalos (bins) son contiguos."
   ]
  },
  {
   "attachments": {},
   "cell_type": "markdown",
   "metadata": {},
   "source": [
    "<table>\n",
    "  <thead>\n",
    "    <tr>\n",
    "      <th>Argumento</th>\n",
    "      <th>Descripción</th>\n",
    "    </tr>\n",
    "  </thead>\n",
    "  <tbody>\n",
    "    <tr>\n",
    "      <td>x</td>\n",
    "      <td>El conjunto de datos numéricos a representar. Puede ser una lista, un arreglo NumPy o una serie de pandas. También se acepta una lista de listas para graficar múltiples histogramas superpuestos.</td>\n",
    "    </tr>\n",
    "    <tr>\n",
    "      <td>bins</td>\n",
    "      <td>Controla la cantidad y posición de los intervalos del histograma. Puede ser un número entero (cantidad de bins), una lista de bordes de los bins, o una regla automática como 'auto', 'sturges', 'fd', etc.</td>\n",
    "    </tr>\n",
    "    <tr>\n",
    "      <td>range</td>\n",
    "      <td>Una tupla (min, max) que define el rango de los valores a incluir. Los valores fuera de este rango se ignoran. Si no se especifica, se usa el mínimo y máximo del conjunto de datos.</td>\n",
    "    </tr>\n",
    "    <tr>\n",
    "      <td>density</td>\n",
    "      <td>Si se establece en True, se normaliza el histograma para que el área total sea igual a 1, mostrando una estimación de la densidad de probabilidad. Si es False (por defecto), se muestra el conteo de observaciones por bin.</td>\n",
    "    </tr>\n",
    "    <tr>\n",
    "      <td>cumulative</td>\n",
    "      <td>Si se establece en True, el histograma se acumula desde la izquierda (o desde la derecha si cumulative='-'). Útil para visualizar funciones de distribución acumulada.</td>\n",
    "    </tr>\n",
    "    <tr>\n",
    "      <td>color</td>\n",
    "      <td>El color de las barras del histograma. Puede ser una cadena de color estándar de Matplotlib (como 'blue', 'red'), un código hexadecimal (como '#FF5733') o una lista si se grafican múltiples conjuntos.</td>\n",
    "    </tr>\n",
    "    <tr>\n",
    "      <td>alpha</td>\n",
    "      <td>El nivel de opacidad de las barras. Es un valor entre 0 (completamente transparente) y 1 (completamente opaco). Útil para superponer histogramas.</td>\n",
    "    </tr>\n",
    "    <tr>\n",
    "      <td>label</td>\n",
    "      <td>Etiqueta que describe el conjunto de datos, usada para mostrar una leyenda con plt.legend(). Es especialmente útil cuando se grafican varios histogramas en la misma figura.</td>\n",
    "    </tr>\n",
    "    <tr>\n",
    "      <td>edgecolor</td>\n",
    "      <td>Color del borde de las barras del histograma. Mejora la visibilidad de los contornos, especialmente cuando las barras tienen colores similares.</td>\n",
    "    </tr>\n",
    "    <tr>\n",
    "      <td>histtype</td>\n",
    "      <td>Tipo de histograma. Puede ser 'bar' (predeterminado), 'step', 'stepfilled' o 'barstacked'. Cambia la forma visual del histograma.</td>\n",
    "    </tr>\n",
    "  </tbody>\n",
    "</table>\n"
   ]
  },
  {
   "cell_type": "code",
   "execution_count": null,
   "metadata": {},
   "outputs": [],
   "source": [
    "#Definir los datos\n",
    "a = [22,55,62,45,21,22,34,42,42,4,2,102,95,85,55,110,120,70,65,55,111,115,80,75,65,54,44,43,42,48]\n",
    "bins = [0,18,20,30,40,50,60,70,80,90,100]\n",
    "\n",
    "#Configurar las características del gráfico\n",
    "plt.hist(a, bins, histtype = 'bar', rwidth = 0.8, color = 'blue')\n",
    "\n",
    "#Definir título y nombres de ejes\n",
    "plt.title('Histograma')\n",
    "plt.ylabel('Eje Y')\n",
    "plt.xlabel('Eje X')\n",
    "\n",
    "#Mostrar figura\n",
    "plt.show()"
   ]
  },
  {
   "attachments": {},
   "cell_type": "markdown",
   "metadata": {},
   "source": [
    "## Grafica de dispersión"
   ]
  },
  {
   "cell_type": "markdown",
   "metadata": {},
   "source": [
    "<table>\n",
    "  <thead>\n",
    "    <tr>\n",
    "      <th>Argumento</th>\n",
    "      <th>Descripción</th>\n",
    "    </tr>\n",
    "  </thead>\n",
    "  <tbody>\n",
    "    <tr>\n",
    "      <td>x</td>\n",
    "      <td>Los datos de las coordenadas x de los puntos que se van a trazar. Puede ser una secuencia de valores numéricos.</td>\n",
    "    </tr>\n",
    "    <tr>\n",
    "      <td>y</td>\n",
    "      <td>Los datos de las coordenadas y de los puntos que se van a trazar. Puede ser una secuencia de valores numéricos.</td>\n",
    "    </tr>\n",
    "    <tr>\n",
    "      <td>s</td>\n",
    "      <td>El tamaño de los puntos en el gráfico de dispersión. Puede ser un número único para establecer un tamaño fijo para todos los puntos, o una secuencia del mismo tamaño que `x` e `y` para especificar un tamaño diferente para cada punto.</td>\n",
    "    </tr>\n",
    "    <tr>\n",
    "      <td>c</td>\n",
    "      <td>El color de los puntos en el gráfico de dispersión. Puede ser un color específico (como \"red\" o \"#FF0000\"), una secuencia de colores del mismo tamaño que `x` e `y` para especificar un color diferente para cada punto, o una secuencia de valores numéricos para crear una gráfica de color en función de los valores.</td>\n",
    "    </tr>\n",
    "    <tr>\n",
    "      <td>marker</td>\n",
    "      <td>El tipo de marcador utilizado para representar los puntos en el gráfico de dispersión. Algunos ejemplos de marcadores son \"o\" (círculo), \"s\" (cuadrado), \"D\" (diamante), \"+\" (más), entre otros.</td>\n",
    "    </tr>\n",
    "    <tr>\n",
    "      <td>alpha</td>\n",
    "      <td>La transparencia de los puntos en el gráfico de dispersión. Puede ser un valor numérico entre 0 y 1, donde 0 significa completamente transparente y 1 significa completamente opaco.</td>\n",
    "    </tr>\n",
    "    <tr>\n",
    "      <td>label</td>\n",
    "      <td>La etiqueta asignada a los puntos en el gráfico de dispersión. Las etiquetas se utilizan para crear una leyenda que describe cada conjunto de puntos.</td>\n",
    "    </tr>\n",
    "  </tbody>\n",
    "</table>\n"
   ]
  },
  {
   "cell_type": "code",
   "execution_count": null,
   "metadata": {},
   "outputs": [],
   "source": [
    "#Definir los datos\n",
    "x1 = [0.25, 1.25, 2.25, 3.25, 4.25]\n",
    "y1 = [10, 55, 80, 32, 40]\n",
    "x2 = [0.75, 1.75, 2.75, 3.75, 4.75]\n",
    "y2 = [42, 26, 10, 29, 66]\n",
    "\n",
    "\n",
    "#Configurar las características del gráfico\n",
    "plt.scatter(x1, y1, label = 'Datos 1',color = 'red')\n",
    "plt.scatter(x2, y2,label = 'Datos 2', color = 'purple')\n",
    "\n",
    "\n",
    "#Definir título y nombres de ejes\n",
    "plt.title('Gráfico de dispersión')\n",
    "plt.ylabel('Eje Y')\n",
    "plt.xlabel('Eje X')\n",
    "\n",
    "\n",
    "#Mostrar leyenda y figura\n",
    "plt.legend()\n",
    "plt.show()"
   ]
  },
  {
   "attachments": {},
   "cell_type": "markdown",
   "metadata": {},
   "source": [
    "## Gráfico circular"
   ]
  },
  {
   "cell_type": "markdown",
   "metadata": {},
   "source": [
    "<table>\n",
    "  <thead>\n",
    "    <tr>\n",
    "      <th>Argumento</th>\n",
    "      <th>Descripción</th>\n",
    "    </tr>\n",
    "  </thead>\n",
    "  <tbody>\n",
    "    <tr>\n",
    "      <td>x</td>\n",
    "      <td>Secuencia de valores numéricos que representan los tamaños relativos de las porciones del gráfico circular. Los valores no tienen que estar normalizados, ya que se ajustan automáticamente al total.</td>\n",
    "    </tr>\n",
    "    <tr>\n",
    "      <td>labels</td>\n",
    "      <td>Secuencia de cadenas que etiquetan cada segmento del gráfico. Debe tener la misma longitud que <code>x</code>.</td>\n",
    "    </tr>\n",
    "    <tr>\n",
    "      <td>colors</td>\n",
    "      <td>Lista de colores para cada segmento. Puede contener nombres de colores, códigos hexadecimales (como <code>'#FF5733'</code>) o referencias a colormaps de Matplotlib.</td>\n",
    "    </tr>\n",
    "    <tr>\n",
    "      <td>explode</td>\n",
    "      <td>Lista de valores numéricos (uno por segmento) que determinan cuánto se separa cada porción del centro del gráfico. El valor por defecto es 0 para todos; valores mayores a 0 separan visualmente el segmento.</td>\n",
    "    </tr>\n",
    "    <tr>\n",
    "      <td>autopct</td>\n",
    "      <td>Cadena de formato o función que determina cómo se muestran los porcentajes en los segmentos. Por ejemplo, <code>\"%1.1f%%\"</code> mostrará un decimal. También puede ser una función personalizada.</td>\n",
    "    </tr>\n",
    "    <tr>\n",
    "      <td>startangle</td>\n",
    "      <td>Ángulo de inicio (en grados) desde el eje horizontal. Controla la rotación inicial del gráfico. El valor por defecto es 0.</td>\n",
    "    </tr>\n",
    "    <tr>\n",
    "      <td>shadow</td>\n",
    "      <td>Valor booleano que indica si se debe dibujar una sombra debajo del gráfico. Mejora el contraste visual. El valor por defecto es <code>False</code>.</td>\n",
    "    </tr>\n",
    "    <tr>\n",
    "      <td>pctdistance</td>\n",
    "      <td>Distancia radial desde el centro en la que se colocan los porcentajes. Valor entre 0 y 1; por defecto es <code>0.6</code>. Un valor más cercano a 0 los acerca al centro.</td>\n",
    "    </tr>\n",
    "  </tbody>\n",
    "</table>\n"
   ]
  },
  {
   "cell_type": "code",
   "execution_count": null,
   "metadata": {},
   "outputs": [],
   "source": [
    "import matplotlib.pyplot as plt\n",
    "\n",
    "# Datos: horas por actividad a lo largo de 5 días\n",
    "dormir = [7, 8, 6, 11, 7]\n",
    "comer = [2, 3, 4, 3, 2]\n",
    "trabajar = [7, 8, 7, 2, 2]\n",
    "recreacion = [8, 5, 7, 8, 13]\n",
    "\n",
    "# Sumar las horas por actividad\n",
    "divisiones = [sum(dormir), sum(comer), sum(trabajar), sum(recreacion)]\n",
    "actividades = ['Dormir', 'Comer', 'Trabajar', 'Recreación']\n",
    "colores = ['red', 'purple', 'blue', 'orange']\n",
    "explode = (0.1, 0, 0, 0.25)  # Resaltar dormir y recreación\n",
    "\n",
    "# Configurar tamaño del gráfico\n",
    "plt.figure(figsize=(8, 6))\n",
    "\n",
    "# Crear gráfico circular\n",
    "plt.pie(divisiones,labels=actividades,colors=colores,startangle=90,shadow=True,explode=explode,autopct='%1.1f%%')\n",
    "\n",
    "# Título del gráfico\n",
    "plt.title('Distribución del tiempo semanal por actividad')\n",
    "\n",
    "# Mostrar figura\n",
    "plt.axis('equal')  # Mantiene proporciones circulares\n",
    "plt.show()\n"
   ]
  },
  {
   "attachments": {},
   "cell_type": "markdown",
   "metadata": {},
   "source": [
    "<a href=\"https://matplotlib.org/stable/index.html\" > Matplotlib</a>"
   ]
  },
  {
   "cell_type": "markdown",
   "metadata": {},
   "source": [
    "# Método <code>pyplot.plot()<code>"
   ]
  },
  {
   "cell_type": "markdown",
   "metadata": {},
   "source": [
    "## Función <code>plt.title<code>"
   ]
  },
  {
   "cell_type": "markdown",
   "metadata": {},
   "source": [
    "Para agregar un título a un gráfico en Matplotlib, puedes utilizar la función <code>plt.title()</code> de Matplolib. Esta función acepta una cadena de texto que se utilizará como título del gráfico. "
   ]
  },
  {
   "cell_type": "markdown",
   "metadata": {},
   "source": [
    "La función `plt.title()` acepta diferentes argumentos: "
   ]
  },
  {
   "cell_type": "markdown",
   "metadata": {},
   "source": [
    "<center>\n",
    "<table>\n",
    "  <thead>\n",
    "    <tr>\n",
    "      <th>Argumento</th>\n",
    "      <th>Descripción</th>\n",
    "      <th>Ejemplo de Uso</th>\n",
    "      <th>Valores Posibles</th>\n",
    "    </tr>\n",
    "  </thead>\n",
    "  <tbody>\n",
    "    <tr>\n",
    "      <td>label</td>\n",
    "      <td>Etiqueta del gráfico</td>\n",
    "      <td><code>plt.title(\"Gráfico de ejemplo\")</code></td>\n",
    "      <td>Cualquier cadena de texto</td>\n",
    "    </tr>\n",
    "    <tr>\n",
    "      <td>fontsize</td>\n",
    "      <td>Tamaño de la fuente del título</td>\n",
    "      <td><code>plt.title(\"Gráfico de ejemplo\", fontsize=16)</code></td>\n",
    "      <td>Número entero positivo</td>\n",
    "    </tr>\n",
    "    <tr>\n",
    "      <td>color</td>\n",
    "      <td>Color del texto del título</td>\n",
    "      <td><code>plt.title(\"Gráfico de ejemplo\", color='blue')</code></td>\n",
    "      <td>Nombre de color (por ejemplo, <code>'blue'</code>,<code>'red'</code>)</td>\n",
    "    </tr>\n",
    "    <tr>\n",
    "      <td>pad</td>\n",
    "      <td>Espaciado entre el título y el gráfico</td>\n",
    "      <td><code>plt.title(\"Gráfico de ejemplo\", pad=20)</code></td>\n",
    "      <td>Número positivo</td>\n",
    "    </tr>\n",
    "    <tr>\n",
    "      <td>loc</td>\n",
    "      <td>Ubicación del título en el gráfico</td>\n",
    "      <td><code>plt.title(\"Gráfico de ejemplo\", loc='right')</code></td>\n",
    "      <td><code>'center'</code>, <code>'left'</code>, <code> 'right' </code></td>\n",
    "    </tr>\n",
    "    <tr>\n",
    "      <td>fontdict</td>\n",
    "      <td>Diccionario con opciones de formato del título</td>\n",
    "      <td><code>plt.title(\"Gráfico de ejemplo\", fontdict={'fontsize': 16})</code></td>\n",
    "      <td>Diccionario con opciones de formato</td>\n",
    "    </tr>\n",
    "    <tr>\n",
    "      <td>verticalalignment</td>\n",
    "      <td>Alineación vertical del título</td>\n",
    "      <td><code>plt.title(\"Gráfico de ejemplo\", verticalalignment='bottom')</code></td>\n",
    "      <td><code>'center'</code>,<code>'top'</code>, <code>'bottom'</code></td>\n",
    "    </tr>\n",
    "    <tr>\n",
    "      <td>horizontalalignment</td>\n",
    "      <td>Alineación horizontal del título</td>\n",
    "      <td><code>plt.title(\"Gráfico de ejemplo\", horizontalalignment='center')</code></td>\n",
    "      <td><code>'center'</code>, <code>'left'</code>, <code>'right'</code></td>\n",
    "    </tr>\n",
    "  </tbody>\n",
    "</table>\n",
    "\n",
    "</center>"
   ]
  },
  {
   "cell_type": "markdown",
   "metadata": {},
   "source": [
    "Enseguida se muestra un ejemplo de cómo utilizar la función <code>plt.title()<code>:"
   ]
  },
  {
   "cell_type": "code",
   "execution_count": null,
   "metadata": {},
   "outputs": [],
   "source": [
    "import matplotlib.pyplot as plt\n",
    "\n",
    "x = [1, 2, 3, 4, 5]\n",
    "y = [2, 4, 6, 8, 10]\n",
    "\n",
    "plt.plot(x, y)\n",
    "plt.title(\"Mi gráfica\", fontsize = 30, color = 'red', horizontalalignment = 'right', pad = 30)\n",
    "plt.show()\n",
    "\n",
    "\n"
   ]
  },
  {
   "cell_type": "markdown",
   "metadata": {},
   "source": [
    "## Argumento <code>linestyle</code>"
   ]
  },
  {
   "cell_type": "markdown",
   "metadata": {},
   "source": [
    "El argumento `linestyle` en la función `plt.plot()` de Matplotlib se utiliza para especificar el estilo de línea que se utilizará al trazar la gráfica. Puedes proporcionar diferentes valores a `linestyle` para lograr diferentes tipos de líneas en tu gráfico. "
   ]
  },
  {
   "cell_type": "markdown",
   "metadata": {},
   "source": [
    "<center>\n",
    "<table>\n",
    "  <tr>\n",
    "    <th>Estilo de Línea</th>\n",
    "    <th>Código</th>\n",
    "    <th>Descripción</th>\n",
    "    <th>Ejemplo de Uso</th>\n",
    "  </tr>\n",
    "  <tr>\n",
    "    <td>Línea sólida</td>\n",
    "    <td><code>'-'</code>, <code>'solid'</code></td>\n",
    "    <td>Línea continua y sólida</td>\n",
    "    <td><code>plt.plot(x, y, linestyle='-')</code></td>\n",
    "  </tr>\n",
    "  <tr>\n",
    "    <td>Línea discontinua</td>\n",
    "    <td><code>'--'</code>, <code>'dashed'</code></td>\n",
    "    <td>Línea formada por segmentos cortos</td>\n",
    "    <td><code>plt.plot(x, y, linestyle='--')</code></td>\n",
    "  </tr>\n",
    "  <tr>\n",
    "    <td>Línea punteada</td>\n",
    "    <td><code>':'</code>, <code>'dotted'</code></td>\n",
    "    <td>Línea formada por puntos pequeños</td>\n",
    "    <td><code>plt.plot(x, y, linestyle=':')</code></td>\n",
    "  </tr>\n",
    "  <tr>\n",
    "    <td>Línea alternada</td>\n",
    "    <td><code>'-.'</code>, <code>'dashdot'</code></td>\n",
    "    <td>Línea que alterna entre segmentos cortos y puntos</td>\n",
    "    <td><code>plt.plot(x, y, linestyle='-.')</code></td>\n",
    "  </tr>\n",
    "  <tr>\n",
    "    <td>Sin línea</td>\n",
    "    <td><code>'None'</code>, <code>' '</code></td>\n",
    "    <td>No se muestra ninguna línea, solo se muestran los marcadores</td>\n",
    "    <td><code>plt.plot(x, y, linestyle='None')</code></td>\n",
    "  </tr>\n",
    "</table>\n",
    "\n",
    "\n",
    "\n",
    "</center>"
   ]
  },
  {
   "cell_type": "code",
   "execution_count": null,
   "metadata": {},
   "outputs": [],
   "source": [
    "import matplotlib.pyplot as plt\n",
    "\n",
    "x = [1, 2, 3, 4, 5]\n",
    "y = [2, 4, 6, 8, 10]\n",
    "\n",
    "plt.plot(x, y, linestyle = '--')\n",
    "plt.title(\"Mi gráfica\", fontsize = 30, color = 'coral', pad = 10)\n",
    "plt.show()"
   ]
  },
  {
   "cell_type": "markdown",
   "metadata": {},
   "source": [
    "## Argumento <code>linewidth<code>"
   ]
  },
  {
   "cell_type": "markdown",
   "metadata": {},
   "source": [
    "El argumento <code>linewidth</code> en la función <code>plt.plot()</code> se utiliza para especificar el grosor de la línea en un gráfico. El argumento <code>linewidth</code> acepta un valor numérico que representa el grosor de la línea en puntos. Puedes especificar un número entero o decimal para ajustar el grosor de la línea."
   ]
  },
  {
   "cell_type": "code",
   "execution_count": null,
   "metadata": {},
   "outputs": [],
   "source": [
    "import matplotlib.pyplot as plt\n",
    "\n",
    "x = [1, 2, 3, 4, 5]\n",
    "y = [2, 4, 6, 8, 10]\n",
    "\n",
    "plt.plot(x, y, linewidth=5)\n",
    "plt.title(\"Mi gráfica\", fontsize = 30, color = 'coral', pad = 10)\n",
    "plt.show()"
   ]
  },
  {
   "cell_type": "markdown",
   "metadata": {},
   "source": [
    "## Argumento <code>color<code>"
   ]
  },
  {
   "cell_type": "markdown",
   "metadata": {},
   "source": [
    "El argumento <code>color</code> en la función <code>plt.plot()</code> se utiliza para especificar el color de la línea o los marcadores en un gráfico. Hay varias formas de utilizar el argumento color:"
   ]
  },
  {
   "cell_type": "markdown",
   "metadata": {},
   "source": [
    "<center>\n",
    "<table>\n",
    "  <thead>\n",
    "    <tr>\n",
    "      <th>Argumento color</th>\n",
    "      <th>Descripción</th>\n",
    "      <th>Ejemplo</th>\n",
    "    </tr>\n",
    "  </thead>\n",
    "  <tbody>\n",
    "    <tr>\n",
    "      <td>Nombre de color</td>\n",
    "      <td>Especifica el color por nombre.</td>\n",
    "      <td>color=<code>'red',  'cyan', 'magenta', 'yellow', 'black', 'white','aqua', 'fuchsia', 'lime', 'navy', 'silver'</code></td>\n",
    "    </tr>\n",
    "    <tr>\n",
    "      <td>Código hexadecimal</td>\n",
    "      <td>Especifica el color por código hexadecimal.</td>\n",
    "      <td><code>color='#FF0000'</code></td>\n",
    "    </tr>\n",
    "    <tr>\n",
    "      <td>Código RGB</td>\n",
    "      <td>Especifica el color por código RGB (0 a 1).</td>\n",
    "      <td><code>color=(0.2, 0.4, 0.6)</code></td>\n",
    "    </tr>\n",
    "  </tbody>\n",
    "</table>\n",
    "\n",
    "</center>\n",
    "\n",
    "Además de los nombres de colores que mencioné anteriormente, aquí tienes una lista adicional de nombres de colores que puedes utilizar en Matplotlib:\n",
    "\n",
    "* **Gris:** 'gray', 'dimgray', 'lightgray', 'darkgray', 'gainsboro', 'lightsteelblue', 'slategray', 'lightslategray', 'dimgrey', 'lightslategrey'\n",
    "\n",
    "* **Marrón:** 'brown', 'maroon', 'saddlebrown', 'sienna', 'chocolate', 'peru', 'rosybrown', 'sandybrown', 'tan'\n",
    "\n",
    "* **Púrpura:** 'purple', 'indigo', 'darkorchid', 'darkviolet', 'mediumorchid', 'blueviolet', 'mediumpurple', 'rebeccapurple', 'plum', 'violet'\n",
    "\n",
    "* **Rosa:** 'pink', 'lightpink', 'hotpink', 'deeppink', 'palevioletred', 'mediumvioletred'\n",
    "\n",
    "* **Naranja:** 'orange', 'darkorange', 'coral', 'tomato', 'orangered', 'gold'\n",
    "\n",
    "* **Amarillo:** 'yellow', 'lightyellow', 'lemonchiffon', 'lightgoldenrodyellow', 'palegoldenrod', 'khaki'\n",
    "\n",
    "* **Verde:** 'green', 'darkgreen', 'forestgreen', 'limegreen', 'mediumseagreen', 'seagreen', 'olive', 'olivedrab', 'chartreuse', 'lawngreen'\n",
    "\n",
    "* **Cian:** 'cyan', 'darkcyan', 'teal', 'lightcyan', 'aquamarine', 'mediumaquamarine', 'paleturquoise', 'turquoise', 'mediumturquoise'\n",
    "\n",
    "* **Azul:** 'blue', 'navy', 'darkblue', 'mediumblue', 'royalblue', 'cornflowerblue', 'lightblue', 'deepskyblue', 'dodgerblue', 'steelblue', 'skyblue', 'lightskyblue', 'slateblue', 'mediumslateblue'"
   ]
  },
  {
   "cell_type": "code",
   "execution_count": null,
   "metadata": {},
   "outputs": [],
   "source": [
    "import matplotlib.pyplot as plt\n",
    "import numpy as np\n",
    "\n",
    "x = np.arange(-5,6,1)\n",
    "y = 2*x\n",
    "z= -2*x\n",
    "w= 0*x\n",
    "\n",
    "plt.plot(x, y, linewidth=1, color='gold')\n",
    "plt.plot(x, z, linewidth=1, color='#FF0000')\n",
    "plt.plot(x, w, linewidth=5, color=(0.85, 0.1, 0.9))\n",
    "plt.plot(np.zeros(21),np.array(range(-10,11)),linewidth =  1,  color = 'k')\n",
    "plt.title(\"Mi gráfica\", fontsize = 30, color = 'tomato', pad = 10)\n",
    "\n",
    "plt.show()"
   ]
  },
  {
   "cell_type": "code",
   "execution_count": null,
   "metadata": {},
   "outputs": [],
   "source": [
    "np.zeros(2)"
   ]
  },
  {
   "cell_type": "markdown",
   "metadata": {},
   "source": [
    "## Argumento <code>marker<code> "
   ]
  },
  {
   "cell_type": "markdown",
   "metadata": {},
   "source": [
    "El argumento <code>marker</code> en la función <code>plt.plot()</code> se utiliza para agregar marcadores en los puntos de datos:"
   ]
  },
  {
   "cell_type": "markdown",
   "metadata": {},
   "source": [
    "<center>\n",
    "<table>\n",
    "  <thead>\n",
    "    <tr>\n",
    "      <th>Marker</th>\n",
    "      <th>Descripción</th>\n",
    "      <th>Ejemplo</th>\n",
    "    </tr>\n",
    "  </thead>\n",
    "  <tbody>\n",
    "    <tr>\n",
    "      <td>.</td>\n",
    "      <td>Marcador de punto</td>\n",
    "      <td><code>marker='.' </code></td>\n",
    "    </tr>\n",
    "    <tr>\n",
    "      <td>,</td>\n",
    "      <td>Marcador de pixel</td>\n",
    "      <td><code>marker=',' </code></td>\n",
    "    </tr>\n",
    "    <tr>\n",
    "      <td>o</td>\n",
    "      <td>Marcador circular</td>\n",
    "      <td><code>marker='o' </code></td>\n",
    "    </tr>\n",
    "    <tr>\n",
    "      <td>v</td>\n",
    "      <td>Marcador de triángulo hacia abajo</td>\n",
    "      <td><code>marker='v' </code></td>\n",
    "    </tr>\n",
    "    <tr>\n",
    "      <td>^</td>\n",
    "      <td>Marcador de triángulo hacia arriba</td>\n",
    "      <td><code>marker='^' </code></td>\n",
    "    </tr>\n",
    "    <tr>\n",
    "      <td>&lt;</td>\n",
    "      <td>Marcador de triángulo hacia la izquierda</td>\n",
    "      <td><code>marker='&lt;' </code></td>\n",
    "    </tr>\n",
    "    <tr>\n",
    "      <td>&gt;</td>\n",
    "      <td>Marcador de triángulo hacia la derecha</td>\n",
    "      <td><code>marker='&gt;' </code></td>\n",
    "    </tr>\n",
    "    <tr>\n",
    "      <td>1</td>\n",
    "      <td>Marcador de triángulo hacia abajo (fino)</code></td>\n",
    "      <td><code>marker='1' </code></td>\n",
    "    </tr>\n",
    "    <tr>\n",
    "      <td>2</td>\n",
    "      <td>Marcador de triángulo hacia arriba (fino)</code></td>\n",
    "      <td><code>marker='2' </code></td>\n",
    "    </tr>\n",
    "    <tr>\n",
    "      <td>3</td>\n",
    "      <td>Marcador de triángulo hacia la izquierda (fino)</code></td>\n",
    "      <td><code>marker='3' </code></td>\n",
    "    </tr>\n",
    "    <tr>\n",
    "      <td>4</td>\n",
    "      <td>Marcador de triángulo hacia la derecha (fino)</code></td>\n",
    "      <td><code>marker='4' </code></td>\n",
    "    </tr>\n",
    "    <tr>\n",
    "      <td>s</td>\n",
    "      <td>Marcador cuadrado</td>\n",
    "      <td><code>marker='s' </code></td>\n",
    "    </tr>\n",
    "    <tr>\n",
    "      <td>p</td>\n",
    "      <td>Marcador de pentágono</td>\n",
    "      <td><code>marker='p' </code></td>\n",
    "    </tr>\n",
    "    <tr>\n",
    "      <td>*</td>\n",
    "      <td>Marcador de estrella</td>\n",
    "      <td><code>marker='*' </code></td>\n",
    "    </tr>\n",
    "    <tr>\n",
    "      <td>h</td>\n",
    "      <td>Marcador de hexágono (1)</code></td>\n",
    "      <td><code>marker='h' </code></td>\n",
    "    </tr>\n",
    "    <tr>\n",
    "      <td>H</td>\n",
    "      <td>Marcador de hexágono (2)</code></td>\n",
    "      <td><code>marker='H' </code></td>\n",
    "    </tr>\n",
    "    <tr>\n",
    "      <td>+</td>\n",
    "      <td>Marcador de cruz</td>\n",
    "      <td><code>marker='+' </code></td>\n",
    "    </tr>\n",
    "    <tr>\n",
    "      <td>x</td>\n",
    "      <td>Marcador de equis</td>\n",
    "      <td><code>marker='x' </code></td>\n",
    "    </tr>\n",
    "    <tr>\n",
    "      <td>D</td>\n",
    "      <td>Marcador de diamante</td>\n",
    "      <td><code>marker='D' </code></td>\n",
    "    </tr>\n",
    "    <tr>\n",
    "      <td>d</td>\n",
    "      <td>Marcador de diamante delgado</td>\n",
    "      <td><code>marker='d' </code></td>\n",
    "    </tr>\n",
    "  </tbody>\n",
    "</table>\n",
    "\n",
    "</center>"
   ]
  },
  {
   "cell_type": "code",
   "execution_count": null,
   "metadata": {},
   "outputs": [],
   "source": [
    "import matplotlib.pyplot as plt\n",
    "import numpy as np\n",
    "\n",
    "x = np.arange(-5,6,1)\n",
    "y = 2*x\n",
    "z= -2*x\n",
    "\n",
    "plt.plot(x, y, linewidth=0.5, color='green', marker = 'x')\n",
    "plt.plot(x, z, linewidth=1, linestyle ='-' ,color='#FF0000', marker = '*' )\n",
    "plt.title(\"Mi gráfica\", fontsize = 30, color = 'tomato', pad = 10)\n",
    "plt.show()"
   ]
  },
  {
   "cell_type": "markdown",
   "metadata": {},
   "source": [
    "## Argumento <code>markersize</code> "
   ]
  },
  {
   "cell_type": "markdown",
   "metadata": {},
   "source": [
    "El argumento <code>markersize</code> en la función <code>plt.plot()</code> de Matplotlib se utiliza para especificar el tamaño de los marcadores en un gráfico. Te permite controlar el tamaño de los puntos o símbolos utilizados para representar los datos en el gráfico."
   ]
  },
  {
   "cell_type": "code",
   "execution_count": null,
   "metadata": {},
   "outputs": [],
   "source": [
    "import matplotlib.pyplot as plt\n",
    "import numpy as np\n",
    "\n",
    "x = np.arange(-5,6,1)\n",
    "y = 2*x\n",
    "z= -2*x\n",
    "w= 0*x\n",
    "\n",
    "plt.plot(x, y, linewidth=0.5, color='chocolate', marker = 'v', markersize = 15)\n",
    "plt.plot(x, z, linewidth=0.5,color='#FF0000', marker = '*',markersize = 20 )\n",
    "plt.title(\"Mi gráfica\", fontsize = 30, color = 'tomato', pad = 10)\n",
    "plt.savefig('Mi_figura_.svg')\n",
    "plt.show()\n",
    "\n"
   ]
  },
  {
   "cell_type": "markdown",
   "metadata": {},
   "source": [
    "## Argumento <code>markerfacecolor<code>"
   ]
  },
  {
   "cell_type": "markdown",
   "metadata": {},
   "source": [
    "El argumento <code>markerfacecolor</code> en la función <code>plt.plot()</code> se utiliza para especificar el color del relleno de los marcadores en un gráfico. Puedes utilizarlo para personalizar el color del área interior de los marcadores"
   ]
  },
  {
   "cell_type": "code",
   "execution_count": null,
   "metadata": {},
   "outputs": [],
   "source": [
    "import matplotlib.pyplot as plt\n",
    "import numpy as np\n",
    "\n",
    "x = np.arange(-5,6,1)\n",
    "y = 2*x\n",
    "\n",
    "plt.plot(x, y, linewidth=0.5, color='blue', marker = 'h', markersize = 10, markerfacecolor='lightblue')\n",
    "plt.plot(x, z, linewidth=0.5,color='#FF0000', marker = '*',markersize = 20, markerfacecolor='cyan' )\n",
    "plt.title(\"Mi gráfica\", fontsize = 30, color = 'tomato', pad = 10)\n",
    "plt.show()\n",
    "\n",
    "\n"
   ]
  },
  {
   "cell_type": "markdown",
   "metadata": {},
   "source": [
    "## Argumento <code>markeredgecolor<code>"
   ]
  },
  {
   "cell_type": "markdown",
   "metadata": {},
   "source": [
    "El argumento <code>markeredgecolor</code> se puede utilizar junto con el argumento marker para personalizar el color del borde de los marcadores. Al igual que con <code>markerfacecolor</code>, puedes utilizar diferentes formas de especificar el color."
   ]
  },
  {
   "cell_type": "code",
   "execution_count": null,
   "metadata": {},
   "outputs": [],
   "source": [
    "import matplotlib.pyplot as plt\n",
    "import numpy as np\n",
    "\n",
    "x = np.arange(-5,6,1)\n",
    "y = 2*x\n",
    "\n",
    "plt.plot(x, y, linewidth=0.5, color='blue', marker = 'h', markersize = 10, markerfacecolor='gold', markeredgecolor = 'r')\n",
    "plt.plot(x, z, linewidth=0.5,color='#FF0000', marker = '*',markersize = 20, markerfacecolor='cyan',markeredgecolor = 'g' )\n",
    "plt.title(\"Mi gráfica\", fontsize = 30, color = 'tomato', pad = 10)\n",
    "plt.show()\n"
   ]
  },
  {
   "cell_type": "markdown",
   "metadata": {},
   "source": [
    "## Argumento <code>alpha<code> "
   ]
  },
  {
   "cell_type": "markdown",
   "metadata": {},
   "source": [
    "El argumento <code>alpha</code> en la función <code>plt.plot()</code> de Matplotlib se utiliza para controlar la transparencia de la línea o los marcadores en un gráfico. Permite ajustar la opacidad de los elementos trazos, donde un valor de alpha menor a 1 los hará más transparentes y un valor de 1 los hará completamente opacos."
   ]
  },
  {
   "cell_type": "code",
   "execution_count": null,
   "metadata": {},
   "outputs": [],
   "source": [
    "import matplotlib.pyplot as plt\n",
    "import numpy as np\n",
    "\n",
    "x = np.arange(-5,6,1)\n",
    "y = 2*x\n",
    "\n",
    "plt.plot(x, y, linewidth=0.5, color='blue', marker = 'h', markersize = 10, markerfacecolor='gold', markeredgecolor = 'r', alpha = 0.35)\n",
    "plt.plot(x, z, linewidth=0.5,color='#FF0000', marker = '*',markersize = 20, markerfacecolor='cyan',markeredgecolor = 'g', alpha = 0.75 )\n",
    "plt.title(\"Mi gráfica\", fontsize = 30, color = 'tomato', pad = 10)\n",
    "plt.show()\n"
   ]
  },
  {
   "cell_type": "markdown",
   "metadata": {},
   "source": [
    "## Argumentos <code>scalex<code> y <code>scalex<code>"
   ]
  },
  {
   "cell_type": "markdown",
   "metadata": {},
   "source": [
    "Los arguentos <code>scalex</code> y <code>scaley</code>  de <code>plt.plot()</code> en Matplotlib controlan si matplotlib ajusta automáticamente los límites de los ejes $X$ e $Y$ según los datos proporcionados. Se utilizan para controlar si el eje $X$ o eje $Y$ respectivamente del gráfico se escalan automáticamente según los datos proporcionados o si se mantienen fijos.\n",
    "\n",
    "* **scalex:** Este argumento se utiliza para controlar el escalado del eje x del gráfico. Acepta dos posibles valores:\n",
    "  * **True:** (valor predeterminado): Permite el escalado automático del eje x en función de los datos proporcionados. Los valores de x se ajustarán automáticamente al rango del gráfico.\n",
    "  * **False:** Desactiva el escalado automático del eje x y mantiene los valores de x tal como se especificaron en los datos proporcionados. Los valores de x se mostrarán sin ajustes en el gráfico.\n",
    "\n",
    "\n",
    "  \n",
    "* **scaley:** Este argumento se utiliza de manera similar al scalex, pero se aplica al eje y del gráfico. También acepta dos posibles valores:\n",
    "    * **True:** (valor predeterminado): Permite el escalado automático del eje y en función de los datos proporcionados. Los valores de y se ajustarán automáticamente al rango del gráfico.\n",
    "    * **False:** Desactiva el escalado automático del eje y y mantiene los valores de y tal como se especificaron en los datos proporcionados. Los valores de y se mostrarán sin ajustes en el gráfico."
   ]
  },
  {
   "cell_type": "code",
   "execution_count": null,
   "metadata": {},
   "outputs": [],
   "source": [
    "import matplotlib.pyplot as plt\n",
    "import numpy as np\n",
    "\n",
    "x = np.arange(-5,6,1)\n",
    "y = 2*x\n",
    "\n",
    "plt.plot(x, y, linewidth=0.5, color='blue', marker = 'h', markersize = 10, markerfacecolor='gold', markeredgecolor = 'r', alpha = .95, scalex =True, scaley =True)\n",
    "plt.plot(x, z, linewidth=0.5,color='#FF0000', marker = '*',markersize = 20, markerfacecolor='cyan',markeredgecolor = 'g', alpha = 0.75, scalex =True, scaley =True )\n",
    "plt.title(\"Mi gráfica\", fontsize = 30, color = 'tomato', pad = 10)\n",
    "plt.show()"
   ]
  },
  {
   "cell_type": "markdown",
   "metadata": {},
   "source": [
    "Con una escala logarítmica en el eje x, los valores se distribuyen en una escala logarítmica, lo que puede ser útil cuando los datos abarcan un amplio rango y se desean resaltar diferencias en los valores más pequeños."
   ]
  },
  {
   "cell_type": "markdown",
   "metadata": {},
   "source": [
    "**Observaciones:**\n",
    "\n",
    "* Se usan raramente porque están activados por defecto.\n",
    "\n",
    "* Son útiles cuando quieres tener control absoluto sobre los límites de los ejes y evitar que matplotlib los ajuste automáticamente."
   ]
  },
  {
   "cell_type": "markdown",
   "metadata": {},
   "source": [
    "## Función <code>plt.legend()</code>"
   ]
  },
  {
   "cell_type": "markdown",
   "metadata": {},
   "source": [
    "La función <code>plt.legend()</code> de Matplotlib proporciona varias configuraciones adicionales para personalizar la apariencia y ubicación de la leyenda en el gráfico. Algunas de las configuraciones más comunes son las siguientes:"
   ]
  },
  {
   "cell_type": "markdown",
   "metadata": {},
   "source": [
    "<center>\n",
    "<table>\n",
    "  <tr>\n",
    "    <th>Argumento</th>\n",
    "    <th>Descripción</th>\n",
    "    <th>Posibles Valores</th>\n",
    "    <th>Ejemplo</th>\n",
    "  </tr>\n",
    "  <tr>\n",
    "    <td>loc</td>\n",
    "    <td>Especifica la ubicación de la leyenda en el gráfico.</td>\n",
    "    <td>'best', 'upper right', 'upper left', 'lower left', 'lower right', 'right', 'center left', 'center right', 'lower center', 'upper center', 'center'</td>\n",
    "    <td>plt.legend(loc='upper right')</td>\n",
    "  </tr>\n",
    "  <tr>\n",
    "    <td>title</td>\n",
    "    <td>Establece un título para la leyenda.</td>\n",
    "    <td>Cualquier cadena de texto</td>\n",
    "    <td>plt.legend(title='Leyenda')</td>\n",
    "  </tr>\n",
    "  <tr>\n",
    "    <td>fontsize</td>\n",
    "    <td>Especifica el tamaño de fuente de la leyenda.</td>\n",
    "    <td>Valor numérico (por ejemplo, 10, 12, 14)</td>\n",
    "    <td>plt.legend(fontsize=12)</td>\n",
    "  </tr>\n",
    "  <tr>\n",
    "    <td>frameon</td>\n",
    "    <td>Indica si se muestra un marco alrededor de la leyenda.</td>\n",
    "    <td>True, False</td>\n",
    "    <td>plt.legend(frameon=False)</td>\n",
    "  </tr>\n",
    "  <tr>\n",
    "    <td>shadow</td>\n",
    "    <td>Añade una sombra a la leyenda.</td>\n",
    "    <td>True, False</td>\n",
    "    <td>plt.legend(shadow=True)</td>\n",
    "  </tr>\n",
    "  <tr>\n",
    "    <td>borderaxespad</td>\n",
    "    <td>Ajusta el espaciado entre la leyenda y los ejes del gráfico.</td>\n",
    "    <td>Valor numérico (por ejemplo, 0.5, 1.0)</td>\n",
    "    <td>plt.legend(borderaxespad=0.5)</td>\n",
    "  </tr>\n",
    "  <tr>\n",
    "    <td>bbox_to_anchor</td>\n",
    "    <td>Permite posicionar la leyenda utilizando coordenadas relativas al gráfico.</td>\n",
    "    <td>Tupla de coordenadas (por ejemplo, (0.5, 0.5))</td>\n",
    "    <td>plt.legend(bbox_to_anchor=(0.5, 0.5))</td>\n",
    "  </tr>\n",
    "</table>\n",
    "\n",
    "</center>"
   ]
  },
  {
   "cell_type": "code",
   "execution_count": null,
   "metadata": {},
   "outputs": [],
   "source": [
    "import matplotlib.pyplot as plt\n",
    "import numpy as np\n",
    "\n",
    "x = np.arange(-5,6,1)\n",
    "y = 2*x\n",
    "\n",
    "\n",
    "\n",
    "#plt.plot(x, y, linewidth=0.5, color='blue', marker = 'h', markersize = 10, markerfacecolor='gold', markeredgecolor = 'r', alpha = 0.1)\n",
    "plt.plot(x, y, linewidth=0.5, color='#FF0000', marker = '*',markersize = 20, markerfacecolor='cyan',markeredgecolor = 'g', alpha = 0.75 )\n",
    "plt.title(\"Mi gráfica\", fontsize = 30, color = 'tomato', pad = 10)\n",
    "plt.legend(title = 'Mi titulo', shadow = True, borderaxespad = 0, frameon = False, fontsize = 50 )\n",
    "plt.show()"
   ]
  },
  {
   "cell_type": "code",
   "execution_count": null,
   "metadata": {},
   "outputs": [],
   "source": [
    "import matplotlib.pyplot as plt\n",
    "import numpy as np\n",
    "\n",
    "x = np.arange(-5,6,1)\n",
    "y = 2*x\n",
    "\n",
    "plt.plot(x, y, linewidth=0.5, color='blue', marker = 'h', markersize = 10, markerfacecolor='gold', markeredgecolor = 'r', alpha = 1, label = '$y = x$')\n",
    "plt.plot(x, z, linewidth=0.5, color='#FF0000', marker = '*',markersize = 20, markerfacecolor='cyan',markeredgecolor = 'g', alpha = 0.75, label = '$y=-x$' )\n",
    "plt.title(\"Mi gráfica\", fontsize = 30, color = 'tomato', pad = 10)\n",
    "plt.legend(title = 'Mi titulo', shadow = True, borderaxespad = 0.5, frameon = True, fontsize = 10 )\n",
    "plt.show()"
   ]
  },
  {
   "cell_type": "markdown",
   "metadata": {},
   "source": [
    "## Función <code>plt.text()</code> "
   ]
  },
  {
   "cell_type": "markdown",
   "metadata": {},
   "source": [
    "La función <code>plt.text()</code> de Matplotlib se utiliza para agregar texto en un lugar específico de la gráfica. Puedes utilizarlo para agregar anotaciones, títulos, nombres de ejes u otra información relevante."
   ]
  },
  {
   "cell_type": "markdown",
   "metadata": {},
   "source": [
    "La función <code>plt.text()</code> de Matplotlib admite varios argumentos opcionales para personalizar el texto y su posición en una gráfica. Aquí tienes una descripción de los argumentos más comunes:"
   ]
  },
  {
   "cell_type": "markdown",
   "metadata": {},
   "source": [
    "<center><table>\n",
    "  <tr>\n",
    "    <th>Argumento</th>\n",
    "    <th>Descripción</th>\n",
    "    <th>Ejemplo de Uso</th>\n",
    "  </tr>\n",
    "  <tr>\n",
    "    <td>x, y</td>\n",
    "    <td>Coordenadas x e y donde se ubicará el texto</td>\n",
    "    <td>plt.text(3, 6, 'Punto de interés')</td>\n",
    "  </tr>\n",
    "  <tr>\n",
    "    <td>s, text</td>\n",
    "    <td>El texto a mostrar</td>\n",
    "    <td>plt.text(3, 6, 'Punto de interés')</td>\n",
    "  </tr>\n",
    "  <tr>\n",
    "    <td>fontsize, size</td>\n",
    "    <td>Tamaño de la fuente del texto</td>\n",
    "    <td>plt.text(3, 6, 'Punto de interés', fontsize=12)</td>\n",
    "  </tr>\n",
    "  <tr>\n",
    "    <td>color, c</td>\n",
    "    <td>Color del texto</td>\n",
    "    <td>plt.text(3, 6, 'Punto de interés', color='red')</td>\n",
    "  </tr>\n",
    "  <tr>\n",
    "    <td>fontstyle, style</td>\n",
    "    <td>Estilo de la fuente del texto</td>\n",
    "    <td>plt.text(3, 6, 'Punto de interés', fontstyle='italic')</td>\n",
    "  </tr>\n",
    "  <tr>\n",
    "    <td>fontweight, weight</td>\n",
    "    <td>Grosor de la fuente del texto</td>\n",
    "    <td>plt.text(3, 6, 'Punto de interés', fontweight='bold')</td>\n",
    "  </tr>\n",
    "  <tr>\n",
    "    <td>horizontalalignment, ha</td>\n",
    "    <td>Alineación horizontal del texto</td>\n",
    "    <td>plt.text(3, 6, 'Punto de interés', ha='center')</td>\n",
    "  </tr>\n",
    "  <tr>\n",
    "    <td>verticalalignment, va</td>\n",
    "    <td>Alineación vertical del texto</td>\n",
    "    <td>plt.text(3, 6, 'Punto de interés', va='bottom')</td>\n",
    "  </tr>\n",
    "  <tr>\n",
    "    <td>rotation</td>\n",
    "    <td>Rotación del texto en grados</td>\n",
    "    <td>plt.text(3, 6, 'Punto de interés', rotation=45)</td>\n",
    "  </tr>\n",
    "  <tr>\n",
    "    <td>backgroundcolor, bbox</td>\n",
    "    <td>Color de fondo del texto o estilo de cuadro alrededor del texto</td>\n",
    "    <td>plt.text(3, 6, 'Punto de interés', backgroundcolor='yellow')</td>\n",
    "  </tr>\n",
    "  <tr>\n",
    "    <td>alpha</td>\n",
    "    <td>Opacidad del texto</td>\n",
    "    <td>plt.text(3, 6, 'Punto de interés', alpha=0.5)</td>\n",
    "  </tr>\n",
    "</table>\n",
    "</center>"
   ]
  },
  {
   "cell_type": "markdown",
   "metadata": {},
   "source": [
    "### Ejemplo"
   ]
  },
  {
   "cell_type": "code",
   "execution_count": null,
   "metadata": {},
   "outputs": [],
   "source": [
    "import matplotlib.pyplot as plt\n",
    "\n",
    "# Definir los datos de ejemplo\n",
    "x = [1, 2, 3, 4, 5]\n",
    "y = [2, 4, 6, 8, 10]\n",
    "labels = ['Punto 1', 'Punto 2', 'Punto 3', 'Punto 4', 'Punto 5']\n",
    "\n",
    "# Graficar los puntos\n",
    "plt.plot(x,y)\n",
    "plt.scatter(x, y)\n",
    "\n",
    "# Agregar texto a cada punto\n",
    "for i in range(len(x)):\n",
    "    plt.text(x[i], y[i], labels[i], fontsize=12, ha='center', va='bottom')\n",
    "\n",
    "# Mostrar la gráfica\n",
    "plt.show()\n"
   ]
  },
  {
   "cell_type": "markdown",
   "metadata": {},
   "source": [
    "## Funciones  <code>plt.xlabel()</code> y <code>plt.ylabel()</code> "
   ]
  },
  {
   "cell_type": "markdown",
   "metadata": {},
   "source": [
    "En Matplotlib, las funciones <code>plt.xlabel()</code> y <code>plt.ylabel()</code> se utilizan para establecer las etiquetas de los ejes x e y en una gráfica."
   ]
  },
  {
   "cell_type": "markdown",
   "metadata": {},
   "source": [
    "Las funciones <code>plt.xlabel()</code> y <code>plt.ylabel()</code> en Matplotlib ofrecen una variedad de opciones para personalizar las etiquetas de los ejes. Algunas de las opciones más comunes son las siguientes:"
   ]
  },
  {
   "cell_type": "markdown",
   "metadata": {},
   "source": [
    "<center>\n",
    "<table>\n",
    "  <thead>\n",
    "    <tr>\n",
    "      <th>Opción</th>\n",
    "      <th>Descripción</th>\n",
    "      <th>Valores</th>\n",
    "      <th>Ejemplo de Uso</th>\n",
    "    </tr>\n",
    "  </thead>\n",
    "  <tbody>\n",
    "    <tr>\n",
    "      <td>fontsize</td>\n",
    "      <td>Tamaño de la fuente de las etiquetas (en puntos)</td>\n",
    "      <td>Cualquier valor numérico</td>\n",
    "      <td>plt.xlabel('Eje x', fontsize=12)</td>\n",
    "    </tr>\n",
    "    <tr>\n",
    "      <td>fontweight</td>\n",
    "      <td>Peso de la fuente de las etiquetas</td>\n",
    "      <td>'normal', 'bold', 'light', 'ultrabold', 'ultralight'</td>\n",
    "      <td>plt.ylabel('Eje y', fontweight='bold')</td>\n",
    "    </tr>\n",
    "    <tr>\n",
    "      <td>fontstyle</td>\n",
    "      <td>Estilo de la fuente de las etiquetas</td>\n",
    "      <td>'normal', 'italic', 'oblique'</td>\n",
    "      <td>plt.xlabel('Eje x', fontstyle='italic')</td>\n",
    "    </tr>\n",
    "    <tr>\n",
    "      <td>color</td>\n",
    "      <td>Color de las etiquetas</td>\n",
    "      <td>Nombres de colores en inglés o códigos hexadecimales</td>\n",
    "      <td>plt.ylabel('Eje y', color='blue')</td>\n",
    "    </tr>\n",
    "    <tr>\n",
    "      <td>rotation</td>\n",
    "      <td>Ángulo de rotación de las etiquetas (en grados)</td>\n",
    "      <td>Cualquier valor numérico</td>\n",
    "      <td>plt.xlabel('Eje x', rotation=45)</td>\n",
    "    </tr>\n",
    "    <tr>\n",
    "      <td>labelpad</td>\n",
    "      <td>Espaciado entre la etiqueta y el eje (en puntos)</td>\n",
    "      <td>Cualquier valor numérico</td>\n",
    "      <td>plt.ylabel('Eje y', labelpad=10)</td>\n",
    "    </tr>\n",
    "    <tr>\n",
    "      <td>horizontalalignment</td>\n",
    "      <td>Alineación horizontal de las etiquetas</td>\n",
    "      <td>'center', 'left', 'right'</td>\n",
    "      <td>plt.xlabel('Eje x', horizontalalignment='center')</td>\n",
    "    </tr>\n",
    "    <tr>\n",
    "      <td>verticalalignment</td>\n",
    "      <td>Alineación vertical de las etiquetas</td>\n",
    "      <td>'center', 'top', 'bottom'</td>\n",
    "      <td>plt.ylabel('Eje y', verticalalignment='top')</td>\n",
    "    </tr>\n",
    "  </tbody>\n",
    "</table>\n",
    "\n",
    "\n",
    "</center>"
   ]
  },
  {
   "cell_type": "markdown",
   "metadata": {},
   "source": [
    "### Ejemplo"
   ]
  },
  {
   "cell_type": "code",
   "execution_count": null,
   "metadata": {},
   "outputs": [],
   "source": [
    "import matplotlib.pyplot as plt\n",
    "import numpy as np\n",
    "import math\n",
    "\n",
    "\n",
    "x = np.arange(-2*math.pi, 2*math.pi, 0.1)  \n",
    "y = np.sin(x)  # Función exponencial: e^x\n",
    "\n",
    "\n",
    "plt.plot(x, y, color='purple', linewidth=1, label='f(x) = sin(x)')\n",
    "\n",
    "\n",
    "plt.xlabel('Eje X',fontsize=12,color='blue',labelpad=10,loc='center',fontweight='bold')\n",
    "plt.ylabel('f(x) = Sin(x)',fontsize=12,color='green',labelpad=10,loc='center',fontstyle='italic')\n",
    "\n",
    "plt.title('Gráfica de la Función Exponencial', fontsize=12, fontweight='bold')\n",
    "plt.legend()\n",
    "plt.tight_layout()\n",
    "plt.show()\n"
   ]
  },
  {
   "cell_type": "markdown",
   "metadata": {},
   "source": [
    "La función `plt.tight_layout()` ajusta automáticamente los márgenes y espacios entre los elementos de una figura de Matplotlib (como ejes, títulos, etiquetas y ticks) para que nada se sobreponga o quede cortado al visualizar o guardar la imagen."
   ]
  },
  {
   "cell_type": "markdown",
   "metadata": {},
   "source": [
    "## Función <code>plt.grid()</code>"
   ]
  },
  {
   "cell_type": "markdown",
   "metadata": {},
   "source": [
    "La función <code>plt.grid()</code> de Matplotlib se utiliza para controlar si se muestra una cuadrícula en el fondo del gráfico. La cuadrícula consiste en líneas horizontales y verticales que se extienden a lo largo del gráfico."
   ]
  },
  {
   "cell_type": "markdown",
   "metadata": {},
   "source": [
    "<center>\n",
    "<table>\n",
    "  <tr>\n",
    "    <th>Argumento</th>\n",
    "    <th>Descripción</th>\n",
    "    <th>Posibles Valores</th>\n",
    "    <th>Ejemplo</th>\n",
    "  </tr>\n",
    "  <tr>\n",
    "    <td>boolean</td>\n",
    "    <td>Activa o desactiva la cuadrícula.</td>\n",
    "    <td>True, False</td>\n",
    "    <td>plt.grid(True)</td>\n",
    "  </tr>\n",
    "  <tr>\n",
    "    <td>which</td>\n",
    "    <td>Define si la cuadrícula se aplica a marcas mayores, menores o ambas.</td>\n",
    "    <td>'major', 'minor', 'both'</td>\n",
    "    <td>plt.grid(True, which='both')</td>\n",
    "  </tr>\n",
    "  <tr>\n",
    "    <td>axis</td>\n",
    "    <td>Indica en qué eje se muestra la cuadrícula.</td>\n",
    "    <td>'both', 'x', 'y'</td>\n",
    "    <td>plt.grid(True, axis='y')</td>\n",
    "  </tr>\n",
    "  <tr>\n",
    "    <td>color</td>\n",
    "    <td>Color de las líneas de la cuadrícula.</td>\n",
    "    <td>Nombre del color o código hexadecimal</td>\n",
    "    <td>plt.grid(True, color='gray')</td>\n",
    "  </tr>\n",
    "  <tr>\n",
    "    <td>linestyle / ls</td>\n",
    "    <td>Estilo de línea de la cuadrícula.</td>\n",
    "    <td>'-', '--', ':', '-.'</td>\n",
    "    <td>plt.grid(True, linestyle='--')</td>\n",
    "  </tr>\n",
    "  <tr>\n",
    "    <td>linewidth / lw</td>\n",
    "    <td>Grosor de las líneas de la cuadrícula.</td>\n",
    "    <td>Valor numérico (por ejemplo, 0.5, 1.0)</td>\n",
    "    <td>plt.grid(True, linewidth=0.5)</td>\n",
    "  </tr>\n",
    "  <tr>\n",
    "    <td>alpha</td>\n",
    "    <td>Transparencia de la cuadrícula.</td>\n",
    "    <td>Valor entre 0 (transparente) y 1 (opaco)</td>\n",
    "    <td>plt.grid(True, alpha=0.3)</td>\n",
    "  </tr>\n",
    "  <tr>\n",
    "    <td>visible</td>\n",
    "    <td>Alternativa moderna a <code>b</code> para mostrar u ocultar la cuadrícula.</td>\n",
    "    <td>True, False</td>\n",
    "    <td>plt.grid(visible=True)</td>\n",
    "  </tr>\n",
    "</table>\n",
    "</center>\n"
   ]
  },
  {
   "cell_type": "markdown",
   "metadata": {},
   "source": [
    "### Ejemplo"
   ]
  },
  {
   "cell_type": "code",
   "execution_count": null,
   "metadata": {},
   "outputs": [],
   "source": [
    "import matplotlib.pyplot as plt\n",
    "import numpy as np\n",
    "\n",
    "x = np.arange(-5,6,1)\n",
    "y = 2*x\n",
    "\n",
    "plt.plot(x, y, linewidth=0.5, color='blue', marker = 'h', markersize = 10, markerfacecolor='gold', markeredgecolor = 'r', alpha = 0.9, label = '$y=x$')\n",
    "plt.plot(x, -1*y, linewidth=0.5, color='#FF0000', marker = '*',markersize = 20, markerfacecolor='cyan',markeredgecolor = 'g', alpha = 0.75, label = '$y=-x$' )\n",
    "plt.title(\"Mi gráfica\", fontsize = 30, color = 'tomato', pad = 10)\n",
    "plt.legend(title = 'Mi titulo', shadow = True, borderaxespad = 0.5, frameon = True, fontsize = 10 )\n",
    "plt.minorticks_on() # Activa marcas menores. Se debe activar manualmente\n",
    "plt.grid('both', which='minor',color='blue',alpha=0.1, axis='both', linestyle='--')\n",
    "plt.show()"
   ]
  },
  {
   "cell_type": "markdown",
   "metadata": {},
   "source": [
    "## Funciones <code>plt.xticks()</code> y <code>plt.yticks()</code>"
   ]
  },
  {
   "cell_type": "markdown",
   "metadata": {},
   "source": []
  },
  {
   "cell_type": "markdown",
   "metadata": {},
   "source": [
    "Los las funciones <code>plt.xticks()</code> y <code>plt.yticks()</code> de Matplotlib permiten personalizar las marcas (ticks) y sus etiquetas en los ejes X e Y de una gráfica respectivamente. Estas funciones permiten controlar las posiciones y los textos de las marcas en los ejes para mejorar la legibilidad y la presentación de los datos."
   ]
  },
  {
   "cell_type": "markdown",
   "metadata": {},
   "source": [
    "Los argumentos opcionales que se pueden utilizar con las funciones plt.xticks() y plt.yticks() en Matplotlib permiten personalizar aún más las marcas y etiquetas en los ejes x e y de un gráfico:"
   ]
  },
  {
   "cell_type": "markdown",
   "metadata": {},
   "source": [
    "<center>\n",
    "<table>\n",
    "  <thead>\n",
    "    <tr>\n",
    "      <th>Argumento</th>\n",
    "      <th>Descripción</th>\n",
    "      <th>Ejemplo de Uso</th>\n",
    "    </tr>\n",
    "  </thead>\n",
    "  <tbody>\n",
    "    <tr>\n",
    "      <td>ticks</td>\n",
    "      <td>Ubicaciones específicas donde se colocan las marcas</td>\n",
    "      <td>plt.xticks([0, 1, 2, 3])</td>\n",
    "    </tr>\n",
    "    <tr>\n",
    "      <td>labels</td>\n",
    "      <td>Etiquetas personalizadas para las marcas</td>\n",
    "      <td>plt.xticks([1, 3, 5], labels=['A', 'B', 'C'])</td>\n",
    "    </tr>\n",
    "    <tr>\n",
    "      <td>rotation</td>\n",
    "      <td>Rotación de las etiquetas en grados</td>\n",
    "      <td>plt.xticks(rotation=45)</td>\n",
    "    </tr>\n",
    "    <tr>\n",
    "      <td>fontsize</td>\n",
    "      <td>Tamaño de la fuente de las etiquetas</td>\n",
    "      <td>plt.xticks(fontsize=12)</td>\n",
    "    </tr>\n",
    "    <tr>\n",
    "      <td>color</td>\n",
    "      <td>Color de las etiquetas de las marcas</td>\n",
    "      <td>plt.xticks(color='red')</td>\n",
    "    </tr>\n",
    "    <tr>\n",
    "      <td>alpha</td>\n",
    "      <td>Transparencia de las etiquetas</td>\n",
    "      <td>plt.xticks(alpha=0.5)</td>\n",
    "    </tr>\n",
    "    <tr>\n",
    "      <td>horizontalalignment (solo para plt.yticks())</td>\n",
    "      <td>Alineación horizontal de las etiquetas en el eje y</td>\n",
    "      <td>plt.yticks(horizontalalignment='right')</td>\n",
    "    </tr>\n",
    "    <tr>\n",
    "      <td>verticalalignment (solo para plt.xticks())</td>\n",
    "      <td>Alineación vertical de las etiquetas en el eje x</td>\n",
    "      <td>plt.xticks(verticalalignment='top')</td>\n",
    "    </tr>\n",
    "  </tbody>\n",
    "</table>\n",
    "</center>\n"
   ]
  },
  {
   "cell_type": "markdown",
   "metadata": {},
   "source": [
    "### Ejemplo"
   ]
  },
  {
   "cell_type": "code",
   "execution_count": null,
   "metadata": {},
   "outputs": [],
   "source": [
    "import matplotlib.pyplot as plt\n",
    "\n",
    "x = [1, 2, 3, 4, 5]\n",
    "y = [2, 4, 6, 8, 10]\n",
    "\n",
    "plt.plot(x, y)\n",
    "plt.grid()\n",
    "plt.xticks(x, ['aaaaaaa', 'b', 'c','d','e'], rotation = 90)\n",
    "plt.yticks(y, ['f(a)','f(b)','f(c)','f(d)','f(e)'])\n",
    "plt.grid(which='major')\n",
    "plt.show()\n"
   ]
  },
  {
   "cell_type": "markdown",
   "metadata": {},
   "source": [
    "### Ejemplo"
   ]
  },
  {
   "cell_type": "code",
   "execution_count": null,
   "metadata": {},
   "outputs": [],
   "source": [
    "import matplotlib.pyplot as plt\n",
    "import numpy as np\n",
    "\n",
    "x = np.arange(1, 11)\n",
    "y = 2*x + 1\n",
    "\n",
    "plt.plot(x, y)\n",
    "\n",
    "# Mostrar ticks de 1 en 1 \n",
    "plt.xticks(np.arange(min(x), max(x)+1, 1), fontsize=8)\n",
    "plt.yticks(np.arange(min(y), max(y)+1, 1), fontsize=8)\n",
    "plt.grid(True, which='major')\n",
    "plt.show()\n"
   ]
  },
  {
   "cell_type": "markdown",
   "metadata": {},
   "source": [
    "### Ejemplo"
   ]
  },
  {
   "cell_type": "code",
   "execution_count": null,
   "metadata": {},
   "outputs": [],
   "source": [
    "import matplotlib.pyplot as plt\n",
    "\n",
    "# Datos\n",
    "x = [0, 1, 2, 3]\n",
    "y = [10, 20, 25, 30]\n",
    "\n",
    "\n",
    "plt.plot(x, y, marker='o')\n",
    "\n",
    "# Personalizar ticks del eje X y eje Y\n",
    "plt.xticks(ticks=[0, 1, 2, 3],labels=['Enero', 'Febrero', 'Marzo', 'Abril'],rotation=45,fontsize=12,color='blue',alpha=0.8,verticalalignment='top')\n",
    "plt.yticks(ticks=[10, 20, 25, 30],labels=['Bajo', 'Medio', 'Alto', 'Muy Alto'],rotation=0,fontsize=10,color='green',alpha=0.9,horizontalalignment='right')\n",
    "\n",
    "plt.title('Utilizando Ticks')\n",
    "plt.xlabel('Eje X')\n",
    "plt.ylabel('Eje Y')\n",
    "\n",
    "plt.tight_layout()\n",
    "plt.show()\n"
   ]
  },
  {
   "cell_type": "markdown",
   "metadata": {},
   "source": [
    "La función `plt.tight_layout()` ajusta automáticamente los márgenes y espacios entre los elementos de una figura de Matplotlib (como ejes, títulos, etiquetas y ticks) para que nada se sobreponga o quede cortado al visualizar o guardar la imagen."
   ]
  },
  {
   "cell_type": "markdown",
   "metadata": {},
   "source": [
    "## Funciones  <code>plt.vlines()</code>  y <code>plt.hlines()</code>"
   ]
  },
  {
   "cell_type": "markdown",
   "metadata": {},
   "source": [
    "### Función  <code>plt.vlines()</code>"
   ]
  },
  {
   "cell_type": "markdown",
   "metadata": {},
   "source": [
    " La función <code>plt.vlines()</code> en Matplotlib se utiliza para trazar líneas verticales en un gráfico. Permite trazar líneas verticales en una o varias ubicaciones en el eje x. "
   ]
  },
  {
   "cell_type": "markdown",
   "metadata": {},
   "source": [
    "La función <code>plt.vlines()</code> en Matplotlib tiene varias opciones adicionales que permiten personalizar el aspecto de las líneas verticales trazadas. Algunas de las opciones más comunes son las siguientes:\n",
    "\n",
    "<center>\n",
    "<table>\n",
    "  <tr>\n",
    "    <th>Opción</th>\n",
    "    <th>Descripción</th>\n",
    "    <th>Ejemplo de Uso</th>\n",
    "  </tr>\n",
    "  <tr>\n",
    "    <td>x</td>\n",
    "    <td>Coordenadas x de los puntos de las líneas</td>\n",
    "    <td>x = [1, 2, 3, 4, 5]</td>\n",
    "  </tr>\n",
    "  <tr>\n",
    "    <td>ymin</td>\n",
    "    <td>Coordenadas y mínimas de los puntos de las líneas</td>\n",
    "    <td>ymin = [0, 1, 0, 2, 1]</td>\n",
    "  </tr>\n",
    "  <tr>\n",
    "    <td>ymax</td>\n",
    "    <td>Coordenadas y máximas de los puntos de las líneas</td>\n",
    "    <td>ymax = [2, 4, 3, 5, 4]</td>\n",
    "  </tr>\n",
    "  <tr>\n",
    "    <td>color</td>\n",
    "    <td>Color de las líneas</td>\n",
    "    <td>color = 'blue'</td>\n",
    "  </tr>\n",
    "  <tr>\n",
    "    <td>linewidth</td>\n",
    "    <td>Ancho de línea de las líneas</td>\n",
    "    <td>linewidth = 2</td>\n",
    "  </tr>\n",
    "  <tr>\n",
    "    <td>linestyle</td>\n",
    "    <td>Estilo de línea de las líneas</td>\n",
    "    <td>linestyle = '--'</td>\n",
    "  </tr>\n",
    "  <tr>\n",
    "    <td>alpha</td>\n",
    "    <td>Transparencia de las líneas</td>\n",
    "    <td>alpha = 0.7</td>\n",
    "  </tr>\n",
    "  <tr>\n",
    "    <td>label</td>\n",
    "    <td>Etiqueta de las líneas</td>\n",
    "    <td>label = 'Líneas verticales'</td>\n",
    "  </tr>\n",
    "</table>\n",
    "\n",
    "</center>"
   ]
  },
  {
   "cell_type": "markdown",
   "metadata": {},
   "source": [
    "### Ejemplo"
   ]
  },
  {
   "cell_type": "code",
   "execution_count": null,
   "metadata": {},
   "outputs": [],
   "source": [
    "import matplotlib.pyplot as plt\n",
    "\n",
    "x = [1, 2, 3, 4, 5]\n",
    "ymin = [0, 1, 0, 2, 1]\n",
    "ymax = [2, 4, 3, 5, 4]\n",
    "\n",
    "#plt.vlines(x=x, ymin=ymin, ymax=ymax, color='blue', linewidth=2, linestyle='--', alpha=0.7, label='Líneas verticales')\n",
    "plt.vlines(x=0, ymin=-5, ymax=5, color='blue', linewidth=2, linestyle='--', alpha=0.7, label='Líneas verticales')\n",
    "\n",
    "plt.xlabel('Eje X')\n",
    "plt.ylabel('Eje Y')\n",
    "plt.title('Líneas verticales')\n",
    "plt.legend()\n",
    "\n",
    "plt.show()"
   ]
  },
  {
   "cell_type": "markdown",
   "metadata": {},
   "source": [
    "### Ejemplo"
   ]
  },
  {
   "cell_type": "code",
   "execution_count": null,
   "metadata": {},
   "outputs": [],
   "source": [
    "import matplotlib.pyplot as plt\n",
    "x = [2, 2]\n",
    "y = [0, 5]\n",
    "\n",
    "\n",
    "plt.vlines(x=x[0], ymin=y[0], ymax=y[1], color='red', linestyle='--')\n",
    "\n",
    "\n",
    "plt.xlabel('Eje X')\n",
    "plt.ylabel('Eje Y')\n",
    "plt.title('Línea vertical entre dos puntos')\n",
    "\n",
    "\n",
    "plt.show()\n"
   ]
  },
  {
   "cell_type": "markdown",
   "metadata": {},
   "source": [
    "### Función  <code>plt.hlines()</code>"
   ]
  },
  {
   "cell_type": "markdown",
   "metadata": {},
   "source": [
    "La función <code>plt.hlines()</code> en Matplotlib se utiliza para trazar líneas horizontales en un gráfico. Toma como entrada las coordenadas <code>y</code>,<code> xmin</code> y <code>xmax</code> para especificar la posición y extensión de las líneas horizontales."
   ]
  },
  {
   "cell_type": "markdown",
   "metadata": {},
   "source": [
    "<center>\n",
    "<table>\n",
    "  <tr>\n",
    "    <th>Opción</th>\n",
    "    <th>Descripción</th>\n",
    "    <th>Ejemplo de Uso</th>\n",
    "  </tr>\n",
    "  <tr>\n",
    "    <td>y</td>\n",
    "    <td>Coordenadas y de los puntos de las líneas</td>\n",
    "    <td>y = [1, 2, 3, 4, 5]</td>\n",
    "  </tr>\n",
    "  <tr>\n",
    "    <td>xmin</td>\n",
    "    <td>Coordenadas x mínimas de los puntos de las líneas</td>\n",
    "    <td>xmin = [0, 1, 0, 2, 1]</td>\n",
    "  </tr>\n",
    "  <tr>\n",
    "    <td>xmax</td>\n",
    "    <td>Coordenadas x máximas de los puntos de las líneas</td>\n",
    "    <td>xmax = [2, 4, 3, 5, 4]</td>\n",
    "  </tr>\n",
    "  <tr>\n",
    "    <td>color</td>\n",
    "    <td>Color de las líneas</td>\n",
    "    <td>color = 'blue'</td>\n",
    "  </tr>\n",
    "  <tr>\n",
    "    <td>linewidth</td>\n",
    "    <td>Ancho de línea de las líneas</td>\n",
    "    <td>linewidth = 2</td>\n",
    "  </tr>\n",
    "  <tr>\n",
    "    <td>linestyle</td>\n",
    "    <td>Estilo de línea de las líneas</td>\n",
    "    <td>linestyle = '--'</td>\n",
    "  </tr>\n",
    "  <tr>\n",
    "    <td>alpha</td>\n",
    "    <td>Transparencia de las líneas</td>\n",
    "    <td>alpha = 0.7</td>\n",
    "  </tr>\n",
    "  <tr>\n",
    "    <td>label</td>\n",
    "    <td>Etiqueta de las líneas</td>\n",
    "    <td>label = 'Líneas horizontales'</td>\n",
    "  </tr>\n",
    "</table>\n",
    "</center>\n"
   ]
  },
  {
   "cell_type": "markdown",
   "metadata": {},
   "source": [
    "### Ejemplo"
   ]
  },
  {
   "cell_type": "code",
   "execution_count": null,
   "metadata": {},
   "outputs": [],
   "source": [
    "import matplotlib.pyplot as plt\n",
    "\n",
    "y = [1, 2, 3, 4, 5]\n",
    "xmin = [0, 1, 0, 2, 1]\n",
    "xmax = [2, 4, 3, 5, 4]\n",
    "\n",
    "plt.hlines(y=y, xmin=xmin, xmax=xmax, color='blue', linewidth=2, linestyle='--', alpha=0.7, label='Líneas horizontales')\n",
    "\n",
    "plt.xlabel('Eje X')\n",
    "plt.ylabel('Eje Y')\n",
    "plt.title('Líneas horizontales')\n",
    "plt.legend()\n",
    "\n",
    "plt.show()\n"
   ]
  },
  {
   "cell_type": "markdown",
   "metadata": {},
   "source": [
    "## Funciones <code>plt.axhline()</code> y <code>plt.axvline()</code>"
   ]
  },
  {
   "cell_type": "markdown",
   "metadata": {},
   "source": [
    "### Función `plt.axhline()`"
   ]
  },
  {
   "cell_type": "markdown",
   "metadata": {},
   "source": [
    "La función <code>plt.axhline()</code> en Matplotlib se utiliza para trazar una línea horizontal en un gráfico. Esta línea se extiende a lo largo del eje y en una posición específica."
   ]
  },
  {
   "cell_type": "markdown",
   "metadata": {},
   "source": [
    "<center>\n",
    "<table>\n",
    "  <thead>\n",
    "    <tr>\n",
    "      <th>Argumento</th>\n",
    "      <th>Descripción</th>\n",
    "      <th>Ejemplo de Uso</th>\n",
    "    </tr>\n",
    "  </thead>\n",
    "  <tbody>\n",
    "    <tr>\n",
    "      <td>y</td>\n",
    "      <td>Valor en el eje y donde trazar la línea horizontal</td>\n",
    "      <td>plt.axhline(y=2.5)</td>\n",
    "    </tr>\n",
    "    <tr>\n",
    "      <td>xmin</td>\n",
    "      <td>Posición mínima de la línea horizontal (valor normalizado)</td>\n",
    "      <td>plt.axhline(y=2.5, xmin=0.2)</td>\n",
    "    </tr>\n",
    "    <tr>\n",
    "      <td>xmax</td>\n",
    "      <td>Posición máxima de la línea horizontal (valor normalizado)</td>\n",
    "      <td>plt.axhline(y=2.5, xmax=0.8)</td>\n",
    "    </tr>\n",
    "    <tr>\n",
    "      <td>color</td>\n",
    "      <td>Color de la línea horizontal</td>\n",
    "      <td>plt.axhline(y=2.5, color='r')</td>\n",
    "    </tr>\n",
    "    <tr>\n",
    "      <td>linewidth</td>\n",
    "      <td>Ancho de la línea en puntos</td>\n",
    "      <td>plt.axhline(y=2.5, linewidth=2)</td>\n",
    "    </tr>\n",
    "    <tr>\n",
    "      <td>linestyle</td>\n",
    "      <td>Estilo de línea</td>\n",
    "      <td>plt.axhline(y=2.5, linestyle='--')</td>\n",
    "    </tr>\n",
    "  </tbody>\n",
    "</table>\n",
    "\n",
    "\n",
    "</center>"
   ]
  },
  {
   "cell_type": "markdown",
   "metadata": {},
   "source": [
    "### Función `plt.axvline()`"
   ]
  },
  {
   "cell_type": "markdown",
   "metadata": {},
   "source": [
    "La función `axvline()` en matplotlib se utiliza para trazar una línea vertical en un gráfico. Puedes usar esta función para agregar una línea vertical en un valor específico del eje x."
   ]
  },
  {
   "cell_type": "markdown",
   "metadata": {},
   "source": [
    "<center>\n",
    "<table>\n",
    "  <thead>\n",
    "    <tr>\n",
    "      <th>Argumento</th>\n",
    "      <th>Descripción</th>\n",
    "      <th>Ejemplo de Uso</th>\n",
    "    </tr>\n",
    "  </thead>\n",
    "  <tbody>\n",
    "    <tr>\n",
    "      <td>x</td>\n",
    "      <td>Valor en el eje x donde trazar la línea vertical</td>\n",
    "      <td>plt.axvline(x=2.5)</td>\n",
    "    </tr>\n",
    "    <tr>\n",
    "      <td>ymin</td>\n",
    "      <td>Altura mínima de la línea vertical (valor normalizado)</td>\n",
    "      <td>plt.axvline(x=2.5, ymin=0.2)</td>\n",
    "    </tr>\n",
    "    <tr>\n",
    "      <td>ymax</td>\n",
    "      <td>Altura máxima de la línea vertical (valor normalizado)</td>\n",
    "      <td>plt.axvline(x=2.5, ymax=0.8)</td>\n",
    "    </tr>\n",
    "    <tr>\n",
    "      <td>color</td>\n",
    "      <td>Color de la línea vertical</td>\n",
    "      <td>plt.axvline(x=2.5, color='r')</td>\n",
    "    </tr>\n",
    "    <tr>\n",
    "      <td>linewidth</td>\n",
    "      <td>Ancho de la línea en puntos</td>\n",
    "      <td>plt.axvline(x=2.5, linewidth=2)</td>\n",
    "    </tr>\n",
    "    <tr>\n",
    "      <td>linestyle</td>\n",
    "      <td>Estilo de línea</td>\n",
    "      <td>plt.axvline(x=2.5, linestyle='--')</td>\n",
    "    </tr>\n",
    "  </tbody>\n",
    "</table>\n",
    "\n",
    "</center>"
   ]
  },
  {
   "cell_type": "markdown",
   "metadata": {},
   "source": [
    "### Ejemplo"
   ]
  },
  {
   "cell_type": "code",
   "execution_count": null,
   "metadata": {},
   "outputs": [],
   "source": [
    "import matplotlib.pyplot as plt\n",
    "import numpy as np\n",
    "\n",
    "x = np.arange(-5,6,1)\n",
    "y = 2*x\n",
    "z = -2*x\n",
    "plt.axhline(0, linestyle='-', linewidth=1, color='black')\n",
    "plt.axvline(0, linestyle='-', linewidth=1, color='black')\n",
    "plt.plot(x, y, linewidth=0.5, color='blue', marker = 'h', markersize = 10, markerfacecolor='gold', markeredgecolor = 'r', alpha = 1, label = '$y = x$')\n",
    "plt.plot(x, z, linewidth=0.5, color='#FF0000', marker = '*',markersize = 20, markerfacecolor='cyan',markeredgecolor = 'g', alpha = 0.75, label = '$y=-x$' )\n",
    "plt.title(\"Mi gráfica\", fontsize = 30, color = 'tomato', pad = 10)\n",
    "plt.legend(title = 'Mi titulo', shadow = True, borderaxespad = 0.5, frameon = True, fontsize = 10 )\n",
    "\n",
    "plt.show()\n"
   ]
  },
  {
   "cell_type": "markdown",
   "metadata": {},
   "source": [
    "## Función `plt.anottate()`"
   ]
  },
  {
   "cell_type": "markdown",
   "metadata": {},
   "source": [
    "La función `plt.annotate()` en Matplotlib se utiliza para agregar anotaciones en un gráfico. Permite colocar texto en coordenadas específicas dentro del gráfico y proporciona opciones para personalizar la apariencia de la anotación, como el estilo de la flecha, el color, el tamaño de la fuente, entre otros."
   ]
  },
  {
   "cell_type": "markdown",
   "metadata": {},
   "source": [
    "La sintaxis básica de `plt.annotate()` es la siguiente:"
   ]
  },
  {
   "cell_type": "markdown",
   "metadata": {},
   "source": [
    "<code>plt.annotate(text, xy, xytext, arrowprops)\n",
    "</code>"
   ]
  },
  {
   "cell_type": "markdown",
   "metadata": {},
   "source": [
    "<center>\n",
    "<table>\n",
    "  <thead>\n",
    "    <tr>\n",
    "      <th>Argumento</th>\n",
    "      <th>Descripción</th>\n",
    "      <th>Ejemplo de Uso</th>\n",
    "    </tr>\n",
    "  </thead>\n",
    "  <tbody>\n",
    "    <tr>\n",
    "      <td>text</td>\n",
    "      <td>El texto que se mostrará en la anotación.</td>\n",
    "      <td><code>plt.annotate('Punto de interés')</code></td>\n",
    "    </tr>\n",
    "    <tr>\n",
    "      <td>xy</td>\n",
    "      <td>Las coordenadas (x, y) del punto al que se anotará.</td>\n",
    "      <td><code>plt.annotate('Punto de interés', xy=(2, 4))</code></td>\n",
    "    </tr>\n",
    "    <tr>\n",
    "      <td>xytext</td>\n",
    "      <td>Las coordenadas (x, y) donde se colocará el texto de la anotación.</td>\n",
    "      <td><code>plt.annotate('Punto de interés', xy=(2, 4), xytext=(3, 8))</code></td>\n",
    "    </tr>\n",
    "    <tr>\n",
    "      <td>arrowprops</td>\n",
    "      <td>Un diccionario con las propiedades de la flecha.</td>\n",
    "      <td><code>plt.annotate('Punto de interés', xy=(2, 4), xytext=(3, 8), arrowprops=dict(arrowstyle='->', color='red'))</code></td>\n",
    "    </tr>\n",
    "  </tbody>\n",
    "</table>\n",
    "\n",
    "</center>"
   ]
  },
  {
   "cell_type": "markdown",
   "metadata": {},
   "source": [
    "El argumento `arrowprops` es un diccionario que especifica las propiedades de la flecha utilizada para señalar desde el texto de la anotación hasta el punto de interés. Algunas de las propiedades que puedes configurar en `arrowprops` son las siguientes:"
   ]
  },
  {
   "cell_type": "markdown",
   "metadata": {},
   "source": [
    "<center>\n",
    "<table>\n",
    "  <thead>\n",
    "    <tr>\n",
    "      <th>Argumento</th>\n",
    "      <th>Descripción</th>\n",
    "      <th>Ejemplo de uso</th>\n",
    "    </tr>\n",
    "  </thead>\n",
    "  <tbody>\n",
    "    <tr>\n",
    "      <td>arrowstyle</td>\n",
    "      <td>Estilo de la flecha</td>\n",
    "      <td><code>arrowprops=dict(arrowstyle='->')</code></td>\n",
    "    </tr>\n",
    "    <tr>\n",
    "      <td>color</td>\n",
    "      <td>Color de la flecha</td>\n",
    "      <td><code>arrowprops=dict(color='red')</code></td>\n",
    "    </tr>\n",
    "    <tr>\n",
    "      <td>linewidth</td>\n",
    "      <td>Ancho de la línea de la flecha</td>\n",
    "      <td><code>arrowprops=dict(linewidth=1.5)</code></td>\n",
    "    </tr>\n",
    "    <tr>\n",
    "      <td>linestyle</td>\n",
    "      <td>Estilo de línea de la flecha</td>\n",
    "      <td><code>arrowprops=dict(linestyle='dashed')</code></td>\n",
    "    </tr>\n",
    "    <tr>\n",
    "      <td>alpha</td>\n",
    "      <td>Opacidad de la flecha</td>\n",
    "      <td><code>arrowprops=dict(alpha=0.7)</code></td>\n",
    "    </tr>\n",
    "    <tr>\n",
    "      <td>...</td>\n",
    "      <td>Otras opciones disponibles. Consulta la documentación.</td>\n",
    "      <td><code>arrowprops=dict(arrowstyle='fancy', color='blue', linewidth=2.0, linestyle='dotted', alpha=0.5)</code></td>\n",
    "    </tr>\n",
    "  </tbody>\n",
    "</table>\n",
    "\n",
    "</center>"
   ]
  },
  {
   "cell_type": "markdown",
   "metadata": {},
   "source": [
    "### Ejemplo"
   ]
  },
  {
   "cell_type": "code",
   "execution_count": null,
   "metadata": {},
   "outputs": [],
   "source": [
    "import matplotlib.pyplot as plt\n",
    "\n",
    "x = [1, 2, 3, 4, 5]\n",
    "y = [2, 4, 6, 8, 10]\n",
    "\n",
    "plt.plot(x, y, 'r--')\n",
    "plt.scatter(3, 6, color='red')\n",
    "\n",
    "plt.annotate('Punto de interés', xy=(3, 6), xytext=(4, 8),\n",
    "             arrowprops=dict(facecolor='black', arrowstyle='->'))\n",
    "\n",
    "plt.xlabel('Eje X')\n",
    "plt.ylabel('Eje Y')\n",
    "plt.title('Gráfico con Anotación')\n",
    "\n",
    "plt.show()"
   ]
  },
  {
   "cell_type": "markdown",
   "metadata": {},
   "source": [
    "### Ejemplo"
   ]
  },
  {
   "cell_type": "code",
   "execution_count": null,
   "metadata": {},
   "outputs": [],
   "source": [
    "import numpy as np\n",
    "import matplotlib.pyplot as plt\n",
    "\n",
    "x = np.linspace(0, 2*np.pi, 100)\n",
    "y = np.sin(x)\n",
    "\n",
    "plt.plot(x, y)\n",
    "\n",
    "# Anotación en el punto máximo\n",
    "xmax = x[np.argmax(y)]\n",
    "ymax = np.max(y)\n",
    "\n",
    "plt.annotate('Máximo', xy=(xmax, ymax), xytext=(xmax-1, ymax-1),\n",
    "             arrowprops=dict(facecolor='red', arrowstyle='->'),\n",
    "             fontsize=12, fontweight='bold', color='blue')\n",
    "\n",
    "plt.xlabel('X')\n",
    "plt.ylabel('Y')\n",
    "plt.title('Gráfico con Anotación Personalizada')\n",
    "\n",
    "plt.show()\n"
   ]
  },
  {
   "cell_type": "markdown",
   "metadata": {},
   "source": [
    "### Ejemplo"
   ]
  },
  {
   "cell_type": "code",
   "execution_count": null,
   "metadata": {},
   "outputs": [],
   "source": [
    "import matplotlib.pyplot as plt\n",
    "\n",
    "x = [1, 2, 3, 4, 5]\n",
    "y = [2, 4, 6, 8, 10]\n",
    "\n",
    "plt.plot(x, y, 'b-')\n",
    "plt.scatter(3, 6, color='red')\n",
    "\n",
    "plt.annotate('Punto de interés', xy=(3, 6), xytext=(4, 8),\n",
    "             arrowprops=dict(facecolor='black', arrowstyle='<->'))\n",
    "\n",
    "plt.xlabel('Eje X')\n",
    "plt.ylabel('Eje Y')\n",
    "plt.title('Gráfico con anotación bidireccional')\n",
    "\n",
    "plt.show()\n"
   ]
  },
  {
   "cell_type": "markdown",
   "metadata": {},
   "source": [
    "## Función <code>plt.fill_between</code> "
   ]
  },
  {
   "cell_type": "markdown",
   "metadata": {},
   "source": [
    "La función `plt.fill_between()` en Matplotlib se utiliza para rellenar el área entre dos curvas en un gráfico. Se utiliza comúnmente para resaltar o enfatizar una región específica en el gráfico"
   ]
  },
  {
   "cell_type": "markdown",
   "metadata": {},
   "source": [
    "<center>\n",
    "<table>\n",
    "    <thead>\n",
    "        <tr>\n",
    "            <th>Argumento</th>\n",
    "            <th>Descripción</th>\n",
    "            <th>Ejemplo de uso</th>\n",
    "        </tr>\n",
    "    </thead>\n",
    "    <tbody>\n",
    "        <tr>\n",
    "            <td>x</td>\n",
    "            <td>Coordenadas x de los puntos de datos</td>\n",
    "            <td>x = np.linspace(0, 10, 100)</td>\n",
    "        </tr>\n",
    "        <tr>\n",
    "            <td>y1</td>\n",
    "            <td>Coordenadas y inferiores que definen el límite inferior del área de relleno</td>\n",
    "            <td>y1 = np.sin(x)</td>\n",
    "        </tr>\n",
    "        <tr>\n",
    "            <td>y2</td>\n",
    "            <td>Coordenadas y superiores que definen el límite superior del área de relleno</td>\n",
    "            <td>y2 = np.cos(x)</td>\n",
    "        </tr>\n",
    "        <tr>\n",
    "            <td>where</td>\n",
    "            <td>Condición lógica o máscara booleana que especifica en qué puntos se debe rellenar el área</td>\n",
    "            <td>where = y1 >= y2</td>\n",
    "        </tr>\n",
    "        <tr>\n",
    "            <td>color</td>\n",
    "            <td>Color del relleno</td>\n",
    "            <td>color = 'blue'</td>\n",
    "        </tr>\n",
    "        <tr>\n",
    "            <td>alpha</td>\n",
    "            <td>Transparencia del relleno</td>\n",
    "            <td>alpha = 0.3</td>\n",
    "        </tr>\n",
    "        <tr>\n",
    "            <td>linewidth</td>\n",
    "            <td>Grosor de la línea del borde del relleno</td>\n",
    "            <td>linewidth = 2</td>\n",
    "        </tr>\n",
    "        <tr>\n",
    "            <td>edgecolor</td>\n",
    "            <td>Color del borde del relleno</td>\n",
    "            <td>edgecolor = 'black'</td>\n",
    "        </tr>\n",
    "        <tr>\n",
    "            <td>linestyle</td>\n",
    "            <td>Estilo de línea del borde del relleno</td>\n",
    "            <td>linestyle = '--'</td>\n",
    "        </tr>\n",
    "        <tr>\n",
    "            <td>interpolate</td>\n",
    "            <td>Indica si se debe realizar una interpolación lineal entre los puntos de datos para suavizar el relleno</td>\n",
    "            <td>interpolate = True</td>\n",
    "        </tr>\n",
    "        <tr>\n",
    "            <td>closed</td>\n",
    "            <td>Determina si el relleno debe cerrarse formando una forma poligonal cerrada</td>\n",
    "            <td>closed = True</td>\n",
    "        </tr>\n",
    "        <tr>\n",
    "            <td>label</td>\n",
    "            <td>Etiqueta para el relleno que se mostrará en la leyenda</td>\n",
    "            <td>label = 'Área de relleno'</td>\n",
    "        </tr>\n",
    "    </tbody>\n",
    "</table>\n",
    "\n",
    "</center>"
   ]
  },
  {
   "cell_type": "code",
   "execution_count": null,
   "metadata": {},
   "outputs": [],
   "source": [
    "import matplotlib.pyplot as plt\n",
    "import numpy as np\n",
    "\n",
    "x = np.linspace(0, 10, 100)\n",
    "y1 = np.sin(x)\n",
    "y2 = np.cos(x)\n",
    "\n",
    "plt.fill_between(x, y1, y2, color='blue', alpha=0.3, linewidth=2, edgecolor='black', linestyle='dashed', where=(y1 > y2), label = 'Area entre curvas')\n",
    "plt.plot(x, y1, color='red', label='sin(x)')\n",
    "plt.plot(x, y2, color='green', label='cos(x)')\n",
    "plt.legend()\n",
    "\n",
    "plt.xlabel('x')\n",
    "plt.ylabel('y')\n",
    "plt.title('Relleno entre curvas')\n",
    "\n",
    "plt.show()\n"
   ]
  },
  {
   "cell_type": "code",
   "execution_count": null,
   "metadata": {},
   "outputs": [],
   "source": [
    "import numpy as np\n",
    "import matplotlib.pyplot as plt\n",
    "\n",
    "# Datos de ejemplo\n",
    "x = np.linspace(0, 5, 100)\n",
    "y1 = np.sin(x)\n",
    "y2 = np.cos(x)\n",
    "\n",
    "# Gráficas de las funciones\n",
    "plt.plot(x, y1, 'b-', label='Función 1')\n",
    "plt.plot(x, y2, 'r-', label='Función 2')\n",
    "\n",
    "# Relleno del área entre las curvas\n",
    "plt.fill_between(x, y1, y2, where=(y1 >= y2), interpolate=True, color='green', alpha=0.5)\n",
    "plt.fill_between(x, y1, y2, where=(y1 < y2), interpolate=True, color='lightblue', alpha=0.5)\n",
    "\n",
    "# Configuraciones adicionales\n",
    "plt.xlabel('Eje X')\n",
    "plt.ylabel('Eje Y')\n",
    "plt.title('Gráficas con área rellena entre curvas')\n",
    "plt.legend()\n",
    "\n",
    "# Mostrar el gráfico\n",
    "plt.show()\n"
   ]
  },
  {
   "cell_type": "markdown",
   "metadata": {},
   "source": [
    "# Graficando funciones "
   ]
  },
  {
   "cell_type": "markdown",
   "metadata": {},
   "source": [
    "## Función <code>linspace()<code>"
   ]
  },
  {
   "cell_type": "markdown",
   "metadata": {},
   "source": [
    "La función <code>linspace()</code> de <code>NumPy</code> se utiliza para **generar una secuencia de números espaciados uniformemente dentro de un intervalo especificado**."
   ]
  },
  {
   "cell_type": "markdown",
   "metadata": {},
   "source": [
    "La sintaxis general de la función linspace() es la siguiente:\n",
    "\n",
    "<code>np.linspace(start, stop, num=50, endpoint=True, retstep=False, dtype=None)</code>\n"
   ]
  },
  {
   "cell_type": "markdown",
   "metadata": {},
   "source": [
    "*   **start:** Es el valor de inicio de la secuencia.\n",
    "\n",
    "*  **stop:** Es el valor final de la secuencia. Este valor está incluido en la secuencia, a menos que se especifique <code>endpoint=False</code>.\n",
    " \n",
    "*  **num:** Especifica el número de elementos que se generarán en la secuencia. Por defecto, es igual a 50.\n",
    "\n",
    "* **endpoint:** Un valor booleano que indica si el stop debe incluirse en la secuencia o no. Si se establece en <code>False</code>, el <code>stop</code> no se incluirá en la secuencia generada. Por defecto, es <code>True</code>.\n",
    "  \n",
    "* **retstep:** Un valor booleano que indica si se debe devolver el espaciado entre los elementos de la secuencia. Si se establece en <code>True</code>, la función devuelve una tupla donde el segundo elemento es el espaciado entre los elementos. Por defecto, es <code>False</code>.\n",
    "\n",
    "* **dtype:** Especifica el tipo de datos de los elementos en la secuencia generada. Por defecto, se utiliza el tipo de datos de los argumentos <code>start</code> y <code>stop</code>."
   ]
  },
  {
   "cell_type": "markdown",
   "metadata": {},
   "source": [
    "Algunos ejemplos de tipos de datos (<code>dtype</code>) que se pueden especificar al utilizar <code>NumPy<code>:"
   ]
  },
  {
   "cell_type": "markdown",
   "metadata": {},
   "source": [
    "<center>\n",
    "<table>\n",
    "  <thead>\n",
    "    <tr>\n",
    "      <th>Tipo de Datos</th>\n",
    "      <th>Descripción</th>\n",
    "      <th>Ejemplo</th>\n",
    "    </tr>\n",
    "  </thead>\n",
    "  <tbody>\n",
    "    <tr>\n",
    "      <td>int</td>\n",
    "      <td>Entero</td>\n",
    "      <td><code>np.array([1, 2, 3], dtype=int)</code></td>\n",
    "    </tr>\n",
    "    <tr>\n",
    "      <td>float</td>\n",
    "      <td>Número de punto flotante</td>\n",
    "      <td><code>np.array([1.0, 2.5, 3.7], dtype=float)</code></td>\n",
    "    </tr>\n",
    "    <tr>\n",
    "      <td>bool</td>\n",
    "      <td>Valor booleano</td>\n",
    "      <td><code>np.array([True, False, True], dtype=bool)</code></td>\n",
    "    </tr>\n",
    "    <tr>\n",
    "      <td>str</td>\n",
    "      <td>Cadena de caracteres</td>\n",
    "      <td><code>np.array([\"hola\", \"mundo\"], dtype=str)</code></td>\n",
    "    </tr>\n",
    "    <tr>\n",
    "      <td>complex</td>\n",
    "      <td>Número complejo</td>\n",
    "      <td><code>np.array([2 + 3j, 4 - 2j], dtype=complex)</code></td>\n",
    "    </tr>\n",
    "    <tr>\n",
    "      <td>uint</td>\n",
    "      <td>Entero sin signo</td>\n",
    "      <td><code>np.array([10, 20, 30], dtype=np.uint16)</code></td>\n",
    "    </tr>\n",
    "  </tbody>\n",
    "</table>\n",
    "</center>\n"
   ]
  },
  {
   "cell_type": "code",
   "execution_count": null,
   "metadata": {},
   "outputs": [],
   "source": [
    "import numpy as np\n",
    "\n",
    "a=0; b=1\n",
    "\n",
    "particion = np.linspace(a, b, 100)\n",
    "\n",
    "print(particion)"
   ]
  },
  {
   "cell_type": "markdown",
   "metadata": {},
   "source": [
    "## Configurar la impresión de decimales "
   ]
  },
  {
   "cell_type": "markdown",
   "metadata": {},
   "source": [
    "Si deseas mostrar solo dos decimales al imprimir los valores de un <code>array</code> <code>NumPy</code>, puedes utilizar la función <code>np.set_printoptions()</code> de NumPy y configurar el atributo precision en 2."
   ]
  },
  {
   "cell_type": "code",
   "execution_count": null,
   "metadata": {},
   "outputs": [],
   "source": [
    "np.set_printoptions(precision=8)"
   ]
  },
  {
   "cell_type": "code",
   "execution_count": null,
   "metadata": {},
   "outputs": [],
   "source": [
    "print(particion)"
   ]
  },
  {
   "cell_type": "markdown",
   "metadata": {},
   "source": [
    "Esto **afectará la visualización de todos los arrays NumPy en tu código después de llamar a <code>np.set_printoptions()</code>.** Si deseas restaurar la configuración predeterminada, utiliza <code>np.set_printoptions(precision=8)</code> estableciendo el valor de precision en su valor predeterminado, que es 8."
   ]
  },
  {
   "cell_type": "code",
   "execution_count": null,
   "metadata": {},
   "outputs": [],
   "source": [
    "np.set_printoptions(precision = 8)\n",
    "print(particion)"
   ]
  },
  {
   "cell_type": "markdown",
   "metadata": {},
   "source": [
    "## Gráfica de la función seno y coseno"
   ]
  },
  {
   "cell_type": "code",
   "execution_count": null,
   "metadata": {},
   "outputs": [],
   "source": [
    "import matplotlib.pyplot as plt\n",
    "import numpy as np\n",
    "\n",
    "def funcion(x):\n",
    "    return np.sin(x)\n",
    "\n",
    "x = np.linspace(-2*np.pi, 2*np.pi, 100) \n",
    "y = funcion(x)\n",
    "z = np.cos(x)\n",
    "\n",
    "\n",
    "plt.plot(x, y, label=\"$Sen(x)$\", color='darkcyan', linestyle = '-', linewidth =1  )\n",
    "plt.plot(x, z, label=\"$Cos(x)$\", color='lime', linestyle = '-', linewidth =1  )\n",
    "# Hago un señalización con flecha\n",
    "plt.xlabel('x')\n",
    "plt.ylabel('y')\n",
    "plt.title('Gráfico de la función seno')\n",
    "plt.grid(True)\n",
    "\n",
    "plt.axhline(0, color='black', linewidth=0.5)  # Eje x\n",
    "plt.axvline(0, color='black', linewidth=0.5)  # Eje y\n",
    "\n",
    "plt.legend()\n",
    "# Mostrar el gráfico\n",
    "plt.show()\n"
   ]
  },
  {
   "cell_type": "code",
   "execution_count": null,
   "metadata": {},
   "outputs": [],
   "source": [
    "\n",
    "from numpy import *\n",
    "from matplotlib.pyplot import *\n",
    "\n",
    "# Para graficar familias de curvaspython\n",
    "x=linspace(-5,5,500) \n",
    "fig, ax = subplots() \n",
    "for C in range(-4,4,1): \n",
    "    y=C*exp(-x**2) \n",
    "    ax.plot(x,y,label=\"Para $C=%s$\" %C) \n",
    "    xlim(-5,7) \n",
    "    legend(loc=\"best\")"
   ]
  },
  {
   "cell_type": "code",
   "execution_count": null,
   "metadata": {},
   "outputs": [],
   "source": []
  },
  {
   "cell_type": "code",
   "execution_count": null,
   "metadata": {},
   "outputs": [],
   "source": [
    "import matplotlib.pyplot as plt\n",
    "import numpy as np \n",
    "\n",
    "n = 1000000\n",
    "np.random.seed(1)\n",
    "bines = 100\n",
    "x = np.random.normal(5,0.5,n)\n",
    "\n",
    "plt.hist(x, bins = bines, color = 'b', density = True,  alpha = 0.85, rwidth =0.95)\n",
    "#plt.xticks(list(range(b+1)))\n",
    "#plt.yticks(list(range(0,111,5)))\n",
    "plt.show()"
   ]
  },
  {
   "cell_type": "code",
   "execution_count": null,
   "metadata": {},
   "outputs": [],
   "source": []
  },
  {
   "cell_type": "code",
   "execution_count": null,
   "metadata": {},
   "outputs": [],
   "source": [
    "import matplotlib.pyplot as plt\n",
    "import numpy as np \n",
    "\n",
    "def f(x):\n",
    "    fun = '2*x'    \n",
    "    return eval(fun)\n",
    "\n",
    "x = np.random.uniform(0,10,10)\n",
    "z = np.linspace(0,10,10)\n",
    "\n",
    "plt.plot(z,f(z))\n",
    "plt.scatter(x,f(x))\n",
    "plt.scatter(z,f(z))\n",
    "\n",
    "\n"
   ]
  },
  {
   "cell_type": "code",
   "execution_count": null,
   "metadata": {},
   "outputs": [],
   "source": []
  }
 ],
 "metadata": {
  "kernelspec": {
   "display_name": "base",
   "language": "python",
   "name": "python3"
  },
  "language_info": {
   "codemirror_mode": {
    "name": "ipython",
    "version": 3
   },
   "file_extension": ".py",
   "mimetype": "text/x-python",
   "name": "python",
   "nbconvert_exporter": "python",
   "pygments_lexer": "ipython3",
   "version": "3.9.13"
  },
  "orig_nbformat": 4
 },
 "nbformat": 4,
 "nbformat_minor": 2
}
